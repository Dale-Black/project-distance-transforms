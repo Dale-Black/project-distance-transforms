{
  "nbformat": 4,
  "nbformat_minor": 0,
  "metadata": {
    "colab": {
      "name": "python_dt.ipynb",
      "provenance": []
    },
    "kernelspec": {
      "name": "python3",
      "display_name": "Python 3"
    },
    "language_info": {
      "name": "python"
    },
    "accelerator": "GPU"
  },
  "cells": [
    {
      "cell_type": "markdown",
      "metadata": {
        "id": "NMGznkMpqism"
      },
      "source": [
        "### Import Packages\n"
      ]
    },
    {
      "cell_type": "code",
      "metadata": {
        "id": "gQXi0jGsqOHn"
      },
      "source": [
        "import torch\n",
        "import numpy as np\n",
        "import time\n",
        "from scipy.ndimage import distance_transform_edt as distance\n",
        "from scipy.ndimage import _nd_image"
      ],
      "execution_count": 1,
      "outputs": []
    },
    {
      "cell_type": "code",
      "metadata": {
        "colab": {
          "base_uri": "https://localhost:8080/"
        },
        "id": "M3jq1u3SqmqC",
        "outputId": "0e3cb19d-0bb1-4327-be61-9a71586f79b4"
      },
      "source": [
        "device = torch.device(\"cuda:0\")\n",
        "print(device)"
      ],
      "execution_count": 2,
      "outputs": [
        {
          "output_type": "stream",
          "text": [
            "cuda:0\n"
          ],
          "name": "stdout"
        }
      ]
    },
    {
      "cell_type": "markdown",
      "metadata": {
        "id": "HZORCpWdqpdX"
      },
      "source": [
        "## Benchmarks"
      ]
    },
    {
      "cell_type": "code",
      "metadata": {
        "id": "7t4PRC4yqt5a"
      },
      "source": [
        "dt_mean = []\n",
        "dt_std = []\n",
        "\t\n",
        "dt_GPU_mean = []\n",
        "dt_GPU_std = []\n",
        "\n",
        "dt_times = []\n",
        "dt_GPU_times = []"
      ],
      "execution_count": 3,
      "outputs": []
    },
    {
      "cell_type": "code",
      "metadata": {
        "id": "uarwNS8iqxi6"
      },
      "source": [
        "for n in range(1,1000,100):\n",
        "  # Euclidean Distance CPU\n",
        "  temp_dt_time = []\n",
        "  for i in range(100): #Samples\n",
        "    a = []\n",
        "    for j in range(10): #Evaluations\n",
        "      x1 = torch.randint(0,1,(n,n))\n",
        "      times1 = time.time()\n",
        "      tfm1 = torch.from_numpy(distance(x1))\n",
        "      a.append(time.time()-times1)\n",
        "    temp_dt_time.append(torch.mean(torch.FloatTensor(a)))\n",
        "  dt_times.append(temp_dt_time)\n",
        "\n",
        "for n in range(1,1000,100):\n",
        "  # Euclidean Distance GPU\n",
        "  temp_dt_GPU_time = []\n",
        "  for i in range(100): #Samples\n",
        "    b = []\n",
        "    for j in range(10): #Evaluations\n",
        "      x2 = torch.randint(0,1,(n,n)).to(device)\n",
        "      times2 = time.time()\n",
        "      tfm2 = torch.from_numpy(distance(x2.cpu().numpy())).to(device)  \n",
        "      b.append(time.time()-times2)\n",
        "    temp_dt_GPU_time.append(torch.mean(torch.FloatTensor(b)))\n",
        "  dt_GPU_times.append(temp_dt_GPU_time)"
      ],
      "execution_count": 4,
      "outputs": []
    },
    {
      "cell_type": "code",
      "metadata": {
        "id": "byFKe1nlzFA8"
      },
      "source": [
        "for i in dt_times:\n",
        "  dt_mean.append(torch.mean(torch.FloatTensor(i)).numpy().tolist())\n",
        "  dt_std.append(torch.std(torch.FloatTensor(i), unbiased = False).numpy().tolist())"
      ],
      "execution_count": 5,
      "outputs": []
    },
    {
      "cell_type": "code",
      "metadata": {
        "id": "J874jT4SzFDo"
      },
      "source": [
        "for i in dt_GPU_times:\n",
        "  dt_GPU_mean.append(torch.mean(torch.FloatTensor(i)).numpy().tolist())\n",
        "  dt_GPU_std.append(torch.std(torch.FloatTensor(i), unbiased = False).numpy().tolist())"
      ],
      "execution_count": 6,
      "outputs": []
    },
    {
      "cell_type": "markdown",
      "metadata": {
        "id": "gQJJzWlFzhIv"
      },
      "source": [
        "## Save"
      ]
    },
    {
      "cell_type": "code",
      "metadata": {
        "id": "dEMka94uzfmf"
      },
      "source": [
        "import pandas as pd"
      ],
      "execution_count": 7,
      "outputs": []
    },
    {
      "cell_type": "code",
      "metadata": {
        "id": "MgHczlpwzgmp"
      },
      "source": [
        "dt_mean = np.array(dt_mean)\n",
        "dt_GPU_mean = np.array(dt_GPU_mean)\n",
        "dt_std = np.array(dt_std)\n",
        "dt_GPU_std = np.array(dt_GPU_std)"
      ],
      "execution_count": 8,
      "outputs": []
    },
    {
      "cell_type": "code",
      "metadata": {
        "id": "cOga857Hz0W4"
      },
      "source": [
        "data = {'dt_mean': dt_mean, 'dt_GPU_mean': dt_GPU_mean, 'dt_std': dt_std, 'dt_GPU_std':dt_GPU_std}"
      ],
      "execution_count": 9,
      "outputs": []
    },
    {
      "cell_type": "code",
      "metadata": {
        "id": "gGycv12z0EgE"
      },
      "source": [
        "dataframe = pd.DataFrame(data)"
      ],
      "execution_count": 10,
      "outputs": []
    },
    {
      "cell_type": "code",
      "metadata": {
        "id": "PnZwI5im0F8K"
      },
      "source": [
        "dataframe.to_csv('python_dt.csv')"
      ],
      "execution_count": 11,
      "outputs": []
    },
    {
      "cell_type": "code",
      "metadata": {
        "colab": {
          "base_uri": "https://localhost:8080/",
          "height": 359
        },
        "id": "Le0p5TXZ0KoT",
        "outputId": "a08621b5-eff1-4a9b-bca3-8f067c94d441"
      },
      "source": [
        "dataframe"
      ],
      "execution_count": 12,
      "outputs": [
        {
          "output_type": "execute_result",
          "data": {
            "text/html": [
              "<div>\n",
              "<style scoped>\n",
              "    .dataframe tbody tr th:only-of-type {\n",
              "        vertical-align: middle;\n",
              "    }\n",
              "\n",
              "    .dataframe tbody tr th {\n",
              "        vertical-align: top;\n",
              "    }\n",
              "\n",
              "    .dataframe thead th {\n",
              "        text-align: right;\n",
              "    }\n",
              "</style>\n",
              "<table border=\"1\" class=\"dataframe\">\n",
              "  <thead>\n",
              "    <tr style=\"text-align: right;\">\n",
              "      <th></th>\n",
              "      <th>dt_mean</th>\n",
              "      <th>dt_GPU_mean</th>\n",
              "      <th>dt_std</th>\n",
              "      <th>dt_GPU_std</th>\n",
              "    </tr>\n",
              "  </thead>\n",
              "  <tbody>\n",
              "    <tr>\n",
              "      <th>0</th>\n",
              "      <td>0.000057</td>\n",
              "      <td>0.000068</td>\n",
              "      <td>0.000045</td>\n",
              "      <td>0.000012</td>\n",
              "    </tr>\n",
              "    <tr>\n",
              "      <th>1</th>\n",
              "      <td>0.000934</td>\n",
              "      <td>0.000857</td>\n",
              "      <td>0.000273</td>\n",
              "      <td>0.000071</td>\n",
              "    </tr>\n",
              "    <tr>\n",
              "      <th>2</th>\n",
              "      <td>0.003015</td>\n",
              "      <td>0.003481</td>\n",
              "      <td>0.000181</td>\n",
              "      <td>0.000134</td>\n",
              "    </tr>\n",
              "    <tr>\n",
              "      <th>3</th>\n",
              "      <td>0.006780</td>\n",
              "      <td>0.007379</td>\n",
              "      <td>0.000331</td>\n",
              "      <td>0.000215</td>\n",
              "    </tr>\n",
              "    <tr>\n",
              "      <th>4</th>\n",
              "      <td>0.012336</td>\n",
              "      <td>0.012758</td>\n",
              "      <td>0.000335</td>\n",
              "      <td>0.000366</td>\n",
              "    </tr>\n",
              "    <tr>\n",
              "      <th>5</th>\n",
              "      <td>0.019122</td>\n",
              "      <td>0.021332</td>\n",
              "      <td>0.000715</td>\n",
              "      <td>0.000662</td>\n",
              "    </tr>\n",
              "    <tr>\n",
              "      <th>6</th>\n",
              "      <td>0.027148</td>\n",
              "      <td>0.031114</td>\n",
              "      <td>0.001104</td>\n",
              "      <td>0.000953</td>\n",
              "    </tr>\n",
              "    <tr>\n",
              "      <th>7</th>\n",
              "      <td>0.037865</td>\n",
              "      <td>0.040692</td>\n",
              "      <td>0.001716</td>\n",
              "      <td>0.001169</td>\n",
              "    </tr>\n",
              "    <tr>\n",
              "      <th>8</th>\n",
              "      <td>0.048713</td>\n",
              "      <td>0.053862</td>\n",
              "      <td>0.001957</td>\n",
              "      <td>0.002238</td>\n",
              "    </tr>\n",
              "    <tr>\n",
              "      <th>9</th>\n",
              "      <td>0.063852</td>\n",
              "      <td>0.068278</td>\n",
              "      <td>0.002142</td>\n",
              "      <td>0.002378</td>\n",
              "    </tr>\n",
              "  </tbody>\n",
              "</table>\n",
              "</div>"
            ],
            "text/plain": [
              "    dt_mean  dt_GPU_mean    dt_std  dt_GPU_std\n",
              "0  0.000057     0.000068  0.000045    0.000012\n",
              "1  0.000934     0.000857  0.000273    0.000071\n",
              "2  0.003015     0.003481  0.000181    0.000134\n",
              "3  0.006780     0.007379  0.000331    0.000215\n",
              "4  0.012336     0.012758  0.000335    0.000366\n",
              "5  0.019122     0.021332  0.000715    0.000662\n",
              "6  0.027148     0.031114  0.001104    0.000953\n",
              "7  0.037865     0.040692  0.001716    0.001169\n",
              "8  0.048713     0.053862  0.001957    0.002238\n",
              "9  0.063852     0.068278  0.002142    0.002378"
            ]
          },
          "metadata": {
            "tags": []
          },
          "execution_count": 12
        }
      ]
    },
    {
      "cell_type": "code",
      "metadata": {
        "id": "axd9Qrlu0MED"
      },
      "source": [
        "x = [i for i in range(1, 1000, 100)]"
      ],
      "execution_count": 13,
      "outputs": []
    },
    {
      "cell_type": "code",
      "metadata": {
        "id": "kWB634UX0P3v"
      },
      "source": [
        "import matplotlib.pyplot as plt"
      ],
      "execution_count": 14,
      "outputs": []
    },
    {
      "cell_type": "code",
      "metadata": {
        "colab": {
          "base_uri": "https://localhost:8080/",
          "height": 769
        },
        "id": "wbaWF7tn0R3h",
        "outputId": "629e0afa-9357-4e06-f4a7-e7826ba0264a"
      },
      "source": [
        "plt.figure(figsize=(13, 13))\n",
        "plt.plot(x, dataframe['dt_mean'], label = 'dt_mean')\n",
        "plt.plot(x, dataframe['dt_GPU_mean'], label = 'dt_GPU_mean')\n",
        "plt.xlabel('Array_Size')\n",
        "plt.ylabel('Time (seconds)')\n",
        "plt.legend()\n",
        "plt.show()"
      ],
      "execution_count": 17,
      "outputs": [
        {
          "output_type": "display_data",
          "data": {
            "image/png": "[encoded data removed]",
            "text/plain": [
              "<Figure size 936x936 with 1 Axes>"
            ]
          },
          "metadata": {
            "tags": [],
            "needs_background": "light"
          }
        }
      ]
    }
  ]
}