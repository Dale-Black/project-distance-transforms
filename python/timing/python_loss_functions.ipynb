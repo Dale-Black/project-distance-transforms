{
  "nbformat": 4,
  "nbformat_minor": 0,
  "metadata": {
    "colab": {
      "name": "python_loss_functions.ipynb",
      "provenance": [],
      "collapsed_sections": []
    },
    "kernelspec": {
      "name": "python3",
      "display_name": "Python 3"
    },
    "language_info": {
      "name": "python"
    },
    "accelerator": "GPU"
  },
  "cells": [
    {
      "cell_type": "markdown",
      "metadata": {
        "id": "c4YEcDwgizKu"
      },
      "source": [
        "## Import packages"
      ]
    },
    {
      "cell_type": "code",
      "metadata": {
        "id": "FUeJ-AFNicKD"
      },
      "source": [
        "import torch\n",
        "import numpy as np\n",
        "import time\n",
        "from scipy.ndimage import distance_transform_edt as distance\n",
        "from scipy.ndimage import _nd_image"
      ],
      "execution_count": 1,
      "outputs": []
    },
    {
      "cell_type": "code",
      "metadata": {
        "id": "MnZ93kizphQ7",
        "colab": {
          "base_uri": "https://localhost:8080/"
        },
        "outputId": "bd771e74-9e6f-49e9-f9e4-08c5dc158463"
      },
      "source": [
        "device = torch.device(\"cuda:0\")\n",
        "print(device)"
      ],
      "execution_count": 2,
      "outputs": [
        {
          "output_type": "stream",
          "text": [
            "cuda:0\n"
          ],
          "name": "stdout"
        }
      ]
    },
    {
      "cell_type": "markdown",
      "metadata": {
        "id": "k-lqe75di1os"
      },
      "source": [
        "# Loss Functions"
      ]
    },
    {
      "cell_type": "code",
      "metadata": {
        "id": "txD1IQYMEd1u"
      },
      "source": [
        "def dice_loss(score, target):\n",
        "    target = target.float()\n",
        "    smooth = 1e-5\n",
        "    intersect = torch.sum(score * target)\n",
        "    y_sum = torch.sum(target * target)\n",
        "    z_sum = torch.sum(score * score)\n",
        "    loss = (2 * intersect + smooth) / (z_sum + y_sum + smooth)\n",
        "    loss = 1 - loss\n",
        "    return loss\n",
        "\n"
      ],
      "execution_count": 3,
      "outputs": []
    },
    {
      "cell_type": "code",
      "metadata": {
        "id": "VeuTs25pEgnK"
      },
      "source": [
        "def hd_loss(seg_soft, gt, seg_dtm, gt_dtm):\n",
        "    \"\"\"\n",
        "    compute huasdorff distance loss for binary segmentation\n",
        "    input: seg_soft: softmax results,  shape=(b,2,x,y,z)\n",
        "           gt: ground truth, shape=(b,x,y,z)\n",
        "           seg_dtm: segmentation distance transform map; shape=(b,2,x,y,z)\n",
        "           gt_dtm: ground truth distance transform map; shape=(b,2,x,y,z)\n",
        "    output: boundary_loss; sclar\n",
        "    \"\"\"\n",
        "\n",
        "    delta_s = (seg_soft - gt) ** 2\n",
        "    s_dtm = seg_dtm ** 2\n",
        "    g_dtm = gt_dtm ** 2\n",
        "    dtm = s_dtm + g_dtm\n",
        "    multipled = torch.einsum('xy, xy->xy', delta_s, dtm)\n",
        "    hd_loss = multipled.mean()\n",
        "\n",
        "    return hd_loss"
      ],
      "execution_count": 4,
      "outputs": []
    },
    {
      "cell_type": "markdown",
      "metadata": {
        "id": "VnODxVk4-ft0"
      },
      "source": [
        "# Benchmarks"
      ]
    },
    {
      "cell_type": "code",
      "metadata": {
        "id": "RoxFJiEd-o21"
      },
      "source": [
        "hd_mean = []\n",
        "hd_std = []\n",
        "\t\n",
        "dice_mean = []\n",
        "dice_std = []\n",
        "\t\n",
        "hd_GPU_mean = []\n",
        "hd_GPU_std = []\n",
        "\t\n",
        "dice_GPU_mean = []\n",
        "dice_GPU_std = []\n",
        "\n",
        "hd_times = []\n",
        "dice_times = []\n",
        "hd_GPU_times = []\n",
        "dice_GPU_times = []"
      ],
      "execution_count": 5,
      "outputs": []
    },
    {
      "cell_type": "code",
      "metadata": {
        "id": "zae9TGZDvHbY"
      },
      "source": [
        "for n in range(1,1000,100):\n",
        "  # HD CPU\n",
        "  temp_hd_time = []\n",
        "  for i in range(100): #Samples\n",
        "    a = []\n",
        "    for j in range(10): #Evaluations\n",
        "      x1 = torch.randint(0,1,(n,n))\n",
        "      tfm1 = torch.from_numpy(distance(x1))\n",
        "      times1 = time.time()\n",
        "      hd = hd_loss(x1, x1, tfm1, tfm1)\n",
        "      a.append(time.time()-times1)\n",
        "    temp_hd_time.append(torch.mean(torch.FloatTensor(a)))\n",
        "  hd_times.append(temp_hd_time)\n",
        "\n",
        "for n in range(1,1000,100):\n",
        "  # Dice CPU\n",
        "  temp_dice_time = []\n",
        "  for i in range(100): #Samples\n",
        "    b = []\n",
        "    for j in range(10): #Evaluations\n",
        "      x2 = torch.randint(0,1,(n,n))\n",
        "      times2 = time.time()\n",
        "      dice = dice_loss(x2, x2)\n",
        "      b.append(time.time()-times2)\n",
        "    temp_dice_time.append(torch.mean(torch.FloatTensor(b)))\n",
        "  dice_times.append(temp_dice_time)\n",
        "  \n",
        "for n in range(1,1000,100):\n",
        "  # HD GPU\n",
        "  temp_hd_GPU_time = []\n",
        "  for i in range(100): #Samples\n",
        "    c = []\n",
        "    for j in range(10): #Evaluations\n",
        "      x3 = torch.randint(0,1,(n,n)).to(device)\n",
        "      tfm3 = torch.from_numpy(distance(x3.cpu().numpy())).to(device)\n",
        "      times3 = time.time()\n",
        "      hd_gpu = hd_loss(x3, x3, tfm3, tfm3)\n",
        "      c.append(time.time()-times3)\n",
        "    temp_hd_GPU_time.append(torch.mean(torch.FloatTensor(c)))\n",
        "  hd_GPU_times.append(temp_hd_GPU_time)\n",
        "\n",
        "for n in range(1,1000,100):\n",
        "  # Dice GPU\n",
        "  temp_dice_GPU_time = []\n",
        "  for i in range(100): #Samples\n",
        "    d = []\n",
        "    for j in range(10): #Evaluations\n",
        "      x4 = torch.randint(0,1,(n,n)).to(device)\n",
        "      times4 = time.time()\n",
        "      dice_gpu = dice_loss(x4, x4)\n",
        "      d.append(time.time()-times4)\n",
        "    temp_dice_GPU_time.append(torch.mean(torch.FloatTensor(d)))\n",
        "  dice_GPU_times.append(temp_dice_GPU_time)\n"
      ],
      "execution_count": 6,
      "outputs": []
    },
    {
      "cell_type": "code",
      "metadata": {
        "id": "v0UhJ1tdL0SZ"
      },
      "source": [
        "for i in hd_times:\n",
        "  hd_mean.append(torch.mean(torch.FloatTensor(i)).numpy().tolist())\n",
        "  hd_std.append(torch.std(torch.FloatTensor(i), unbiased = False).numpy().tolist())"
      ],
      "execution_count": 7,
      "outputs": []
    },
    {
      "cell_type": "code",
      "metadata": {
        "id": "JcQMRi6uNA3h"
      },
      "source": [
        "for i in dice_times:\n",
        "  dice_mean.append(torch.mean(torch.FloatTensor(i)).numpy().tolist())\n",
        "  dice_std.append(torch.std(torch.FloatTensor(i), unbiased = False).numpy().tolist())"
      ],
      "execution_count": 8,
      "outputs": []
    },
    {
      "cell_type": "code",
      "metadata": {
        "id": "ezT7RYDzWhnE"
      },
      "source": [
        "for i in hd_GPU_times:\n",
        "  hd_GPU_mean.append(torch.mean(torch.FloatTensor(i)).numpy().tolist())\n",
        "  hd_GPU_std.append(torch.std(torch.FloatTensor(i), unbiased = False).numpy().tolist())"
      ],
      "execution_count": 9,
      "outputs": []
    },
    {
      "cell_type": "code",
      "metadata": {
        "id": "9X9hrQC7Whtc"
      },
      "source": [
        "for i in dice_GPU_times:\n",
        "  dice_GPU_mean.append(torch.mean(torch.FloatTensor(i)).numpy().tolist())\n",
        "  dice_GPU_std.append(torch.std(torch.FloatTensor(i), unbiased = False).numpy().tolist())"
      ],
      "execution_count": 10,
      "outputs": []
    },
    {
      "cell_type": "markdown",
      "metadata": {
        "id": "-6k2_Quvqa68"
      },
      "source": [
        "### Save"
      ]
    },
    {
      "cell_type": "code",
      "metadata": {
        "id": "qimwNUfNY7sL"
      },
      "source": [
        "import pandas as pd"
      ],
      "execution_count": 11,
      "outputs": []
    },
    {
      "cell_type": "code",
      "metadata": {
        "id": "FKC1D7OlY5hQ"
      },
      "source": [
        "hd_mean = np.array(hd_mean)\n",
        "dice_mean = np.array(dice_mean)\n",
        "hd_GPU_mean = np.array(hd_GPU_mean)\n",
        "dice_GPU_mean = np.array(dice_GPU_mean)\n",
        "hd_std = np.array(hd_std)\n",
        "dice_std = np.array(dice_std)\n",
        "hd_GPU_std = np.array(hd_GPU_std)\n",
        "dice_GPU_std = np.array(dice_GPU_std)"
      ],
      "execution_count": 12,
      "outputs": []
    },
    {
      "cell_type": "code",
      "metadata": {
        "id": "bc1c3RM2qpoH"
      },
      "source": [
        "data = {'hd_mean': hd_mean, 'dice_mean': dice_mean, 'hd_GPU_mean': hd_GPU_mean, 'dice_GPU_mean': dice_GPU_mean, 'hd_std': hd_std, 'dice_std': dice_std, 'hd_GPU_std': hd_GPU_std, 'dice_GPU_std':dice_GPU_std}"
      ],
      "execution_count": 13,
      "outputs": []
    },
    {
      "cell_type": "code",
      "metadata": {
        "id": "sJ3bkbTsrtZ8"
      },
      "source": [
        "dataframe = pd.DataFrame(data)"
      ],
      "execution_count": 14,
      "outputs": []
    },
    {
      "cell_type": "code",
      "metadata": {
        "id": "tYfQkUZesARW"
      },
      "source": [
        "dataframe.to_csv('python_loss_functions.csv')"
      ],
      "execution_count": 15,
      "outputs": []
    },
    {
      "cell_type": "code",
      "metadata": {
        "colab": {
          "base_uri": "https://localhost:8080/",
          "height": 359
        },
        "id": "dzspsuWwUPRK",
        "outputId": "d737765c-1344-4e2b-bc8c-939a6d5de78a"
      },
      "source": [
        "dataframe"
      ],
      "execution_count": 16,
      "outputs": [
        {
          "output_type": "execute_result",
          "data": {
            "text/html": [
              "<div>\n",
              "<style scoped>\n",
              "    .dataframe tbody tr th:only-of-type {\n",
              "        vertical-align: middle;\n",
              "    }\n",
              "\n",
              "    .dataframe tbody tr th {\n",
              "        vertical-align: top;\n",
              "    }\n",
              "\n",
              "    .dataframe thead th {\n",
              "        text-align: right;\n",
              "    }\n",
              "</style>\n",
              "<table border=\"1\" class=\"dataframe\">\n",
              "  <thead>\n",
              "    <tr style=\"text-align: right;\">\n",
              "      <th></th>\n",
              "      <th>hd_mean</th>\n",
              "      <th>dice_mean</th>\n",
              "      <th>hd_GPU_mean</th>\n",
              "      <th>dice_GPU_mean</th>\n",
              "      <th>hd_std</th>\n",
              "      <th>dice_std</th>\n",
              "      <th>hd_GPU_std</th>\n",
              "      <th>dice_GPU_std</th>\n",
              "    </tr>\n",
              "  </thead>\n",
              "  <tbody>\n",
              "    <tr>\n",
              "      <th>0</th>\n",
              "      <td>0.000153</td>\n",
              "      <td>0.000059</td>\n",
              "      <td>0.000148</td>\n",
              "      <td>0.000121</td>\n",
              "      <td>0.001069</td>\n",
              "      <td>0.000079</td>\n",
              "      <td>0.000494</td>\n",
              "      <td>0.000079</td>\n",
              "    </tr>\n",
              "    <tr>\n",
              "      <th>1</th>\n",
              "      <td>0.000143</td>\n",
              "      <td>0.000087</td>\n",
              "      <td>0.000127</td>\n",
              "      <td>0.000116</td>\n",
              "      <td>0.000027</td>\n",
              "      <td>0.000010</td>\n",
              "      <td>0.000014</td>\n",
              "      <td>0.000013</td>\n",
              "    </tr>\n",
              "    <tr>\n",
              "      <th>2</th>\n",
              "      <td>0.000593</td>\n",
              "      <td>0.000258</td>\n",
              "      <td>0.000137</td>\n",
              "      <td>0.000147</td>\n",
              "      <td>0.000051</td>\n",
              "      <td>0.000029</td>\n",
              "      <td>0.000012</td>\n",
              "      <td>0.000014</td>\n",
              "    </tr>\n",
              "    <tr>\n",
              "      <th>3</th>\n",
              "      <td>0.001185</td>\n",
              "      <td>0.000628</td>\n",
              "      <td>0.000149</td>\n",
              "      <td>0.000162</td>\n",
              "      <td>0.000040</td>\n",
              "      <td>0.000040</td>\n",
              "      <td>0.000014</td>\n",
              "      <td>0.000015</td>\n",
              "    </tr>\n",
              "    <tr>\n",
              "      <th>4</th>\n",
              "      <td>0.002015</td>\n",
              "      <td>0.001031</td>\n",
              "      <td>0.000161</td>\n",
              "      <td>0.000182</td>\n",
              "      <td>0.000062</td>\n",
              "      <td>0.000052</td>\n",
              "      <td>0.000009</td>\n",
              "      <td>0.000010</td>\n",
              "    </tr>\n",
              "    <tr>\n",
              "      <th>5</th>\n",
              "      <td>0.003192</td>\n",
              "      <td>0.001512</td>\n",
              "      <td>0.000160</td>\n",
              "      <td>0.000187</td>\n",
              "      <td>0.000098</td>\n",
              "      <td>0.000059</td>\n",
              "      <td>0.000016</td>\n",
              "      <td>0.000021</td>\n",
              "    </tr>\n",
              "    <tr>\n",
              "      <th>6</th>\n",
              "      <td>0.004560</td>\n",
              "      <td>0.002082</td>\n",
              "      <td>0.000190</td>\n",
              "      <td>0.000191</td>\n",
              "      <td>0.000192</td>\n",
              "      <td>0.000080</td>\n",
              "      <td>0.000014</td>\n",
              "      <td>0.000012</td>\n",
              "    </tr>\n",
              "    <tr>\n",
              "      <th>7</th>\n",
              "      <td>0.005828</td>\n",
              "      <td>0.002832</td>\n",
              "      <td>0.000218</td>\n",
              "      <td>0.000195</td>\n",
              "      <td>0.000261</td>\n",
              "      <td>0.000086</td>\n",
              "      <td>0.000011</td>\n",
              "      <td>0.000018</td>\n",
              "    </tr>\n",
              "    <tr>\n",
              "      <th>8</th>\n",
              "      <td>0.008228</td>\n",
              "      <td>0.003662</td>\n",
              "      <td>0.000261</td>\n",
              "      <td>0.000190</td>\n",
              "      <td>0.000423</td>\n",
              "      <td>0.000093</td>\n",
              "      <td>0.000012</td>\n",
              "      <td>0.000020</td>\n",
              "    </tr>\n",
              "    <tr>\n",
              "      <th>9</th>\n",
              "      <td>0.010824</td>\n",
              "      <td>0.004768</td>\n",
              "      <td>0.000273</td>\n",
              "      <td>0.000200</td>\n",
              "      <td>0.000398</td>\n",
              "      <td>0.000156</td>\n",
              "      <td>0.000012</td>\n",
              "      <td>0.000019</td>\n",
              "    </tr>\n",
              "  </tbody>\n",
              "</table>\n",
              "</div>"
            ],
            "text/plain": [
              "    hd_mean  dice_mean  hd_GPU_mean  ...  dice_std  hd_GPU_std  dice_GPU_std\n",
              "0  0.000153   0.000059     0.000148  ...  0.000079    0.000494      0.000079\n",
              "1  0.000143   0.000087     0.000127  ...  0.000010    0.000014      0.000013\n",
              "2  0.000593   0.000258     0.000137  ...  0.000029    0.000012      0.000014\n",
              "3  0.001185   0.000628     0.000149  ...  0.000040    0.000014      0.000015\n",
              "4  0.002015   0.001031     0.000161  ...  0.000052    0.000009      0.000010\n",
              "5  0.003192   0.001512     0.000160  ...  0.000059    0.000016      0.000021\n",
              "6  0.004560   0.002082     0.000190  ...  0.000080    0.000014      0.000012\n",
              "7  0.005828   0.002832     0.000218  ...  0.000086    0.000011      0.000018\n",
              "8  0.008228   0.003662     0.000261  ...  0.000093    0.000012      0.000020\n",
              "9  0.010824   0.004768     0.000273  ...  0.000156    0.000012      0.000019\n",
              "\n",
              "[10 rows x 8 columns]"
            ]
          },
          "metadata": {
            "tags": []
          },
          "execution_count": 16
        }
      ]
    },
    {
      "cell_type": "code",
      "metadata": {
        "id": "Gi6uQ_QxWyIP"
      },
      "source": [
        "x = [i for i in range(1, 1000, 100)]"
      ],
      "execution_count": 17,
      "outputs": []
    },
    {
      "cell_type": "code",
      "metadata": {
        "id": "XnqfyU6b1f3r"
      },
      "source": [
        "import matplotlib.pyplot as plt\n"
      ],
      "execution_count": 18,
      "outputs": []
    },
    {
      "cell_type": "code",
      "metadata": {
        "colab": {
          "base_uri": "https://localhost:8080/",
          "height": 769
        },
        "id": "I2XEifHG1sDd",
        "outputId": "54c687ab-7724-4ae4-d90f-819e9e73e46d"
      },
      "source": [
        "plt.figure(figsize=(13, 13))\n",
        "plt.plot(x, dataframe['hd_mean'], label = 'hd_mean')\n",
        "plt.plot(x, dataframe['dice_mean'], label = 'dice_mean')\n",
        "plt.plot(x, dataframe['hd_GPU_mean'], label = 'hd_GPU_mean')\n",
        "plt.plot(x, dataframe['dice_GPU_mean'], label = 'dice_GPU_mean')\n",
        "plt.xlabel('Array_Size')\n",
        "plt.ylabel('Time (seconds)')\n",
        "plt.legend()\n",
        "plt.show()"
      ],
      "execution_count": 19,
      "outputs": [
        {
          "output_type": "display_data",
          "data": {
            "image/png": "[encoded data removed]",
            "text/plain": [
              "<Figure size 936x936 with 1 Axes>"
            ]
          },
          "metadata": {
            "tags": [],
            "needs_background": "light"
          }
        }
      ]
    },
    {
      "cell_type": "code",
      "metadata": {
        "id": "YIZoA-lU4mwa"
      },
      "source": [
        ""
      ],
      "execution_count": 19,
      "outputs": []
    }
  ]
}