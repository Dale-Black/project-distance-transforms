{
 "cells": [
  {
   "cell_type": "markdown",
   "metadata": {},
   "source": [
    "## Setting up General"
   ]
  },
  {
   "cell_type": "code",
   "execution_count": 2,
   "metadata": {},
   "outputs": [
    {
     "data": {
      "text/plain": [
       "@bind (macro with 1 method)"
      ]
     },
     "metadata": {},
     "output_type": "display_data"
    }
   ],
   "source": [
    "using InteractiveUtils\n",
    "\n",
    "macro bind(def, element)\n",
    "    quote\n",
    "        local el = $(esc(element))\n",
    "        global $(esc(def)) = Core.applicable(Base.get, el) ? Base.get(el) : missing\n",
    "        el\n",
    "    end\n",
    "end"
   ]
  },
  {
   "cell_type": "code",
   "execution_count": 39,
   "metadata": {},
   "outputs": [
    {
     "name": "stderr",
     "output_type": "stream",
     "text": [
      "\u001b[32m\u001b[1m    Updating\u001b[22m\u001b[39m registry at `~/.julia/registries/General.toml`\n",
      "\u001b[32m\u001b[1m   Resolving\u001b[22m\u001b[39m package versions...\n",
      "\u001b[32m\u001b[1m  No Changes\u001b[22m\u001b[39m to `~/Downloads/project-distance-transforms/julia/timing/D:\\wljulia/Project.toml`\n",
      "\u001b[32m\u001b[1m  No Changes\u001b[22m\u001b[39m to `~/Downloads/project-distance-transforms/julia/timing/D:\\wljulia/Manifest.toml`\n",
      "\u001b[32m\u001b[1m   Resolving\u001b[22m\u001b[39m package versions...\n",
      "\u001b[32m\u001b[1m  No Changes\u001b[22m\u001b[39m to `~/Downloads/project-distance-transforms/julia/timing/D:\\wljulia/Project.toml`\n",
      "\u001b[32m\u001b[1m  No Changes\u001b[22m\u001b[39m to `~/Downloads/project-distance-transforms/julia/timing/D:\\wljulia/Manifest.toml`\n",
      "\u001b[32m\u001b[1m   Resolving\u001b[22m\u001b[39m package versions...\n",
      "\u001b[32m\u001b[1m  No Changes\u001b[22m\u001b[39m to `~/Downloads/project-distance-transforms/julia/timing/D:\\wljulia/Project.toml`\n",
      "\u001b[32m\u001b[1m  No Changes\u001b[22m\u001b[39m to `~/Downloads/project-distance-transforms/julia/timing/D:\\wljulia/Manifest.toml`\n",
      "\u001b[32m\u001b[1m   Resolving\u001b[22m\u001b[39m package versions...\n",
      "\u001b[32m\u001b[1m  No Changes\u001b[22m\u001b[39m to `~/Downloads/project-distance-transforms/julia/timing/D:\\wljulia/Project.toml`\n",
      "\u001b[32m\u001b[1m  No Changes\u001b[22m\u001b[39m to `~/Downloads/project-distance-transforms/julia/timing/D:\\wljulia/Manifest.toml`\n",
      "\u001b[32m\u001b[1m   Resolving\u001b[22m\u001b[39m package versions...\n",
      "\u001b[32m\u001b[1m  No Changes\u001b[22m\u001b[39m to `~/Downloads/project-distance-transforms/julia/timing/D:\\wljulia/Project.toml`\n",
      "\u001b[32m\u001b[1m  No Changes\u001b[22m\u001b[39m to `~/Downloads/project-distance-transforms/julia/timing/D:\\wljulia/Manifest.toml`\n",
      "\u001b[32m\u001b[1m   Resolving\u001b[22m\u001b[39m package versions...\n",
      "\u001b[32m\u001b[1m  No Changes\u001b[22m\u001b[39m to `~/Downloads/project-distance-transforms/julia/timing/D:\\wljulia/Project.toml`\n",
      "\u001b[32m\u001b[1m  No Changes\u001b[22m\u001b[39m to `~/Downloads/project-distance-transforms/julia/timing/D:\\wljulia/Manifest.toml`\n",
      "\u001b[32m\u001b[1m   Resolving\u001b[22m\u001b[39m package versions...\n",
      "\u001b[32m\u001b[1m  No Changes\u001b[22m\u001b[39m to `~/Downloads/project-distance-transforms/julia/timing/D:\\wljulia/Project.toml`\n",
      "\u001b[32m\u001b[1m  No Changes\u001b[22m\u001b[39m to `~/Downloads/project-distance-transforms/julia/timing/D:\\wljulia/Manifest.toml`\n",
      "\u001b[32m\u001b[1m   Resolving\u001b[22m\u001b[39m package versions...\n",
      "\u001b[32m\u001b[1m  No Changes\u001b[22m\u001b[39m to `~/Downloads/project-distance-transforms/julia/timing/D:\\wljulia/Project.toml`\n",
      "\u001b[32m\u001b[1m  No Changes\u001b[22m\u001b[39m to `~/Downloads/project-distance-transforms/julia/timing/D:\\wljulia/Manifest.toml`\n",
      "\u001b[32m\u001b[1m   Resolving\u001b[22m\u001b[39m package versions...\n",
      "\u001b[32m\u001b[1m  No Changes\u001b[22m\u001b[39m to `~/Downloads/project-distance-transforms/julia/timing/D:\\wljulia/Project.toml`\n",
      "\u001b[32m\u001b[1m  No Changes\u001b[22m\u001b[39m to `~/Downloads/project-distance-transforms/julia/timing/D:\\wljulia/Manifest.toml`\n",
      "\u001b[32m\u001b[1m   Resolving\u001b[22m\u001b[39m package versions...\n",
      "\u001b[32m\u001b[1m  No Changes\u001b[22m\u001b[39m to `~/Downloads/project-distance-transforms/julia/timing/D:\\wljulia/Project.toml`\n",
      "\u001b[32m\u001b[1m  No Changes\u001b[22m\u001b[39m to `~/Downloads/project-distance-transforms/julia/timing/D:\\wljulia/Manifest.toml`\n",
      "\u001b[32m\u001b[1m   Resolving\u001b[22m\u001b[39m package versions...\n",
      "\u001b[32m\u001b[1m  No Changes\u001b[22m\u001b[39m to `~/Downloads/project-distance-transforms/julia/timing/D:\\wljulia/Project.toml`\n",
      "\u001b[32m\u001b[1m  No Changes\u001b[22m\u001b[39m to `~/Downloads/project-distance-transforms/julia/timing/D:\\wljulia/Manifest.toml`\n",
      "\u001b[32m\u001b[1m   Resolving\u001b[22m\u001b[39m package versions...\n",
      "\u001b[32m\u001b[1m  No Changes\u001b[22m\u001b[39m to `~/Downloads/project-distance-transforms/julia/timing/D:\\wljulia/Project.toml`\n",
      "\u001b[32m\u001b[1m  No Changes\u001b[22m\u001b[39m to `~/Downloads/project-distance-transforms/julia/timing/D:\\wljulia/Manifest.toml`\n",
      "\u001b[32m\u001b[1m   Resolving\u001b[22m\u001b[39m package versions...\n",
      "\u001b[32m\u001b[1m  No Changes\u001b[22m\u001b[39m to `~/Downloads/project-distance-transforms/julia/timing/D:\\wljulia/Project.toml`\n",
      "\u001b[32m\u001b[1m  No Changes\u001b[22m\u001b[39m to `~/Downloads/project-distance-transforms/julia/timing/D:\\wljulia/Manifest.toml`\n",
      "\u001b[32m\u001b[1m   Resolving\u001b[22m\u001b[39m package versions...\n",
      "\u001b[32m\u001b[1m  No Changes\u001b[22m\u001b[39m to `~/Downloads/project-distance-transforms/julia/timing/D:\\wljulia/Project.toml`\n",
      "\u001b[32m\u001b[1m  No Changes\u001b[22m\u001b[39m to `~/Downloads/project-distance-transforms/julia/timing/D:\\wljulia/Manifest.toml`\n",
      "\u001b[32m\u001b[1m   Resolving\u001b[22m\u001b[39m package versions...\n",
      "\u001b[32m\u001b[1m  No Changes\u001b[22m\u001b[39m to `~/Downloads/project-distance-transforms/julia/timing/D:\\wljulia/Project.toml`\n",
      "\u001b[32m\u001b[1m  No Changes\u001b[22m\u001b[39m to `~/Downloads/project-distance-transforms/julia/timing/D:\\wljulia/Manifest.toml`\n",
      "\u001b[32m\u001b[1m   Resolving\u001b[22m\u001b[39m package versions...\n",
      "\u001b[32m\u001b[1m  No Changes\u001b[22m\u001b[39m to `~/Downloads/project-distance-transforms/julia/timing/D:\\wljulia/Project.toml`\n",
      "\u001b[32m\u001b[1m  No Changes\u001b[22m\u001b[39m to `~/Downloads/project-distance-transforms/julia/timing/D:\\wljulia/Manifest.toml`\n",
      "\u001b[32m\u001b[1m   Resolving\u001b[22m\u001b[39m package versions...\n",
      "\u001b[32m\u001b[1m  No Changes\u001b[22m\u001b[39m to `~/Downloads/project-distance-transforms/julia/timing/D:\\wljulia/Project.toml`\n",
      "\u001b[32m\u001b[1m  No Changes\u001b[22m\u001b[39m to `~/Downloads/project-distance-transforms/julia/timing/D:\\wljulia/Manifest.toml`\n",
      "\u001b[32m\u001b[1m   Resolving\u001b[22m\u001b[39m package versions...\n",
      "\u001b[32m\u001b[1m  No Changes\u001b[22m\u001b[39m to `~/Downloads/project-distance-transforms/julia/timing/D:\\wljulia/Project.toml`\n",
      "\u001b[32m\u001b[1m  No Changes\u001b[22m\u001b[39m to `~/Downloads/project-distance-transforms/julia/timing/D:\\wljulia/Manifest.toml`\n",
      "\u001b[32m\u001b[1m    Updating\u001b[22m\u001b[39m git-repo `https://github.com/Dale-Black/DistanceTransforms.jl`\n",
      "\u001b[32m\u001b[1m   Resolving\u001b[22m\u001b[39m package versions...\n",
      "\u001b[32m\u001b[1m  No Changes\u001b[22m\u001b[39m to `~/Downloads/project-distance-transforms/julia/timing/D:\\wljulia/Project.toml`\n",
      "\u001b[32m\u001b[1m  No Changes\u001b[22m\u001b[39m to `~/Downloads/project-distance-transforms/julia/timing/D:\\wljulia/Manifest.toml`\n",
      "\u001b[32m\u001b[1m    Updating\u001b[22m\u001b[39m git-repo `https://github.com/Dale-Black/Losers.jl`\n",
      "\u001b[32m\u001b[1m   Resolving\u001b[22m\u001b[39m package versions...\n",
      "\u001b[32m\u001b[1m  No Changes\u001b[22m\u001b[39m to `~/Downloads/project-distance-transforms/julia/timing/D:\\wljulia/Project.toml`\n",
      "\u001b[32m\u001b[1m  No Changes\u001b[22m\u001b[39m to `~/Downloads/project-distance-transforms/julia/timing/D:\\wljulia/Manifest.toml`\n"
     ]
    }
   ],
   "source": [
    "using Pkg\n",
    "\n",
    "Pkg.activate(raw\"D:\\wljulia\")\n",
    "# Pkg.Registry.update()\n",
    "# Pkg.add(\"BenchmarkTools\")\n",
    "# Pkg.add(\"PlutoUI\")\n",
    "# Pkg.add(\"Tar\")\n",
    "# Pkg.add(\"MLDataPattern\")\n",
    "# Pkg.add(\"Glob\")\n",
    "# Pkg.add(\"NIfTI\")\n",
    "# Pkg.add(\"CairoMakie\")\n",
    "# Pkg.add(\"ImageCore\")\n",
    "# Pkg.add(\"DataLoaders\")\n",
    "# Pkg.add(\"CUDA\")\n",
    "# Pkg.add(\"FastAI\")\n",
    "# Pkg.add(\"Images\")\n",
    "# Pkg.add(\"FilePathsBase\")\n",
    "# Pkg.add(\"FixedPointNumbers\")\n",
    "Pkg.add(\"FoldsThreads\")\n",
    "# Pkg.add(\"Colors\")\n",
    "# Pkg.add(\"ProgressBars\")\n",
    "# Pkg.add(\"LinearAlgebra\")\n",
    "# Pkg.add(\"StaticArrays\")\n",
    "# Pkg.add(url=\"https://github.com/Dale-Black/DistanceTransforms.jl\")\n",
    "# Pkg.add(url=\"https://github.com/Dale-Black/Losers.jl\");\n",
    "        "
   ]
  },
  {
   "cell_type": "code",
   "execution_count": null,
   "metadata": {},
   "outputs": [],
   "source": []
  },
  {
   "cell_type": "code",
   "execution_count": 6,
   "metadata": {},
   "outputs": [
    {
     "ename": "ErrorException",
     "evalue": "LOAD_PATH entries cannot contain ':'",
     "output_type": "error",
     "traceback": [
      "LOAD_PATH entries cannot contain ':'\n",
      "\n",
      "Stacktrace:\n",
      "  [1] error(s::String)\n",
      "    @ Base ./error.jl:33\n",
      "  [2] create_expr_cache(pkg::Base.PkgId, input::String, output::String, concrete_deps::Vector{Pair{Base.PkgId, UInt64}}, internal_stderr::IO, internal_stdout::IO)\n",
      "    @ Base ./loading.jl:1334\n",
      "  [3] compilecache(pkg::Base.PkgId, path::String, internal_stderr::IO, internal_stdout::IO, ignore_loaded_modules::Bool)\n",
      "    @ Base ./loading.jl:1432\n",
      "  [4] compilecache(pkg::Base.PkgId, path::String)\n",
      "    @ Base ./loading.jl:1410\n",
      "  [5] _require(pkg::Base.PkgId)\n",
      "    @ Base ./loading.jl:1120\n",
      "  [6] require(uuidkey::Base.PkgId)\n",
      "    @ Base ./loading.jl:1013\n",
      "  [7] require(into::Module, mod::Symbol)\n",
      "    @ Base ./loading.jl:997\n",
      "  [8] eval\n",
      "    @ ./boot.jl:373 [inlined]\n",
      "  [9] include_string(mapexpr::typeof(REPL.softscope), mod::Module, code::String, filename::String)\n",
      "    @ Base ./loading.jl:1196\n",
      " [10] #invokelatest#2\n",
      "    @ ./essentials.jl:716 [inlined]\n",
      " [11] invokelatest\n",
      "    @ ./essentials.jl:714 [inlined]\n",
      " [12] (::VSCodeServer.var\"#198#199\"{VSCodeServer.NotebookRunCellArguments, String})()\n",
      "    @ VSCodeServer ~/.vscode/extensions/julialang.language-julia-1.7.6/scripts/packages/VSCodeServer/src/serve_notebook.jl:19\n",
      " [13] withpath(f::VSCodeServer.var\"#198#199\"{VSCodeServer.NotebookRunCellArguments, String}, path::String)\n",
      "    @ VSCodeServer ~/.vscode/extensions/julialang.language-julia-1.7.6/scripts/packages/VSCodeServer/src/repl.jl:249\n",
      " [14] notebook_runcell_request(conn::VSCodeServer.JSONRPC.JSONRPCEndpoint{Base.PipeEndpoint, Base.PipeEndpoint}, params::VSCodeServer.NotebookRunCellArguments)\n",
      "    @ VSCodeServer ~/.vscode/extensions/julialang.language-julia-1.7.6/scripts/packages/VSCodeServer/src/serve_notebook.jl:13\n",
      " [15] dispatch_msg(x::VSCodeServer.JSONRPC.JSONRPCEndpoint{Base.PipeEndpoint, Base.PipeEndpoint}, dispatcher::VSCodeServer.JSONRPC.MsgDispatcher, msg::Dict{String, Any})\n",
      "    @ VSCodeServer.JSONRPC ~/.vscode/extensions/julialang.language-julia-1.7.6/scripts/packages/JSONRPC/src/typed.jl:67\n",
      " [16] serve_notebook(pipename::String, outputchannel_logger::Base.CoreLogging.SimpleLogger; crashreporting_pipename::String)\n",
      "    @ VSCodeServer ~/.vscode/extensions/julialang.language-julia-1.7.6/scripts/packages/VSCodeServer/src/serve_notebook.jl:139\n",
      " [17] top-level scope\n",
      "    @ ~/.vscode/extensions/julialang.language-julia-1.7.6/scripts/notebook/notebook.jl:32"
     ]
    }
   ],
   "source": [
    "using PlutoUI\n",
    "using BenchmarkTools\n",
    "using Colors: Gray\n",
    "using FixedPointNumbers: N0f8\n",
    "using Tar\n",
    "using MLDataPattern\n",
    "using Glob\n",
    "using NIfTI\n",
    "using CairoMakie\n",
    "using ImageCore\n",
    "using DataLoaders\n",
    "using CUDA\n",
    "using FastAI\n",
    "using FastAI: DataAugmentation\n",
    "using Images\n",
    "using FilePathsBase\n",
    "using ProgressBars\n",
    "using LinearAlgebra\n",
    "using StaticArrays\n",
    "using DistanceTransforms\n",
    "using FoldsThreads\n",
    "using Losers;"
   ]
  },
  {
   "cell_type": "code",
   "execution_count": 4,
   "metadata": {},
   "outputs": [
    {
     "data": {
      "text/html": [
       "<script>const getParentCell = el => el.closest(\"pluto-cell\")\n",
       "\n",
       "const getHeaders = () => {\n",
       "\tconst depth = Math.max(1, Math.min(6, 3)) // should be in range 1:6\n",
       "\tconst range = Array.from({length: depth}, (x, i) => i+1) // [1, ..., depth]\n",
       "\t\n",
       "\tconst selector = range.map(i => `pluto-notebook pluto-cell h${i}`).join(\",\")\n",
       "\treturn Array.from(document.querySelectorAll(selector))\n",
       "}\n",
       "\n",
       "const indent = true\n",
       "const aside = true\n",
       "\n",
       "const clickHandler = (event) => {\n",
       "\tconst path = (event.path || event.composedPath())\n",
       "\tconst toc = path.find(elem => elem?.classList?.contains?.(\"toc-toggle\"))\n",
       "\tif (toc) {\n",
       "\t\tevent.stopImmediatePropagation()\n",
       "\t\ttoc.closest(\".plutoui-toc\").classList.toggle(\"hide\")\n",
       "\t}\n",
       "}\n",
       "\n",
       "document.addEventListener(\"click\", clickHandler)\n",
       "\n",
       "\n",
       "const render = (el) => html`${el.map(h => {\n",
       "\tconst parent_cell = getParentCell(h)\n",
       "\n",
       "\tconst a = html`<a \n",
       "\t\tclass=\"${h.nodeName}\" \n",
       "\t\thref=\"#${parent_cell.id}\"\n",
       "\t>${h.innerText}</a>`\n",
       "\t/* a.onmouseover=()=>{\n",
       "\t\tparent_cell.firstElementChild.classList.add(\n",
       "\t\t\t'highlight-pluto-cell-shoulder'\n",
       "\t\t)\n",
       "\t}\n",
       "\ta.onmouseout=() => {\n",
       "\t\tparent_cell.firstElementChild.classList.remove(\n",
       "\t\t\t'highlight-pluto-cell-shoulder'\n",
       "\t\t)\n",
       "\t} */\n",
       "\ta.onclick=(e) => {\n",
       "\t\te.preventDefault();\n",
       "\t\th.scrollIntoView({\n",
       "\t\t\tbehavior: 'smooth', \n",
       "\t\t\tblock: 'start'\n",
       "\t\t})\n",
       "\t}\n",
       "\n",
       "\treturn html`<div class=\"toc-row\">${a}</div>`\n",
       "})}`\n",
       "\n",
       "const tocNode = html`<nav class=\"plutoui-toc\">\n",
       "\t<header>\n",
       "     <span class=\"toc-toggle open-toc\">📖</span>\n",
       "     <span class=\"toc-toggle closed-toc\">📕</span>\n",
       "\tTable of Contents</header>\n",
       "\t<section></section>\n",
       "</nav>`\n",
       "\n",
       "tocNode.classList.toggle(\"aside\", aside)\n",
       "tocNode.classList.toggle(\"indent\", indent)\n",
       "\n",
       "const updateCallback = () => {\n",
       "\ttocNode.querySelector(\"section\").replaceWith(\n",
       "\t\thtml`<section>${render(getHeaders())}</section>`\n",
       "\t)\n",
       "}\n",
       "updateCallback()\n",
       "setTimeout(updateCallback, 100)\n",
       "setTimeout(updateCallback, 1000)\n",
       "setTimeout(updateCallback, 5000)\n",
       "\n",
       "const notebook = document.querySelector(\"pluto-notebook\")\n",
       "\n",
       "\n",
       "// We have a mutationobserver for each cell:\n",
       "const observers = {\n",
       "\tcurrent: [],\n",
       "}\n",
       "\n",
       "const createCellObservers = () => {\n",
       "\tobservers.current.forEach((o) => o.disconnect())\n",
       "\tobservers.current = Array.from(notebook.querySelectorAll(\"pluto-cell\")).map(el => {\n",
       "\t\tconst o = new MutationObserver(updateCallback)\n",
       "\t\to.observe(el, {attributeFilter: [\"class\"]})\n",
       "\t\treturn o\n",
       "\t})\n",
       "}\n",
       "createCellObservers()\n",
       "\n",
       "// And one for the notebook's child list, which updates our cell observers:\n",
       "const notebookObserver = new MutationObserver(() => {\n",
       "\tupdateCallback()\n",
       "\tcreateCellObservers()\n",
       "})\n",
       "notebookObserver.observe(notebook, {childList: true})\n",
       "\n",
       "// And finally, an observer for the document.body classList, to make sure that the toc also works when if is loaded during notebook initialization\n",
       "const bodyClassObserver = new MutationObserver(updateCallback)\n",
       "bodyClassObserver.observe(document.body, {attributeFilter: [\"class\"]})\n",
       "\n",
       "// Hide/show the ToC when the screen gets small\n",
       "let m = matchMedia(\"(max-width: 1000px)\")\n",
       "let match_listener = () => \n",
       "\ttocNode.classList.toggle(\"hide\", m.matches)\n",
       "match_listener()\n",
       "m.addListener(match_listener)\n",
       "\n",
       "invalidation.then(() => {\n",
       "\tnotebookObserver.disconnect()\n",
       "\tbodyClassObserver.disconnect()\n",
       "\tobservers.current.forEach((o) => o.disconnect())\n",
       "\tdocument.removeEventListener(\"click\", clickHandler)\n",
       "\tm.removeListener(match_listener)\n",
       "})\n",
       "\n",
       "return tocNode\n",
       "</script><style>\n",
       ".plutoui-toc {\n",
       "\t--main-bg-color: unset;\n",
       "\t--pluto-output-color: hsl(0, 0%, 36%);\n",
       "\t--pluto-output-h-color: hsl(0, 0%, 21%);\n",
       "}\n",
       "\n",
       "@media (prefers-color-scheme: dark) {\n",
       "\t.plutoui-toc {\n",
       "\t\t--main-bg-color: hsl(0deg 0% 21%);\n",
       "\t\t--pluto-output-color: hsl(0, 0%, 90%);\n",
       "\t\t--pluto-output-h-color: hsl(0, 0%, 97%);\n",
       "\t}\n",
       "}\n",
       "\n",
       ".plutoui-toc.aside {\n",
       "\tcolor: var(--pluto-output-color);\n",
       "\tposition:fixed;\n",
       "\tright: 1rem;\n",
       "\ttop: 5rem;\n",
       "\twidth: min(80vw, 300px);\n",
       "\tpadding: 10px;\n",
       "\tborder: 3px solid rgba(0, 0, 0, 0.15);\n",
       "\tborder-radius: 10px;\n",
       "\tbox-shadow: 0 0 11px 0px #00000010;\n",
       "\t/* That is, viewport minus top minus Live Docs */\n",
       "\tmax-height: calc(100vh - 5rem - 56px);\n",
       "\toverflow: auto;\n",
       "\tz-index: 40;\n",
       "\tbackground-color: var(--main-bg-color);\n",
       "\ttransition: transform 300ms cubic-bezier(0.18, 0.89, 0.45, 1.12);\n",
       "}\n",
       "\n",
       ".plutoui-toc.aside.hide {\n",
       "\ttransform: translateX(calc(100% - 28px));\n",
       "}\n",
       "\n",
       ".plutoui-toc.aside.hide .open-toc,\n",
       ".plutoui-toc.aside:not(.hide) .closed-toc,\n",
       ".plutoui-toc:not(.aside) .closed-toc {\n",
       "\tdisplay: none;\n",
       "}\n",
       "\n",
       "@media (prefers-reduced-motion) {\n",
       "  .plutoui-toc.aside {\n",
       "    transition-duration: 0s;\n",
       "  }\n",
       "}\n",
       "\n",
       ".toc-toggle {\n",
       "\tcursor: pointer;\n",
       "\tpadding: 1em;\n",
       "\tmargin: -1em;\n",
       "    margin-right: -0.7em;\n",
       "}\n",
       "\n",
       ".plutoui-toc header {\n",
       "\tdisplay: block;\n",
       "\tfont-size: 1.5em;\n",
       "\tmargin-top: -0.1em;\n",
       "\tmargin-bottom: 0.4em;\n",
       "\tpadding-bottom: 0.4em;\n",
       "\tmargin-left: 0;\n",
       "\tmargin-right: 0;\n",
       "\tfont-weight: bold;\n",
       "\tborder-bottom: 2px solid rgba(0, 0, 0, 0.15);\n",
       "}\n",
       "\n",
       ".plutoui-toc section .toc-row {\n",
       "\twhite-space: nowrap;\n",
       "\toverflow: hidden;\n",
       "\ttext-overflow: ellipsis;\n",
       "\tpadding-bottom: 2px;\n",
       "}\n",
       "\n",
       ".highlight-pluto-cell-shoulder {\n",
       "\tbackground: rgba(0, 0, 0, 0.05);\n",
       "\tbackground-clip: padding-box;\n",
       "}\n",
       "\n",
       ".plutoui-toc section a {\n",
       "\ttext-decoration: none;\n",
       "\tfont-weight: normal;\n",
       "\tcolor: var(--pluto-output-color);\n",
       "}\n",
       ".plutoui-toc section a:hover {\n",
       "\tcolor: var(--pluto-output-h-color);\n",
       "}\n",
       "\n",
       ".plutoui-toc.indent section a.H1 {\n",
       "\tfont-weight: 700;\n",
       "\tline-height: 1em;\n",
       "}\n",
       "\n",
       ".plutoui-toc.indent section a.H1 {\n",
       "\tpadding-left: 0px;\n",
       "}\n",
       ".plutoui-toc.indent section a.H2 {\n",
       "\tpadding-left: 10px;\n",
       "}\n",
       ".plutoui-toc.indent section a.H3 {\n",
       "\tpadding-left: 20px;\n",
       "}\n",
       ".plutoui-toc.indent section a.H4 {\n",
       "\tpadding-left: 30px;\n",
       "}\n",
       ".plutoui-toc.indent section a.H5 {\n",
       "\tpadding-left: 40px;\n",
       "}\n",
       ".plutoui-toc.indent section a.H6 {\n",
       "\tpadding-left: 50px;\n",
       "}\n",
       "</style>"
      ],
      "text/plain": [
       "TableOfContents(\"Table of Contents\", true, 3, true)"
      ]
     },
     "execution_count": 4,
     "metadata": {},
     "output_type": "execute_result"
    }
   ],
   "source": [
    "TableOfContents()"
   ]
  },
  {
   "cell_type": "markdown",
   "metadata": {},
   "source": [
    "## Load Data"
   ]
  },
  {
   "cell_type": "markdown",
   "metadata": {},
   "source": [
    "## Load data\n",
    "Part of the [Medical Decathlon Dataset](http://medicaldecathlon.com/)"
   ]
  },
  {
   "cell_type": "code",
   "execution_count": 7,
   "metadata": {},
   "outputs": [
    {
     "data": {
      "text/plain": [
       "\"Downloads\\\\project-distance-transforms\\\\Task02_Heart\""
      ]
     },
     "metadata": {},
     "output_type": "display_data"
    }
   ],
   "source": [
    "data_dir = raw\"G:\\molloi-lab\\project-distance-transforms\\Task02_Heart\""
   ]
  },
  {
   "cell_type": "code",
   "execution_count": 8,
   "metadata": {},
   "outputs": [
    {
     "data": {
      "text/plain": [
       "loadfn_image (generic function with 1 method)"
      ]
     },
     "metadata": {},
     "output_type": "display_data"
    }
   ],
   "source": [
    "function loadfn_label(p)\n",
    "    a = NIfTI.niread(string(p)).raw\n",
    "    convert_a = convert(Array{UInt8}, a)\n",
    "    convert_a = convert_a .+ 1\n",
    "    return convert_a\n",
    "end\n",
    "\n",
    "function loadfn_image(p)\n",
    "    a = NIfTI.niread(string(p)).raw\n",
    "    convert_a = convert(Array{Float32}, a)\n",
    "    convert_a = convert_a / max(convert_a...)\n",
    "    return convert_a\n",
    "end"
   ]
  },
  {
   "cell_type": "code",
   "execution_count": 9,
   "metadata": {},
   "outputs": [
    {
     "ename": "UndefVarError",
     "evalue": "UndefVarError: Glob not defined",
     "output_type": "error",
     "traceback": [
      "UndefVarError: Glob not defined\n",
      "\n",
      "Stacktrace:\n",
      " [1] images(dir::String)\n",
      "   @ Main ~/Downloads/project-distance-transforms/julia/timing/julia_dt_fINAL.ipynb:2\n",
      " [2] top-level scope\n",
      "   @ ~/Downloads/project-distance-transforms/julia/timing/julia_dt_fINAL.ipynb:4"
     ]
    }
   ],
   "source": [
    "begin\n",
    "    images(dir) = mapobs(loadfn_image, Glob.glob(\"*.nii*\", dir))\n",
    "    masks(dir) =  mapobs(loadfn_label, Glob.glob(\"*.nii*\", dir))\n",
    "    pre_data = (\n",
    "        images(joinpath(data_dir, \"imagesTr\")),\n",
    "        masks(joinpath(data_dir, \"labelsTr\")),\n",
    "    )\n",
    "end"
   ]
  },
  {
   "cell_type": "code",
   "execution_count": 10,
   "metadata": {},
   "outputs": [
    {
     "ename": "UndefVarError",
     "evalue": "UndefVarError: getobs not defined",
     "output_type": "error",
     "traceback": [
      "UndefVarError: getobs not defined\n",
      "\n",
      "Stacktrace:\n",
      " [1] top-level scope\n",
      "   @ ~/Downloads/project-distance-transforms/julia/timing/julia_dt_fINAL.ipynb:1"
     ]
    }
   ],
   "source": [
    "image, mask = sample = getobs(pre_data, 1);"
   ]
  },
  {
   "cell_type": "code",
   "execution_count": 11,
   "metadata": {},
   "outputs": [
    {
     "ename": "UndefVarError",
     "evalue": "UndefVarError: image not defined",
     "output_type": "error",
     "traceback": [
      "UndefVarError: image not defined\n",
      "\n",
      "Stacktrace:\n",
      " [1] top-level scope\n",
      "   @ logging.jl:360"
     ]
    }
   ],
   "source": [
    "@info typeof(image)"
   ]
  },
  {
   "cell_type": "code",
   "execution_count": 12,
   "metadata": {},
   "outputs": [
    {
     "data": {
      "text/plain": [
       "(96, 96, 96)"
      ]
     },
     "metadata": {},
     "output_type": "display_data"
    }
   ],
   "source": [
    "image_size = (96, 96, 96)"
   ]
  },
  {
   "cell_type": "code",
   "execution_count": 13,
   "metadata": {},
   "outputs": [
    {
     "data": {
      "text/plain": [
       "presize (generic function with 1 method)"
      ]
     },
     "metadata": {},
     "output_type": "display_data"
    }
   ],
   "source": [
    "function presize(files)\n",
    "    container_images = Array{eltype(image)}(undef, image_size..., nobs(files))\n",
    "    container_masks = Array{eltype(mask)}(undef, image_size..., nobs(files))\n",
    "    for i in 1:nobs(files)\n",
    "        image, mask = getobs(files, i)\n",
    "        img = imresize(image, image_size)\n",
    "        msk = round.(imresize(mask, image_size))\n",
    "        container_images[:, :, :, i] = img\n",
    "        container_masks[:, :, :, i] = msk\n",
    "    end\n",
    "    return container_images, container_masks\n",
    "end"
   ]
  },
  {
   "cell_type": "code",
   "execution_count": 14,
   "metadata": {},
   "outputs": [
    {
     "ename": "UndefVarError",
     "evalue": "UndefVarError: pre_data not defined",
     "output_type": "error",
     "traceback": [
      "UndefVarError: pre_data not defined\n",
      "\n",
      "Stacktrace:\n",
      " [1] top-level scope\n",
      "   @ ~/Downloads/project-distance-transforms/julia/timing/julia_dt_fINAL.ipynb:1"
     ]
    }
   ],
   "source": [
    "img_container, _ = presize(pre_data);"
   ]
  },
  {
   "cell_type": "code",
   "execution_count": 15,
   "metadata": {},
   "outputs": [
    {
     "ename": "UndefVarError",
     "evalue": "UndefVarError: pre_data not defined",
     "output_type": "error",
     "traceback": [
      "UndefVarError: pre_data not defined\n",
      "\n",
      "Stacktrace:\n",
      " [1] top-level scope\n",
      "   @ ~/Downloads/project-distance-transforms/julia/timing/julia_dt_fINAL.ipynb:1"
     ]
    }
   ],
   "source": [
    "files_cache = presize(pre_data);"
   ]
  },
  {
   "cell_type": "code",
   "execution_count": 16,
   "metadata": {},
   "outputs": [
    {
     "data": {
      "text/plain": [
       "loadfn_pre (generic function with 1 method)"
      ]
     },
     "metadata": {},
     "output_type": "display_data"
    }
   ],
   "source": [
    "function loadfn_pre(a)\n",
    "    return a\n",
    "end"
   ]
  },
  {
   "cell_type": "code",
   "execution_count": 17,
   "metadata": {},
   "outputs": [
    {
     "ename": "UndefVarError",
     "evalue": "UndefVarError: files_cache not defined",
     "output_type": "error",
     "traceback": [
      "UndefVarError: files_cache not defined\n",
      "\n",
      "Stacktrace:\n",
      " [1] top-level scope\n",
      "   @ ~/Downloads/project-distance-transforms/julia/timing/julia_dt_fINAL.ipynb:4"
     ]
    }
   ],
   "source": [
    "begin\n",
    "    images_pre(arr) = mapobs(loadfn_pre, arr)\n",
    "    masks_pre(arr) =  mapobs(loadfn_pre, arr)\n",
    "    data = (\n",
    "        images_pre(files_cache[1]),\n",
    "        masks_pre(files_cache[2]),\n",
    "    )\n",
    "end"
   ]
  },
  {
   "cell_type": "code",
   "execution_count": 18,
   "metadata": {},
   "outputs": [
    {
     "ename": "UndefVarError",
     "evalue": "UndefVarError: Glob not defined",
     "output_type": "error",
     "traceback": [
      "UndefVarError: Glob not defined\n",
      "\n",
      "Stacktrace:\n",
      " [1] images(dir::String)\n",
      "   @ Main ~/Downloads/project-distance-transforms/julia/timing/julia_dt_fINAL.ipynb:2\n",
      " [2] top-level scope\n",
      "   @ logging.jl:360"
     ]
    }
   ],
   "source": [
    "@info nobs(images(joinpath(data_dir, \"imagesTr\")))"
   ]
  },
  {
   "cell_type": "code",
   "execution_count": 19,
   "metadata": {},
   "outputs": [
    {
     "ename": "UndefVarError",
     "evalue": "UndefVarError: FastAI not defined",
     "output_type": "error",
     "traceback": [
      "UndefVarError: FastAI not defined\n",
      "\n",
      "Stacktrace:\n",
      " [1] top-level scope\n",
      "   @ ~/Downloads/project-distance-transforms/julia/timing/julia_dt_fINAL.ipynb:1"
     ]
    }
   ],
   "source": [
    "a, b = FastAI.Vision.imagedatasetstats(img_container, Gray{N0f8}, progressfn = identity) \n",
    "mean, std = SVector{1, Float32}(a), SVector{1, Float32}(b)"
   ]
  },
  {
   "cell_type": "code",
   "execution_count": null,
   "metadata": {},
   "outputs": [],
   "source": []
  },
  {
   "cell_type": "code",
   "execution_count": 20,
   "metadata": {},
   "outputs": [
    {
     "ename": "UndefVarError",
     "evalue": "UndefVarError: MLDataPattern not defined",
     "output_type": "error",
     "traceback": [
      "UndefVarError: MLDataPattern not defined\n",
      "\n",
      "Stacktrace:\n",
      " [1] top-level scope\n",
      "   @ ~/Downloads/project-distance-transforms/julia/timing/julia_dt_fINAL.ipynb:1"
     ]
    }
   ],
   "source": [
    "train_files, val_files = MLDataPattern.splitobs(data, 0.8)"
   ]
  },
  {
   "cell_type": "code",
   "execution_count": 21,
   "metadata": {},
   "outputs": [
    {
     "ename": "UndefVarError",
     "evalue": "UndefVarError: getobs not defined",
     "output_type": "error",
     "traceback": [
      "UndefVarError: getobs not defined\n",
      "\n",
      "Stacktrace:\n",
      " [1] top-level scope\n",
      "   @ ~/Downloads/project-distance-transforms/julia/timing/julia_dt_fINAL.ipynb:1"
     ]
    }
   ],
   "source": [
    "image, mask = sample = getobs(data, 1);"
   ]
  },
  {
   "cell_type": "code",
   "execution_count": 22,
   "metadata": {},
   "outputs": [
    {
     "ename": "UndefVarError",
     "evalue": "UndefVarError: image not defined",
     "output_type": "error",
     "traceback": [
      "UndefVarError: image not defined\n",
      "\n",
      "Stacktrace:\n",
      " [1] top-level scope\n",
      "   @ ~/Downloads/project-distance-transforms/julia/timing/julia_dt_fINAL.ipynb:5"
     ]
    }
   ],
   "source": [
    "@bind a PlutoUI.Slider(1:size(image, 3), default=50, show_value=true)"
   ]
  },
  {
   "cell_type": "code",
   "execution_count": 23,
   "metadata": {},
   "outputs": [
    {
     "ename": "UndefVarError",
     "evalue": "UndefVarError: image not defined",
     "output_type": "error",
     "traceback": [
      "UndefVarError: image not defined\n",
      "\n",
      "Stacktrace:\n",
      " [1] top-level scope\n",
      "   @ ~/Downloads/project-distance-transforms/julia/timing/julia_dt_fINAL.ipynb:1"
     ]
    }
   ],
   "source": [
    "heatmap(image[:, :, a], colormap=:grays)"
   ]
  },
  {
   "cell_type": "code",
   "execution_count": 24,
   "metadata": {},
   "outputs": [
    {
     "ename": "UndefVarError",
     "evalue": "UndefVarError: mask not defined",
     "output_type": "error",
     "traceback": [
      "UndefVarError: mask not defined\n",
      "\n",
      "Stacktrace:\n",
      " [1] top-level scope\n",
      "   @ ~/Downloads/project-distance-transforms/julia/timing/julia_dt_fINAL.ipynb:1"
     ]
    }
   ],
   "source": [
    "heatmap(mask[:, :, a], colormap=:grays)"
   ]
  },
  {
   "cell_type": "markdown",
   "metadata": {},
   "source": [
    "## Create Learning Task"
   ]
  },
  {
   "cell_type": "code",
   "execution_count": 38,
   "metadata": {},
   "outputs": [
    {
     "ename": "UndefVarError",
     "evalue": "UndefVarError: FastAI not defined",
     "output_type": "error",
     "traceback": [
      "UndefVarError: FastAI not defined\n",
      "\n",
      "Stacktrace:\n",
      " [1] top-level scope\n",
      "   @ ~/Downloads/project-distance-transforms/julia/timing/julia_dt_fINAL.ipynb:1"
     ]
    }
   ],
   "source": [
    "task = SupervisedTask(\n",
    "    (FastAI.Vision.Image{3}(), Mask{3}(1:2)),\n",
    "    (\n",
    "        ProjectiveTransforms((image_size)),\n",
    "        ImagePreprocessing(means = mean, stds = std, C = Gray{N0f8}),\n",
    "        OneHot()\n",
    "    )\n",
    ")"
   ]
  },
  {
   "cell_type": "code",
   "execution_count": 26,
   "metadata": {},
   "outputs": [
    {
     "ename": "UndefVarError",
     "evalue": "UndefVarError: describetask not defined",
     "output_type": "error",
     "traceback": [
      "UndefVarError: describetask not defined\n",
      "\n",
      "Stacktrace:\n",
      " [1] top-level scope\n",
      "   @ ~/Downloads/project-distance-transforms/julia/timing/julia_dt_fINAL.ipynb:1"
     ]
    }
   ],
   "source": [
    "describetask(task)"
   ]
  },
  {
   "cell_type": "markdown",
   "metadata": {},
   "source": [
    "## Visualize"
   ]
  },
  {
   "cell_type": "code",
   "execution_count": 25,
   "metadata": {},
   "outputs": [],
   "source": [
    "# xs, ys = FastAI.makebatch(task, data, 1:3);"
   ]
  },
  {
   "cell_type": "code",
   "execution_count": 26,
   "metadata": {},
   "outputs": [],
   "source": [
    "# @bind b PlutoUI.Slider(1:size(xs, 3), default=50, show_value=true)"
   ]
  },
  {
   "cell_type": "code",
   "execution_count": 27,
   "metadata": {},
   "outputs": [],
   "source": [
    "# heatmap(xs[:, :, b, 1, 2], colormap=:grays)"
   ]
  },
  {
   "cell_type": "code",
   "execution_count": 28,
   "metadata": {},
   "outputs": [],
   "source": [
    "# heatmap(ys[:, :, b, 2, 2], colormap=:grays)"
   ]
  },
  {
   "cell_type": "markdown",
   "metadata": {},
   "source": [
    "## Dataloader"
   ]
  },
  {
   "cell_type": "code",
   "execution_count": 27,
   "metadata": {},
   "outputs": [
    {
     "ename": "UndefVarError",
     "evalue": "UndefVarError: taskdataloaders not defined",
     "output_type": "error",
     "traceback": [
      "UndefVarError: taskdataloaders not defined\n",
      "\n",
      "Stacktrace:\n",
      " [1] top-level scope\n",
      "   @ ~/Downloads/project-distance-transforms/julia/timing/julia_dt_fINAL.ipynb:1"
     ]
    }
   ],
   "source": [
    "traindl, validdl = taskdataloaders(data, task, 1)"
   ]
  },
  {
   "cell_type": "markdown",
   "metadata": {},
   "source": [
    "## Model"
   ]
  },
  {
   "cell_type": "code",
   "execution_count": 28,
   "metadata": {},
   "outputs": [
    {
     "data": {
      "text/plain": [
       "#21 (generic function with 1 method)"
      ]
     },
     "metadata": {},
     "output_type": "display_data"
    }
   ],
   "source": [
    "conv = (stride, in, out) -> Conv((3, 3, 3), in=>out, stride=stride, pad=(1, 1, 1))\n",
    "tran = (stride, in, out) -> ConvTranspose((4, 4, 4), in=>out, stride=stride, pad=1)\n",
    "\n",
    "conv1 = (in, out) -> Chain(conv(1, in, out), BatchNorm(out), x -> leakyrelu.(x))\n",
    "conv2 = (in, out) -> Chain(conv(2, in, out), BatchNorm(out), x -> leakyrelu.(x))\n",
    "tran2 = (in, out) -> Chain(tran(2, in, out), BatchNorm(out), x -> leakyrelu.(x))"
   ]
  },
  {
   "cell_type": "code",
   "execution_count": 29,
   "metadata": {},
   "outputs": [
    {
     "data": {
      "text/plain": [
       "unet3D (generic function with 1 method)"
      ]
     },
     "metadata": {},
     "output_type": "display_data"
    }
   ],
   "source": [
    "function unet3D(in_chs, lbl_chs)\n",
    "    # Contracting layers\n",
    "    l1 = Chain(conv1(in_chs, 4))\n",
    "    l2 = Chain(l1, conv1(4, 4), conv2(4, 16))\n",
    "    l3 = Chain(l2, conv1(16, 16), conv2(16, 32))\n",
    "    l4 = Chain(l3, conv1(32, 32), conv2(32, 64))\n",
    "    l5 = Chain(l4, conv1(64, 64), conv2(64, 128))\n",
    "\n",
    "    # Expanding layers\n",
    "    l6 = Chain(l5, tran2(128, 64), conv1(64, 64))\n",
    "    l7 = Chain(Parallel(+, l6, l4), tran2(64, 32), conv1(32, 32))       # Residual connection between l6 & l4\n",
    "    l8 = Chain(Parallel(+, l7, l3), tran2(32, 16), conv1(16, 16))       # Residual connection between l7 & l3\n",
    "    l9 = Chain(Parallel(+, l8, l2), tran2(16, 4), conv1(4, 4))          # Residual connection between l8 & l2\n",
    "    l10 = Chain(l9, conv1(4, lbl_chs))\n",
    "end"
   ]
  },
  {
   "cell_type": "code",
   "execution_count": 30,
   "metadata": {},
   "outputs": [
    {
     "ename": "UndefVarError",
     "evalue": "UndefVarError: Conv not defined",
     "output_type": "error",
     "traceback": [
      "UndefVarError: Conv not defined\n",
      "\n",
      "Stacktrace:\n",
      " [1] (::var\"#9#10\")(stride::Int64, in::Int64, out::Int64)\n",
      "   @ Main ~/Downloads/project-distance-transforms/julia/timing/julia_dt_fINAL.ipynb:1\n",
      " [2] (::var\"#13#15\")(in::Int64, out::Int64)\n",
      "   @ Main ~/Downloads/project-distance-transforms/julia/timing/julia_dt_fINAL.ipynb:4\n",
      " [3] unet3D(in_chs::Int64, lbl_chs::Int64)\n",
      "   @ Main ~/Downloads/project-distance-transforms/julia/timing/julia_dt_fINAL.ipynb:3\n",
      " [4] top-level scope\n",
      "   @ ~/Downloads/project-distance-transforms/julia/timing/julia_dt_fINAL.ipynb:1"
     ]
    }
   ],
   "source": [
    "model = unet3D(1, 2) |> gpu;"
   ]
  },
  {
   "cell_type": "markdown",
   "metadata": {},
   "source": [
    "## Helper Functions"
   ]
  },
  {
   "cell_type": "code",
   "execution_count": 31,
   "metadata": {},
   "outputs": [
    {
     "data": {
      "text/plain": [
       "as_discrete (generic function with 1 method)"
      ]
     },
     "metadata": {},
     "output_type": "display_data"
    }
   ],
   "source": [
    "function dice_metric(ŷ, y)\n",
    "    dice = 2 * sum(ŷ .& y) / (sum(ŷ) + sum(y))\n",
    "    return dice\n",
    "end\n",
    "\n",
    "function as_discrete(array, logit_threshold)\n",
    "    array = array .>= logit_threshold\n",
    "    return array\n",
    "end"
   ]
  },
  {
   "cell_type": "markdown",
   "metadata": {},
   "source": [
    "## Loss Functions"
   ]
  },
  {
   "cell_type": "code",
   "execution_count": 32,
   "metadata": {},
   "outputs": [
    {
     "data": {
      "text/plain": [
       "compute_dtm (generic function with 1 method)"
      ]
     },
     "metadata": {},
     "output_type": "display_data"
    }
   ],
   "source": [
    "function dice_loss(ŷ, y)\n",
    "    ϵ = 1e-5\n",
    "    return loss = 1 - ((2 * sum(ŷ .* y) + ϵ) / (sum(ŷ .* ŷ) + sum(y .* y) + ϵ))\n",
    "end\n",
    "\n",
    "function hd_loss(ŷ, y, ŷ_dtm, y_dtm)\n",
    "    M = (ŷ .- y) .^ 2 .* (ŷ_dtm .^ 2 .+ y_dtm .^ 2)\n",
    "    return loss = mean(M)\n",
    "end\n",
    "function compute_dtm(img)\n",
    "    f = ImageMorphology.feature_transform(.!(Bool.(img)))\n",
    "    return foreground_dtm = ImageMorphology.distance_transform(f)\n",
    "end"
   ]
  },
  {
   "cell_type": "markdown",
   "metadata": {},
   "source": [
    "## Training"
   ]
  },
  {
   "cell_type": "code",
   "execution_count": 34,
   "metadata": {},
   "outputs": [
    {
     "ename": "UndefVarError",
     "evalue": "UndefVarError: Flux not defined",
     "output_type": "error",
     "traceback": [
      "UndefVarError: Flux not defined\n",
      "\n",
      "Stacktrace:\n",
      " [1] top-level scope\n",
      "   @ ~/Downloads/project-distance-transforms/julia/timing/julia_dt_fINAL.ipynb:1"
     ]
    }
   ],
   "source": [
    "ps = Flux.params(model) \n",
    "loss_function = dice_loss \n",
    "optimizer = Flux.ADAM(0.01) "
   ]
  },
  {
   "cell_type": "code",
   "execution_count": 33,
   "metadata": {},
   "outputs": [
    {
     "data": {
      "text/plain": [
       "Any[]"
      ]
     },
     "metadata": {},
     "output_type": "display_data"
    }
   ],
   "source": [
    "max_epochs = 2\n",
    "val_interval = 2\n",
    "epoch_loss_values = []\n",
    "val_epoch_loss_values = []\n",
    "dice_metric_values = []"
   ]
  },
  {
   "cell_type": "code",
   "execution_count": 35,
   "metadata": {},
   "outputs": [
    {
     "ename": "UndefVarError",
     "evalue": "UndefVarError: CUDA not defined",
     "output_type": "error",
     "traceback": [
      "UndefVarError: CUDA not defined\n",
      "\n",
      "Stacktrace:\n",
      " [1] top-level scope\n",
      "   @ ~/Downloads/project-distance-transforms/julia/timing/julia_dt_fINAL.ipynb:1"
     ]
    }
   ],
   "source": [
    "tdl = Tuple{CuArray{Float32, 5, CUDA.Mem.DeviceBuffer}, CuArray{Float32, 5, CUDA.Mem.DeviceBuffer}}[] \n",
    "vdl = Tuple{CuArray{Float32, 5, CUDA.Mem.DeviceBuffer}, CuArray{Float32, 5, CUDA.Mem.DeviceBuffer}}[] \n",
    "for (xs, ys) in validdl\n",
    "    xs, ys = xs |> gpu, ys |> gpu\n",
    "    push!(vdl, (xs,ys))\n",
    "end\n",
    "\n",
    "for (xs, ys) in traindl\n",
    "    xs, ys = xs |> gpu, ys |> gpu\n",
    "    push!(tdl, (xs,ys))\n",
    "end"
   ]
  },
  {
   "cell_type": "code",
   "execution_count": 36,
   "metadata": {},
   "outputs": [
    {
     "ename": "UndefVarError",
     "evalue": "UndefVarError: tdl not defined",
     "output_type": "error",
     "traceback": [
      "UndefVarError: tdl not defined\n",
      "\n",
      "Stacktrace:\n",
      " [1] top-level scope\n",
      "   @ ~/Downloads/project-distance-transforms/julia/timing/julia_dt_fINAL.ipynb:1"
     ]
    }
   ],
   "source": [
    "for (xs, ys) in tdl\n",
    "    @info size(xs)\n",
    "end"
   ]
  },
  {
   "cell_type": "code",
   "execution_count": 37,
   "metadata": {},
   "outputs": [
    {
     "data": {
      "text/plain": [
       "train_epoch (generic function with 1 method)"
      ]
     },
     "metadata": {},
     "output_type": "display_data"
    }
   ],
   "source": [
    "function train_step(step,xs,ys)\n",
    "    # xs, ys = xs |> gpu, ys |> gpu\n",
    "        step += 1\n",
    "        @show step\n",
    "        for epoch in 1:max_epochs\n",
    "            step = 0\n",
    "            @show epoch\n",
    "        \n",
    "            # epoch_time= @benchmark train_epoch($step)\n",
    "            # push!(step_epoch_mean, BenchmarkTools.mean(epoch_time).time)\n",
    "        \n",
    "            # Loop through training data\n",
    "            for (xs, ys) in tdl\n",
    "                # step_time= @benchmark train_step($step,$xs,$ys)\n",
    "                # push!(step_time_mean, BenchmarkTools.mean(step_time).time)\n",
    "                xs, ys = xs |> gpu, ys |> gpu\n",
    "                step += 1\n",
    "                @show step\n",
    "                gs = Flux.gradient(ps) do\n",
    "                    ŷs = model(xs)\n",
    "                    ys_dtm = CuArray{Float32}(undef, size(ys))\n",
    "                    ŷs_dtm = CuArray{Float32}(undef, size(ŷs))\n",
    "                    for b in size(ys, 5)\n",
    "                        for c in size(ys, 4)\n",
    "                            for z in size(ys, 3)\n",
    "                                bool_arr_gt = boolean_indicator(ys[:, :, z, c, b])\n",
    "                                bool_arr_pred = boolean_indicator(ŷs[:, :, z, c, b])\n",
    "                                tfm_gt = SquaredEuclidean(bool_arr_gt)\n",
    "                                tfm_pred = SquaredEuclidean(bool_arr_pred)\n",
    "                                ys_dtm[:, :, z, c, b] = transform!(bool_arr_gt, tfm_gt WorkStealingEx())\n",
    "                                ŷs_dtm[:, :, z, c, b] = transform!(bool_arr_pred, tfm_pred, WorkStealingEx())\n",
    "                            end\n",
    "                        end\n",
    "                    end\n",
    "                    hd_loss = hausdorff(ŷs, ys, ŷs_dtm, ys_dtm)\n",
    "                    dice_loss = dice(ŷs, ys)\n",
    "                    α = epoch/max_epochs\n",
    "                    loss = α*dice_loss + (1-α)*hausdorff_loss\n",
    "                    return loss\n",
    "                end\n",
    "                Flux.update!(optimizer, ps, gs)\n",
    "            end\n",
    "        \n",
    "            # Loop through validation data\n",
    "            if (epoch) % val_interval == 0\n",
    "                val_step = 0\n",
    "                for (val_xs, val_ys) in vdl\n",
    "                    val_xs, val_ys = val_xs |> gpu, val_ys |> gpu\n",
    "                    val_step += 1\n",
    "                    @show val_step\n",
    "        \n",
    "                    local val_ŷs = model(val_xs)\n",
    "                    local val_loss = loss_func\n",
    "                    tion(val_ŷs[:, :, :, 2, :], val_ys[:, :, :, 2, :])\n",
    "                    # val_ŷs, val_ys = as_discrete(val_ŷs, 0.5), as_discrete(val_ys, 0.5)\n",
    "                end\n",
    "            end\n",
    "        end\n",
    "end\n",
    "\n",
    "function train_epoch(step)\n",
    "    for (xs, ys) in tdl\n",
    "        xs, ys = xs |> gpu, ys |> gpu\n",
    "        step += 1\n",
    "        @show step\n",
    "        gs = Flux.gradient(ps) do\n",
    "            ŷs = model(xs)\n",
    "            ys_dtm = CuArray{Float32}(undef, size(ys))\n",
    "            ŷs_dtm = CuArray{Float32}(undef, size(ŷs))\n",
    "            for b in size(ys, 5)\n",
    "                for c in size(ys, 4)\n",
    "                    for z in size(ys, 3)\n",
    "                        bool_arr_gt = boolean_indicator(ys[:, :, z, c, b])\n",
    "                        bool_arr_pred = boolean_indicator(ŷs[:, :, z, c, b])\n",
    "                        tfm_gt = SquaredEuclidean(bool_arr_gt)\n",
    "                        tfm_pred = SquaredEuclidean(bool_arr_pred)\n",
    "                        ys_dtm[:, :, z, c, b] = transform!(bool_arr_gt, tfm_gt, WorkStealingEx())\n",
    "                        ŷs_dtm[:, :, z, c, b] = transform!(bool_arr_pred, tfm_pred, WorkStealingEx())\n",
    "                    end\n",
    "                end\n",
    "            end\n",
    "            hd_loss = hausdorff(ŷs, ys, ŷs_dtm, ys_dtm)\n",
    "            dice_loss = dice(ŷs, ys)\n",
    "            α = 0.5\n",
    "            loss = α*dice_loss + (1-α)*hausdorff_loss\n",
    "            return loss\n",
    "        end\n",
    "        Flux.update!(optimizer, ps, gs)\n",
    "    end\n",
    "end"
   ]
  },
  {
   "cell_type": "code",
   "execution_count": 40,
   "metadata": {},
   "outputs": [
    {
     "data": {
      "text/plain": [
       "Any[]"
      ]
     },
     "execution_count": 40,
     "metadata": {},
     "output_type": "execute_result"
    }
   ],
   "source": [
    "step_time_mean = []\n",
    "step_epoch_mean = []"
   ]
  },
  {
   "cell_type": "code",
   "execution_count": 41,
   "metadata": {},
   "outputs": [
    {
     "ename": "LoadError",
     "evalue": "syntax: \"$\" expression outside quote around In[41]:8",
     "output_type": "error",
     "traceback": [
      "syntax: \"$\" expression outside quote around In[41]:8",
      "",
      "Stacktrace:",
      " [1] top-level scope",
      "   @ In[41]:1",
      " [2] eval",
      "   @ .\\boot.jl:373 [inlined]",
      " [3] include_string(mapexpr::typeof(REPL.softscope), mod::Module, code::String, filename::String)",
      "   @ Base .\\loading.jl:1196"
     ]
    }
   ],
   "source": [
    "function hd_loss_gpu(input)\n",
    "    x3 = DistanceTransforms.boolean_indicator(input)\n",
    "\tdt3 = CuArray{Float32}(undef, size(x3))\n",
    "\tv3 = CUDA.ones(Int64, size(x3))\n",
    "\tz3 = CUDA.zeros(Float32, size(x3) .+ 1)\n",
    "\ttfm3 = DistanceTransforms.SquaredEuclidean(x3, dt3, v3, z3)\n",
    "\tx3_dtm = DistanceTransforms.transform!(x3, tfm3)\n",
    "\thd3 = hausdorff($x3, $x3, $x3_dtm, $x3_dtm)\n",
    "    return hd3\n",
    "end"
   ]
  },
  {
   "cell_type": "code",
   "execution_count": 42,
   "metadata": {},
   "outputs": [
    {
     "name": "stdout",
     "output_type": "stream",
     "text": [
      "epoch = 1\n",
      "step = 1\n"
     ]
    },
    {
     "ename": "LoadError",
     "evalue": "UndefVarError: ŷ_bool not defined",
     "output_type": "error",
     "traceback": [
      "UndefVarError: ŷ_bool not defined",
      "",
      "Stacktrace:",
      " [1] _pullback",
      "   @ C:\\Users\\Administrator.WIN-2EPKD7D6018\\.julia\\packages\\ZygoteRules\\AIbCs\\src\\adjoint.jl:66 [inlined]",
      " [2] _pullback",
      "   @ .\\In[42]:17 [inlined]",
      " [3] _pullback(::Zygote.Context, ::var\"#21#22\"{CuArray{Float32, 5, CUDA.Mem.DeviceBuffer}, CuArray{Float32, 5, CUDA.Mem.DeviceBuffer}})",
      "   @ Zygote C:\\Users\\Administrator.WIN-2EPKD7D6018\\.julia\\packages\\Zygote\\ytjqm\\src\\compiler\\interface2.jl:0",
      " [4] pullback(f::Function, ps::Zygote.Params{Zygote.Buffer{Any, Vector{Any}}})",
      "   @ Zygote C:\\Users\\Administrator.WIN-2EPKD7D6018\\.julia\\packages\\Zygote\\ytjqm\\src\\compiler\\interface.jl:352",
      " [5] gradient(f::Function, args::Zygote.Params{Zygote.Buffer{Any, Vector{Any}}})",
      "   @ Zygote C:\\Users\\Administrator.WIN-2EPKD7D6018\\.julia\\packages\\Zygote\\ytjqm\\src\\compiler\\interface.jl:75",
      " [6] top-level scope",
      "   @ In[42]:15",
      " [7] eval",
      "   @ .\\boot.jl:373 [inlined]",
      " [8] include_string(mapexpr::typeof(REPL.softscope), mod::Module, code::String, filename::String)",
      "   @ Base .\\loading.jl:1196"
     ]
    }
   ],
   "source": [
    "for epoch in 1:max_epochs\n",
    "    step = 0\n",
    "    @show epoch\n",
    "\n",
    "    # epoch_time= @benchmark train_epoch($step)\n",
    "    # push!(step_epoch_mean, BenchmarkTools.mean(epoch_time).time)\n",
    "\n",
    "    # Loop through training data\n",
    "    for (xs, ys) in tdl\n",
    "        # step_time= @benchmark train_step($step,$xs,$ys)\n",
    "        # push!(step_time_mean, BenchmarkTools.mean(step_time).time)\n",
    "        # xs, ys = xs |> gpu, ys |> gpu\n",
    "        step += 1\n",
    "        @show step\n",
    "        gs = Flux.gradient(ps) do\n",
    "            ŷs = model(xs)\n",
    "            ys_dtm = CuArray{Float32}(undef, size(ys))\n",
    "            ŷs_dtm = CuArray{Float32}(undef, size(ŷs))\n",
    "            for b in size(ys, 5)\n",
    "                for c in size(ys, 4)\n",
    "                    for z in size(ys, 3)\n",
    "                        bool_arr_gt = boolean_indicator(ys[:, :, z, c, b])\n",
    "                        bool_arr_pred = boolean_indicator(ŷs[:, :, z, c, b])\n",
    "                        tfm_gt = SquaredEuclidean(bool_arr_gt)\n",
    "                        tfm_pred = SquaredEuclidean(bool_arr_pred)\n",
    "                        ys_dtm[:, :, z, c, b] = transform!(bool_arr_gt, tfm_gt, WorkStealingEx())\n",
    "                        ŷs_dtm[:, :, z, c, b] = transform!(bool_arr_pred, tfm_pred, WorkStealingEx())\n",
    "                    end\n",
    "                end\n",
    "            end\n",
    "            hd_loss = hausdorff(ŷs, ys, ŷs_dtm, ys_dtm)\n",
    "            dice_loss = dice(ŷs, ys)\n",
    "            α = 0.5\n",
    "            loss = α*dice_loss + (1-α)*hausdorff_loss\n",
    "            return loss\n",
    "        end\n",
    "        Flux.update!(optimizer, ps, gs)\n",
    "    end\n",
    "\n",
    "    # Loop through validation data\n",
    "    if (epoch) % val_interval == 0\n",
    "        val_step = 0\n",
    "        for (val_xs, val_ys) in vdl\n",
    "            # val_xs, val_ys = val_xs |> gpu, val_ys |> gpu\n",
    "            val_step += 1\n",
    "            @show val_step\n",
    "\n",
    "            local val_ŷs = model(val_xs)\n",
    "            local val_loss = loss_func\n",
    "            tion(val_ŷs[:, :, :, 2, :], val_ys[:, :, :, 2, :])\n",
    "            # val_ŷs, val_ys = as_discrete(val_ŷs, 0.5), as_discrete(val_ys, 0.5)\n",
    "        end\n",
    "    end\n",
    "end"
   ]
  },
  {
   "cell_type": "code",
   "execution_count": null,
   "metadata": {},
   "outputs": [
    {
     "name": "stdout",
     "output_type": "stream",
     "text": [
      "epoch = 1\n",
      "step = 1\n"
     ]
    },
    {
     "ename": "LoadError",
     "evalue": "this intrinsic must be compiled to be called",
     "output_type": "error",
     "traceback": [
      "this intrinsic must be compiled to be called",
      "",
      "Stacktrace:",
      "  [1] macro expansion",
      "    @ C:\\Users\\Administrator.WIN-2EPKD7D6018\\.julia\\packages\\Zygote\\ytjqm\\src\\compiler\\interface2.jl:0 [inlined]",
      "  [2] _pullback(::Zygote.Context, ::Core.IntrinsicFunction, ::String, ::Type{Int64}, ::Type{Tuple{Ptr{Int64}}}, ::Ptr{Int64})",
      "    @ Zygote C:\\Users\\Administrator.WIN-2EPKD7D6018\\.julia\\packages\\Zygote\\ytjqm\\src\\compiler\\interface2.jl:9",
      "  [3] _pullback",
      "    @ .\\atomics.jl:358 [inlined]",
      "  [4] _pullback(ctx::Zygote.Context, f::typeof(getindex), args::Base.Threads.Atomic{Int64})",
      "    @ Zygote C:\\Users\\Administrator.WIN-2EPKD7D6018\\.julia\\packages\\Zygote\\ytjqm\\src\\compiler\\interface2.jl:0",
      "  [5] _pullback (repeats 2 times)",
      "    @ C:\\Users\\Administrator.WIN-2EPKD7D6018\\.julia\\packages\\CUDA\\Uurn4\\lib\\utils\\threading.jl:46 [inlined]",
      "  [6] macro expansion",
      "    @ C:\\Users\\Administrator.WIN-2EPKD7D6018\\.julia\\packages\\CUDA\\Uurn4\\lib\\utils\\memoization.jl:66 [inlined]",
      "  [7] _pullback",
      "    @ C:\\Users\\Administrator.WIN-2EPKD7D6018\\.julia\\packages\\CUDA\\Uurn4\\src\\pool.jl:71 [inlined]",
      "  [8] _pullback(ctx::Zygote.Context, f::typeof(CUDA.stream_ordered), args::CuDevice)",
      "    @ Zygote C:\\Users\\Administrator.WIN-2EPKD7D6018\\.julia\\packages\\Zygote\\ytjqm\\src\\compiler\\interface2.jl:0",
      "  [9] macro expansion",
      "    @ C:\\Users\\Administrator.WIN-2EPKD7D6018\\.julia\\packages\\CUDA\\Uurn4\\src\\pool.jl:305 [inlined]",
      " [10] macro expansion",
      "    @ .\\timing.jl:299 [inlined]",
      " [11] _pullback",
      "    @ C:\\Users\\Administrator.WIN-2EPKD7D6018\\.julia\\packages\\CUDA\\Uurn4\\src\\pool.jl:304 [inlined]",
      " [12] _pullback",
      "    @ C:\\Users\\Administrator.WIN-2EPKD7D6018\\.julia\\packages\\CUDA\\Uurn4\\src\\pool.jl:300 [inlined]",
      " [13] _pullback(::Zygote.Context, ::CUDA.var\"#_alloc##kw\", ::NamedTuple{(:stream,), Tuple{Nothing}}, ::typeof(CUDA._alloc), ::Type{CUDA.Mem.DeviceBuffer}, ::Int64)",
      "    @ Zygote C:\\Users\\Administrator.WIN-2EPKD7D6018\\.julia\\packages\\Zygote\\ytjqm\\src\\compiler\\interface2.jl:0",
      " [14] _pullback",
      "    @ C:\\Users\\Administrator.WIN-2EPKD7D6018\\.julia\\packages\\CUDA\\Uurn4\\src\\pool.jl:290 [inlined]",
      " [15] _pullback",
      "    @ C:\\Users\\Administrator.WIN-2EPKD7D6018\\.julia\\packages\\CUDA\\Uurn4\\src\\pool.jl:286 [inlined]",
      " [16] _pullback",
      "    @ C:\\Users\\Administrator.WIN-2EPKD7D6018\\.julia\\packages\\CUDA\\Uurn4\\src\\array.jl:42 [inlined]",
      " [17] _pullback(::Zygote.Context, ::Type{CuArray{Float32, 5, CUDA.Mem.DeviceBuffer}}, ::UndefInitializer, ::NTuple{5, Int64})",
      "    @ Zygote C:\\Users\\Administrator.WIN-2EPKD7D6018\\.julia\\packages\\Zygote\\ytjqm\\src\\compiler\\interface2.jl:0",
      " [18] _pullback",
      "    @ C:\\Users\\Administrator.WIN-2EPKD7D6018\\.julia\\packages\\CUDA\\Uurn4\\src\\array.jl:125 [inlined]",
      " [19] _pullback",
      "    @ C:\\Users\\Administrator.WIN-2EPKD7D6018\\.julia\\packages\\CUDA\\Uurn4\\src\\array.jl:136 [inlined]",
      " [20] _pullback",
      "    @ .\\In[53]:17 [inlined]",
      " [21] _pullback(::Zygote.Context, ::var\"#25#26\"{CuArray{Float32, 5, CUDA.Mem.DeviceBuffer}, CuArray{Float32, 5, CUDA.Mem.DeviceBuffer}})",
      "    @ Zygote C:\\Users\\Administrator.WIN-2EPKD7D6018\\.julia\\packages\\Zygote\\ytjqm\\src\\compiler\\interface2.jl:0",
      " [22] pullback(f::Function, ps::Zygote.Params{Zygote.Buffer{Any, Vector{Any}}})",
      "    @ Zygote C:\\Users\\Administrator.WIN-2EPKD7D6018\\.julia\\packages\\Zygote\\ytjqm\\src\\compiler\\interface.jl:352",
      " [23] gradient(f::Function, args::Zygote.Params{Zygote.Buffer{Any, Vector{Any}}})",
      "    @ Zygote C:\\Users\\Administrator.WIN-2EPKD7D6018\\.julia\\packages\\Zygote\\ytjqm\\src\\compiler\\interface.jl:75",
      " [24] top-level scope",
      "    @ In[53]:15",
      " [25] eval",
      "    @ .\\boot.jl:373 [inlined]",
      " [26] include_string(mapexpr::typeof(REPL.softscope), mod::Module, code::String, filename::String)",
      "    @ Base .\\loading.jl:1196"
     ]
    }
   ],
   "source": [
    "for epoch in 1:max_epochs\n",
    "    step = 0\n",
    "    @show epoch\n",
    "\n",
    "    # epoch_time= @benchmark train_epoch($step)\n",
    "    # push!(step_epoch_mean, BenchmarkTools.mean(epoch_time).time)\n",
    "\n",
    "    # Loop through training data\n",
    "    for (xs, ys) in tdl\n",
    "        # step_time= @benchmark train_step($step,$xs,$ys)\n",
    "        # push!(step_time_mean, BenchmarkTools.mean(step_time).time)\n",
    "        # xs, ys = xs |> gpu, ys |> gpu\n",
    "        step += 1\n",
    "        @show step\n",
    "        gs = Flux.gradient(ps) do\n",
    "            ŷs = model(xs)\n",
    "            ys_dtm = CuArray{Float32}(undef, size(ys))\n",
    "            ŷs_dtm = CuArray{Float32}(undef, size(ŷs))\n",
    "            for b in size(ys, 5)\n",
    "                for c in size(ys, 4)\n",
    "                    for z in size(ys, 3)\n",
    "                        bool_arr_gt = boolean_indicator(ys[:, :, z, c, b])\n",
    "                        bool_arr_pred = boolean_indicator(ŷs[:, :, z, c, b])\n",
    "                        tfm_gt = SquaredEuclidean(bool_arr_gt)\n",
    "                        tfm_pred = SquaredEuclidean(bool_arr_pred)\n",
    "                        ys_dtm[:, :, z, c, b] = transform!(bool_arr_gt, tfm_gt)\n",
    "                        ŷs_dtm[:, :, z, c, b] = transform!(bool_arr_pred, tfm_pred)\n",
    "                    end\n",
    "                end\n",
    "            end\n",
    "            hd_loss = hausdorff(ŷs, ys, ŷs_dtm, ys_dtm)\n",
    "            dice_loss = dice(ŷs, ys)\n",
    "            α = 0.5\n",
    "            loss = α*dice_loss + (1-α)*hausdorff_loss\n",
    "            return loss\n",
    "        end\n",
    "        Flux.update!(optimizer, ps, gs)\n",
    "    end\n",
    "\n",
    "    # Loop through validation data\n",
    "    if (epoch) % val_interval == 0\n",
    "        val_step = 0\n",
    "        for (val_xs, val_ys) in vdl\n",
    "            # val_xs, val_ys = val_xs |> gpu, val_ys |> gpu\n",
    "            val_step += 1\n",
    "            @show val_step\n",
    "\n",
    "            local val_ŷs = model(val_xs)\n",
    "            local val_loss = loss_func\n",
    "            tion(val_ŷs[:, :, :, 2, :], val_ys[:, :, :, 2, :])\n",
    "            # val_ŷs, val_ys = as_discrete(val_ŷs, 0.5), as_discrete(val_ys, 0.5)\n",
    "        end\n",
    "    end\n",
    "end"
   ]
  },
  {
   "cell_type": "code",
   "execution_count": null,
   "metadata": {},
   "outputs": [
    {
     "data": {
      "text/plain": [
       "\"G:\\\\molloi-lab\\\\project-distance-transforms\\\\performance\\\\testing_4_20_epoch_fake.csv\""
      ]
     },
     "execution_count": 94,
     "metadata": {},
     "output_type": "execute_result"
    }
   ],
   "source": [
    "# df = DataFrame(\n",
    "# \tstep_epoch_mean = step_epoch_mean,\n",
    "# \t)\n",
    "\n",
    "# \tpath = raw\"G:\\molloi-lab\\project-distance-transforms\\performance\\testing_4_21_epoch_fake.csv\"\n",
    "# \tCSV.write(path, df)"
   ]
  },
  {
   "cell_type": "code",
   "execution_count": null,
   "metadata": {},
   "outputs": [],
   "source": [
    "CUDA.reclaim()"
   ]
  },
  {
   "cell_type": "code",
   "execution_count": null,
   "metadata": {},
   "outputs": [
    {
     "data": {
      "text/plain": [
       "([-0.6671397 -0.6671397 … -0.6671397 -0.6671397; -0.6671397 -0.6671397 … -0.6671397 -0.6671397; … ; -0.6671397 -0.6671397 … -0.6671397 -0.6671397; -0.6671397 -0.6671397 … -0.6671397 -0.6671397;;; -0.6671397 -0.6671397 … -0.6671397 -0.6671397; -0.6671397 -0.6671397 … -0.6671397 -0.6671397; … ; -0.6671397 -0.6671397 … -0.6671397 -0.6671397; -0.6671397 -0.6671397 … -0.6671397 -0.6671397;;; -0.6671397 -0.6671397 … -0.6671397 -0.6671397; -0.6671397 -0.6671397 … -0.6671397 -0.6671397; … ; -0.6671397 -0.6671397 … -0.6671397 -0.6671397; -0.6671397 -0.6671397 … -0.6671397 -0.6671397;;; … ;;; -0.6671397 -0.6671397 … -0.6671397 -0.6671397; -0.6671397 -0.6671397 … -0.6671397 -0.6671397; … ; -0.6671397 -0.6671397 … -0.6671397 -0.6671397; -0.6671397 -0.6671397 … -0.6671397 -0.6671397;;; -0.6671397 -0.6671397 … -0.6671397 -0.6671397; -0.6671397 -0.6671397 … -0.6671397 -0.6671397; … ; -0.6671397 -0.6671397 … -0.6671397 -0.6671397; -0.6671397 -0.6671397 … -0.6671397 -0.6671397;;; -0.6671397 -0.6671397 … -0.6671397 -0.6671397; -0.6671397 -0.6671397 … -0.6671397 -0.6671397; … ; -0.6671397 -0.6671397 … -0.6671397 -0.6671397; -0.6671397 -0.6671397 … -0.6671397 -0.6671397;;;;;], [1.0 1.0 … 1.0 1.0; 1.0 1.0 … 1.0 1.0; … ; 1.0 1.0 … 1.0 1.0; 1.0 1.0 … 1.0 1.0;;; 1.0 1.0 … 1.0 1.0; 1.0 1.0 … 1.0 1.0; … ; 1.0 1.0 … 1.0 1.0; 1.0 1.0 … 1.0 1.0;;; 1.0 1.0 … 1.0 1.0; 1.0 1.0 … 1.0 1.0; … ; 1.0 1.0 … 1.0 1.0; 1.0 1.0 … 1.0 1.0;;; … ;;; 1.0 1.0 … 1.0 1.0; 1.0 1.0 … 1.0 1.0; … ; 1.0 1.0 … 1.0 1.0; 1.0 1.0 … 1.0 1.0;;; 1.0 1.0 … 1.0 1.0; 1.0 1.0 … 1.0 1.0; … ; 1.0 1.0 … 1.0 1.0; 1.0 1.0 … 1.0 1.0;;; 1.0 1.0 … 1.0 1.0; 1.0 1.0 … 1.0 1.0; … ; 1.0 1.0 … 1.0 1.0; 1.0 1.0 … 1.0 1.0;;;; 0.0 0.0 … 0.0 0.0; 0.0 0.0 … 0.0 0.0; … ; 0.0 0.0 … 0.0 0.0; 0.0 0.0 … 0.0 0.0;;; 0.0 0.0 … 0.0 0.0; 0.0 0.0 … 0.0 0.0; … ; 0.0 0.0 … 0.0 0.0; 0.0 0.0 … 0.0 0.0;;; 0.0 0.0 … 0.0 0.0; 0.0 0.0 … 0.0 0.0; … ; 0.0 0.0 … 0.0 0.0; 0.0 0.0 … 0.0 0.0;;; … ;;; 0.0 0.0 … 0.0 0.0; 0.0 0.0 … 0.0 0.0; … ; 0.0 0.0 … 0.0 0.0; 0.0 0.0 … 0.0 0.0;;; 0.0 0.0 … 0.0 0.0; 0.0 0.0 … 0.0 0.0; … ; 0.0 0.0 … 0.0 0.0; 0.0 0.0 … 0.0 0.0;;; 0.0 0.0 … 0.0 0.0; 0.0 0.0 … 0.0 0.0; … ; 0.0 0.0 … 0.0 0.0; 0.0 0.0 … 0.0 0.0;;;;;])"
      ]
     },
     "execution_count": 46,
     "metadata": {},
     "output_type": "execute_result"
    }
   ],
   "source": [
    "xs, ys = getobs(tdl, 1)"
   ]
  },
  {
   "cell_type": "code",
   "execution_count": null,
   "metadata": {},
   "outputs": [
    {
     "data": {
      "text/plain": [
       "96×96×96×2×1 CuArray{Float32, 5, CUDA.Mem.DeviceBuffer}:\n",
       "[:, :, 1, 1, 1] =\n",
       " 1.0  1.0  1.0  1.0  1.0  1.0  1.0  1.0  …  1.0  1.0  1.0  1.0  1.0  1.0  1.0\n",
       " 1.0  1.0  1.0  1.0  1.0  1.0  1.0  1.0     1.0  1.0  1.0  1.0  1.0  1.0  1.0\n",
       " 1.0  1.0  1.0  1.0  1.0  1.0  1.0  1.0     1.0  1.0  1.0  1.0  1.0  1.0  1.0\n",
       " 1.0  1.0  1.0  1.0  1.0  1.0  1.0  1.0     1.0  1.0  1.0  1.0  1.0  1.0  1.0\n",
       " 1.0  1.0  1.0  1.0  1.0  1.0  1.0  1.0     1.0  1.0  1.0  1.0  1.0  1.0  1.0\n",
       " 1.0  1.0  1.0  1.0  1.0  1.0  1.0  1.0  …  1.0  1.0  1.0  1.0  1.0  1.0  1.0\n",
       " 1.0  1.0  1.0  1.0  1.0  1.0  1.0  1.0     1.0  1.0  1.0  1.0  1.0  1.0  1.0\n",
       " 1.0  1.0  1.0  1.0  1.0  1.0  1.0  1.0     1.0  1.0  1.0  1.0  1.0  1.0  1.0\n",
       " 1.0  1.0  1.0  1.0  1.0  1.0  1.0  1.0     1.0  1.0  1.0  1.0  1.0  1.0  1.0\n",
       " 1.0  1.0  1.0  1.0  1.0  1.0  1.0  1.0     1.0  1.0  1.0  1.0  1.0  1.0  1.0\n",
       " 1.0  1.0  1.0  1.0  1.0  1.0  1.0  1.0  …  1.0  1.0  1.0  1.0  1.0  1.0  1.0\n",
       " 1.0  1.0  1.0  1.0  1.0  1.0  1.0  1.0     1.0  1.0  1.0  1.0  1.0  1.0  1.0\n",
       " 1.0  1.0  1.0  1.0  1.0  1.0  1.0  1.0     1.0  1.0  1.0  1.0  1.0  1.0  1.0\n",
       " ⋮                        ⋮              ⋱       ⋮                        ⋮\n",
       " 1.0  1.0  1.0  1.0  1.0  1.0  1.0  1.0     1.0  1.0  1.0  1.0  1.0  1.0  1.0\n",
       " 1.0  1.0  1.0  1.0  1.0  1.0  1.0  1.0  …  1.0  1.0  1.0  1.0  1.0  1.0  1.0\n",
       " 1.0  1.0  1.0  1.0  1.0  1.0  1.0  1.0     1.0  1.0  1.0  1.0  1.0  1.0  1.0\n",
       " 1.0  1.0  1.0  1.0  1.0  1.0  1.0  1.0     1.0  1.0  1.0  1.0  1.0  1.0  1.0\n",
       " 1.0  1.0  1.0  1.0  1.0  1.0  1.0  1.0     1.0  1.0  1.0  1.0  1.0  1.0  1.0\n",
       " 1.0  1.0  1.0  1.0  1.0  1.0  1.0  1.0     1.0  1.0  1.0  1.0  1.0  1.0  1.0\n",
       " 1.0  1.0  1.0  1.0  1.0  1.0  1.0  1.0  …  1.0  1.0  1.0  1.0  1.0  1.0  1.0\n",
       " 1.0  1.0  1.0  1.0  1.0  1.0  1.0  1.0     1.0  1.0  1.0  1.0  1.0  1.0  1.0\n",
       " 1.0  1.0  1.0  1.0  1.0  1.0  1.0  1.0     1.0  1.0  1.0  1.0  1.0  1.0  1.0\n",
       " 1.0  1.0  1.0  1.0  1.0  1.0  1.0  1.0     1.0  1.0  1.0  1.0  1.0  1.0  1.0\n",
       " 1.0  1.0  1.0  1.0  1.0  1.0  1.0  1.0     1.0  1.0  1.0  1.0  1.0  1.0  1.0\n",
       " 1.0  1.0  1.0  1.0  1.0  1.0  1.0  1.0  …  1.0  1.0  1.0  1.0  1.0  1.0  1.0\n",
       "\n",
       "[:, :, 2, 1, 1] =\n",
       " 1.0  1.0  1.0  1.0  1.0  1.0  1.0  1.0  …  1.0  1.0  1.0  1.0  1.0  1.0  1.0\n",
       " 1.0  1.0  1.0  1.0  1.0  1.0  1.0  1.0     1.0  1.0  1.0  1.0  1.0  1.0  1.0\n",
       " 1.0  1.0  1.0  1.0  1.0  1.0  1.0  1.0     1.0  1.0  1.0  1.0  1.0  1.0  1.0\n",
       " 1.0  1.0  1.0  1.0  1.0  1.0  1.0  1.0     1.0  1.0  1.0  1.0  1.0  1.0  1.0\n",
       " 1.0  1.0  1.0  1.0  1.0  1.0  1.0  1.0     1.0  1.0  1.0  1.0  1.0  1.0  1.0\n",
       " 1.0  1.0  1.0  1.0  1.0  1.0  1.0  1.0  …  1.0  1.0  1.0  1.0  1.0  1.0  1.0\n",
       " 1.0  1.0  1.0  1.0  1.0  1.0  1.0  1.0     1.0  1.0  1.0  1.0  1.0  1.0  1.0\n",
       " 1.0  1.0  1.0  1.0  1.0  1.0  1.0  1.0     1.0  1.0  1.0  1.0  1.0  1.0  1.0\n",
       " 1.0  1.0  1.0  1.0  1.0  1.0  1.0  1.0     1.0  1.0  1.0  1.0  1.0  1.0  1.0\n",
       " 1.0  1.0  1.0  1.0  1.0  1.0  1.0  1.0     1.0  1.0  1.0  1.0  1.0  1.0  1.0\n",
       " 1.0  1.0  1.0  1.0  1.0  1.0  1.0  1.0  …  1.0  1.0  1.0  1.0  1.0  1.0  1.0\n",
       " 1.0  1.0  1.0  1.0  1.0  1.0  1.0  1.0     1.0  1.0  1.0  1.0  1.0  1.0  1.0\n",
       " 1.0  1.0  1.0  1.0  1.0  1.0  1.0  1.0     1.0  1.0  1.0  1.0  1.0  1.0  1.0\n",
       " ⋮                        ⋮              ⋱       ⋮                        ⋮\n",
       " 1.0  1.0  1.0  1.0  1.0  1.0  1.0  1.0     1.0  1.0  1.0  1.0  1.0  1.0  1.0\n",
       " 1.0  1.0  1.0  1.0  1.0  1.0  1.0  1.0  …  1.0  1.0  1.0  1.0  1.0  1.0  1.0\n",
       " 1.0  1.0  1.0  1.0  1.0  1.0  1.0  1.0     1.0  1.0  1.0  1.0  1.0  1.0  1.0\n",
       " 1.0  1.0  1.0  1.0  1.0  1.0  1.0  1.0     1.0  1.0  1.0  1.0  1.0  1.0  1.0\n",
       " 1.0  1.0  1.0  1.0  1.0  1.0  1.0  1.0     1.0  1.0  1.0  1.0  1.0  1.0  1.0\n",
       " 1.0  1.0  1.0  1.0  1.0  1.0  1.0  1.0     1.0  1.0  1.0  1.0  1.0  1.0  1.0\n",
       " 1.0  1.0  1.0  1.0  1.0  1.0  1.0  1.0  …  1.0  1.0  1.0  1.0  1.0  1.0  1.0\n",
       " 1.0  1.0  1.0  1.0  1.0  1.0  1.0  1.0     1.0  1.0  1.0  1.0  1.0  1.0  1.0\n",
       " 1.0  1.0  1.0  1.0  1.0  1.0  1.0  1.0     1.0  1.0  1.0  1.0  1.0  1.0  1.0\n",
       " 1.0  1.0  1.0  1.0  1.0  1.0  1.0  1.0     1.0  1.0  1.0  1.0  1.0  1.0  1.0\n",
       " 1.0  1.0  1.0  1.0  1.0  1.0  1.0  1.0     1.0  1.0  1.0  1.0  1.0  1.0  1.0\n",
       " 1.0  1.0  1.0  1.0  1.0  1.0  1.0  1.0  …  1.0  1.0  1.0  1.0  1.0  1.0  1.0\n",
       "\n",
       "[:, :, 3, 1, 1] =\n",
       " 1.0  1.0  1.0  1.0  1.0  1.0  1.0  1.0  …  1.0  1.0  1.0  1.0  1.0  1.0  1.0\n",
       " 1.0  1.0  1.0  1.0  1.0  1.0  1.0  1.0     1.0  1.0  1.0  1.0  1.0  1.0  1.0\n",
       " 1.0  1.0  1.0  1.0  1.0  1.0  1.0  1.0     1.0  1.0  1.0  1.0  1.0  1.0  1.0\n",
       " 1.0  1.0  1.0  1.0  1.0  1.0  1.0  1.0     1.0  1.0  1.0  1.0  1.0  1.0  1.0\n",
       " 1.0  1.0  1.0  1.0  1.0  1.0  1.0  1.0     1.0  1.0  1.0  1.0  1.0  1.0  1.0\n",
       " 1.0  1.0  1.0  1.0  1.0  1.0  1.0  1.0  …  1.0  1.0  1.0  1.0  1.0  1.0  1.0\n",
       " 1.0  1.0  1.0  1.0  1.0  1.0  1.0  1.0     1.0  1.0  1.0  1.0  1.0  1.0  1.0\n",
       " 1.0  1.0  1.0  1.0  1.0  1.0  1.0  1.0     1.0  1.0  1.0  1.0  1.0  1.0  1.0\n",
       " 1.0  1.0  1.0  1.0  1.0  1.0  1.0  1.0     1.0  1.0  1.0  1.0  1.0  1.0  1.0\n",
       " 1.0  1.0  1.0  1.0  1.0  1.0  1.0  1.0     1.0  1.0  1.0  1.0  1.0  1.0  1.0\n",
       " 1.0  1.0  1.0  1.0  1.0  1.0  1.0  1.0  …  1.0  1.0  1.0  1.0  1.0  1.0  1.0\n",
       " 1.0  1.0  1.0  1.0  1.0  1.0  1.0  1.0     1.0  1.0  1.0  1.0  1.0  1.0  1.0\n",
       " 1.0  1.0  1.0  1.0  1.0  1.0  1.0  1.0     1.0  1.0  1.0  1.0  1.0  1.0  1.0\n",
       " ⋮                        ⋮              ⋱       ⋮                        ⋮\n",
       " 1.0  1.0  1.0  1.0  1.0  1.0  1.0  1.0     1.0  1.0  1.0  1.0  1.0  1.0  1.0\n",
       " 1.0  1.0  1.0  1.0  1.0  1.0  1.0  1.0  …  1.0  1.0  1.0  1.0  1.0  1.0  1.0\n",
       " 1.0  1.0  1.0  1.0  1.0  1.0  1.0  1.0     1.0  1.0  1.0  1.0  1.0  1.0  1.0\n",
       " 1.0  1.0  1.0  1.0  1.0  1.0  1.0  1.0     1.0  1.0  1.0  1.0  1.0  1.0  1.0\n",
       " 1.0  1.0  1.0  1.0  1.0  1.0  1.0  1.0     1.0  1.0  1.0  1.0  1.0  1.0  1.0\n",
       " 1.0  1.0  1.0  1.0  1.0  1.0  1.0  1.0     1.0  1.0  1.0  1.0  1.0  1.0  1.0\n",
       " 1.0  1.0  1.0  1.0  1.0  1.0  1.0  1.0  …  1.0  1.0  1.0  1.0  1.0  1.0  1.0\n",
       " 1.0  1.0  1.0  1.0  1.0  1.0  1.0  1.0     1.0  1.0  1.0  1.0  1.0  1.0  1.0\n",
       " 1.0  1.0  1.0  1.0  1.0  1.0  1.0  1.0     1.0  1.0  1.0  1.0  1.0  1.0  1.0\n",
       " 1.0  1.0  1.0  1.0  1.0  1.0  1.0  1.0     1.0  1.0  1.0  1.0  1.0  1.0  1.0\n",
       " 1.0  1.0  1.0  1.0  1.0  1.0  1.0  1.0     1.0  1.0  1.0  1.0  1.0  1.0  1.0\n",
       " 1.0  1.0  1.0  1.0  1.0  1.0  1.0  1.0  …  1.0  1.0  1.0  1.0  1.0  1.0  1.0\n",
       "\n",
       ";;; … \n",
       "\n",
       "[:, :, 94, 1, 1] =\n",
       " 1.0  1.0  1.0  1.0  1.0  1.0  1.0  1.0  …  1.0  1.0  1.0  1.0  1.0  1.0  1.0\n",
       " 1.0  1.0  1.0  1.0  1.0  1.0  1.0  1.0     1.0  1.0  1.0  1.0  1.0  1.0  1.0\n",
       " 1.0  1.0  1.0  1.0  1.0  1.0  1.0  1.0     1.0  1.0  1.0  1.0  1.0  1.0  1.0\n",
       " 1.0  1.0  1.0  1.0  1.0  1.0  1.0  1.0     1.0  1.0  1.0  1.0  1.0  1.0  1.0\n",
       " 1.0  1.0  1.0  1.0  1.0  1.0  1.0  1.0     1.0  1.0  1.0  1.0  1.0  1.0  1.0\n",
       " 1.0  1.0  1.0  1.0  1.0  1.0  1.0  1.0  …  1.0  1.0  1.0  1.0  1.0  1.0  1.0\n",
       " 1.0  1.0  1.0  1.0  1.0  1.0  1.0  1.0     1.0  1.0  1.0  1.0  1.0  1.0  1.0\n",
       " 1.0  1.0  1.0  1.0  1.0  1.0  1.0  1.0     1.0  1.0  1.0  1.0  1.0  1.0  1.0\n",
       " 1.0  1.0  1.0  1.0  1.0  1.0  1.0  1.0     1.0  1.0  1.0  1.0  1.0  1.0  1.0\n",
       " 1.0  1.0  1.0  1.0  1.0  1.0  1.0  1.0     1.0  1.0  1.0  1.0  1.0  1.0  1.0\n",
       " 1.0  1.0  1.0  1.0  1.0  1.0  1.0  1.0  …  1.0  1.0  1.0  1.0  1.0  1.0  1.0\n",
       " 1.0  1.0  1.0  1.0  1.0  1.0  1.0  1.0     1.0  1.0  1.0  1.0  1.0  1.0  1.0\n",
       " 1.0  1.0  1.0  1.0  1.0  1.0  1.0  1.0     1.0  1.0  1.0  1.0  1.0  1.0  1.0\n",
       " ⋮                        ⋮              ⋱       ⋮                        ⋮\n",
       " 1.0  1.0  1.0  1.0  1.0  1.0  1.0  1.0     1.0  1.0  1.0  1.0  1.0  1.0  1.0\n",
       " 1.0  1.0  1.0  1.0  1.0  1.0  1.0  1.0  …  1.0  1.0  1.0  1.0  1.0  1.0  1.0\n",
       " 1.0  1.0  1.0  1.0  1.0  1.0  1.0  1.0     1.0  1.0  1.0  1.0  1.0  1.0  1.0\n",
       " 1.0  1.0  1.0  1.0  1.0  1.0  1.0  1.0     1.0  1.0  1.0  1.0  1.0  1.0  1.0\n",
       " 1.0  1.0  1.0  1.0  1.0  1.0  1.0  1.0     1.0  1.0  1.0  1.0  1.0  1.0  1.0\n",
       " 1.0  1.0  1.0  1.0  1.0  1.0  1.0  1.0     1.0  1.0  1.0  1.0  1.0  1.0  1.0\n",
       " 1.0  1.0  1.0  1.0  1.0  1.0  1.0  1.0  …  1.0  1.0  1.0  1.0  1.0  1.0  1.0\n",
       " 1.0  1.0  1.0  1.0  1.0  1.0  1.0  1.0     1.0  1.0  1.0  1.0  1.0  1.0  1.0\n",
       " 1.0  1.0  1.0  1.0  1.0  1.0  1.0  1.0     1.0  1.0  1.0  1.0  1.0  1.0  1.0\n",
       " 1.0  1.0  1.0  1.0  1.0  1.0  1.0  1.0     1.0  1.0  1.0  1.0  1.0  1.0  1.0\n",
       " 1.0  1.0  1.0  1.0  1.0  1.0  1.0  1.0     1.0  1.0  1.0  1.0  1.0  1.0  1.0\n",
       " 1.0  1.0  1.0  1.0  1.0  1.0  1.0  1.0  …  1.0  1.0  1.0  1.0  1.0  1.0  1.0\n",
       "\n",
       "[:, :, 95, 1, 1] =\n",
       " 1.0  1.0  1.0  1.0  1.0  1.0  1.0  1.0  …  1.0  1.0  1.0  1.0  1.0  1.0  1.0\n",
       " 1.0  1.0  1.0  1.0  1.0  1.0  1.0  1.0     1.0  1.0  1.0  1.0  1.0  1.0  1.0\n",
       " 1.0  1.0  1.0  1.0  1.0  1.0  1.0  1.0     1.0  1.0  1.0  1.0  1.0  1.0  1.0\n",
       " 1.0  1.0  1.0  1.0  1.0  1.0  1.0  1.0     1.0  1.0  1.0  1.0  1.0  1.0  1.0\n",
       " 1.0  1.0  1.0  1.0  1.0  1.0  1.0  1.0     1.0  1.0  1.0  1.0  1.0  1.0  1.0\n",
       " 1.0  1.0  1.0  1.0  1.0  1.0  1.0  1.0  …  1.0  1.0  1.0  1.0  1.0  1.0  1.0\n",
       " 1.0  1.0  1.0  1.0  1.0  1.0  1.0  1.0     1.0  1.0  1.0  1.0  1.0  1.0  1.0\n",
       " 1.0  1.0  1.0  1.0  1.0  1.0  1.0  1.0     1.0  1.0  1.0  1.0  1.0  1.0  1.0\n",
       " 1.0  1.0  1.0  1.0  1.0  1.0  1.0  1.0     1.0  1.0  1.0  1.0  1.0  1.0  1.0\n",
       " 1.0  1.0  1.0  1.0  1.0  1.0  1.0  1.0     1.0  1.0  1.0  1.0  1.0  1.0  1.0\n",
       " 1.0  1.0  1.0  1.0  1.0  1.0  1.0  1.0  …  1.0  1.0  1.0  1.0  1.0  1.0  1.0\n",
       " 1.0  1.0  1.0  1.0  1.0  1.0  1.0  1.0     1.0  1.0  1.0  1.0  1.0  1.0  1.0\n",
       " 1.0  1.0  1.0  1.0  1.0  1.0  1.0  1.0     1.0  1.0  1.0  1.0  1.0  1.0  1.0\n",
       " ⋮                        ⋮              ⋱       ⋮                        ⋮\n",
       " 1.0  1.0  1.0  1.0  1.0  1.0  1.0  1.0     1.0  1.0  1.0  1.0  1.0  1.0  1.0\n",
       " 1.0  1.0  1.0  1.0  1.0  1.0  1.0  1.0  …  1.0  1.0  1.0  1.0  1.0  1.0  1.0\n",
       " 1.0  1.0  1.0  1.0  1.0  1.0  1.0  1.0     1.0  1.0  1.0  1.0  1.0  1.0  1.0\n",
       " 1.0  1.0  1.0  1.0  1.0  1.0  1.0  1.0     1.0  1.0  1.0  1.0  1.0  1.0  1.0\n",
       " 1.0  1.0  1.0  1.0  1.0  1.0  1.0  1.0     1.0  1.0  1.0  1.0  1.0  1.0  1.0\n",
       " 1.0  1.0  1.0  1.0  1.0  1.0  1.0  1.0     1.0  1.0  1.0  1.0  1.0  1.0  1.0\n",
       " 1.0  1.0  1.0  1.0  1.0  1.0  1.0  1.0  …  1.0  1.0  1.0  1.0  1.0  1.0  1.0\n",
       " 1.0  1.0  1.0  1.0  1.0  1.0  1.0  1.0     1.0  1.0  1.0  1.0  1.0  1.0  1.0\n",
       " 1.0  1.0  1.0  1.0  1.0  1.0  1.0  1.0     1.0  1.0  1.0  1.0  1.0  1.0  1.0\n",
       " 1.0  1.0  1.0  1.0  1.0  1.0  1.0  1.0     1.0  1.0  1.0  1.0  1.0  1.0  1.0\n",
       " 1.0  1.0  1.0  1.0  1.0  1.0  1.0  1.0     1.0  1.0  1.0  1.0  1.0  1.0  1.0\n",
       " 1.0  1.0  1.0  1.0  1.0  1.0  1.0  1.0  …  1.0  1.0  1.0  1.0  1.0  1.0  1.0\n",
       "\n",
       "[:, :, 96, 1, 1] =\n",
       " 1.0  1.0  1.0  1.0  1.0  1.0  1.0  1.0  …  1.0  1.0  1.0  1.0  1.0  1.0  1.0\n",
       " 1.0  1.0  1.0  1.0  1.0  1.0  1.0  1.0     1.0  1.0  1.0  1.0  1.0  1.0  1.0\n",
       " 1.0  1.0  1.0  1.0  1.0  1.0  1.0  1.0     1.0  1.0  1.0  1.0  1.0  1.0  1.0\n",
       " 1.0  1.0  1.0  1.0  1.0  1.0  1.0  1.0     1.0  1.0  1.0  1.0  1.0  1.0  1.0\n",
       " 1.0  1.0  1.0  1.0  1.0  1.0  1.0  1.0     1.0  1.0  1.0  1.0  1.0  1.0  1.0\n",
       " 1.0  1.0  1.0  1.0  1.0  1.0  1.0  1.0  …  1.0  1.0  1.0  1.0  1.0  1.0  1.0\n",
       " 1.0  1.0  1.0  1.0  1.0  1.0  1.0  1.0     1.0  1.0  1.0  1.0  1.0  1.0  1.0\n",
       " 1.0  1.0  1.0  1.0  1.0  1.0  1.0  1.0     1.0  1.0  1.0  1.0  1.0  1.0  1.0\n",
       " 1.0  1.0  1.0  1.0  1.0  1.0  1.0  1.0     1.0  1.0  1.0  1.0  1.0  1.0  1.0\n",
       " 1.0  1.0  1.0  1.0  1.0  1.0  1.0  1.0     1.0  1.0  1.0  1.0  1.0  1.0  1.0\n",
       " 1.0  1.0  1.0  1.0  1.0  1.0  1.0  1.0  …  1.0  1.0  1.0  1.0  1.0  1.0  1.0\n",
       " 1.0  1.0  1.0  1.0  1.0  1.0  1.0  1.0     1.0  1.0  1.0  1.0  1.0  1.0  1.0\n",
       " 1.0  1.0  1.0  1.0  1.0  1.0  1.0  1.0     1.0  1.0  1.0  1.0  1.0  1.0  1.0\n",
       " ⋮                        ⋮              ⋱       ⋮                        ⋮\n",
       " 1.0  1.0  1.0  1.0  1.0  1.0  1.0  1.0     1.0  1.0  1.0  1.0  1.0  1.0  1.0\n",
       " 1.0  1.0  1.0  1.0  1.0  1.0  1.0  1.0  …  1.0  1.0  1.0  1.0  1.0  1.0  1.0\n",
       " 1.0  1.0  1.0  1.0  1.0  1.0  1.0  1.0     1.0  1.0  1.0  1.0  1.0  1.0  1.0\n",
       " 1.0  1.0  1.0  1.0  1.0  1.0  1.0  1.0     1.0  1.0  1.0  1.0  1.0  1.0  1.0\n",
       " 1.0  1.0  1.0  1.0  1.0  1.0  1.0  1.0     1.0  1.0  1.0  1.0  1.0  1.0  1.0\n",
       " 1.0  1.0  1.0  1.0  1.0  1.0  1.0  1.0     1.0  1.0  1.0  1.0  1.0  1.0  1.0\n",
       " 1.0  1.0  1.0  1.0  1.0  1.0  1.0  1.0  …  1.0  1.0  1.0  1.0  1.0  1.0  1.0\n",
       " 1.0  1.0  1.0  1.0  1.0  1.0  1.0  1.0     1.0  1.0  1.0  1.0  1.0  1.0  1.0\n",
       " 1.0  1.0  1.0  1.0  1.0  1.0  1.0  1.0     1.0  1.0  1.0  1.0  1.0  1.0  1.0\n",
       " 1.0  1.0  1.0  1.0  1.0  1.0  1.0  1.0     1.0  1.0  1.0  1.0  1.0  1.0  1.0\n",
       " 1.0  1.0  1.0  1.0  1.0  1.0  1.0  1.0     1.0  1.0  1.0  1.0  1.0  1.0  1.0\n",
       " 1.0  1.0  1.0  1.0  1.0  1.0  1.0  1.0  …  1.0  1.0  1.0  1.0  1.0  1.0  1.0\n",
       "\n",
       "[:, :, 1, 2, 1] =\n",
       " 0.0  0.0  0.0  0.0  0.0  0.0  0.0  0.0  …  0.0  0.0  0.0  0.0  0.0  0.0  0.0\n",
       " 0.0  0.0  0.0  0.0  0.0  0.0  0.0  0.0     0.0  0.0  0.0  0.0  0.0  0.0  0.0\n",
       " 0.0  0.0  0.0  0.0  0.0  0.0  0.0  0.0     0.0  0.0  0.0  0.0  0.0  0.0  0.0\n",
       " 0.0  0.0  0.0  0.0  0.0  0.0  0.0  0.0     0.0  0.0  0.0  0.0  0.0  0.0  0.0\n",
       " 0.0  0.0  0.0  0.0  0.0  0.0  0.0  0.0     0.0  0.0  0.0  0.0  0.0  0.0  0.0\n",
       " 0.0  0.0  0.0  0.0  0.0  0.0  0.0  0.0  …  0.0  0.0  0.0  0.0  0.0  0.0  0.0\n",
       " 0.0  0.0  0.0  0.0  0.0  0.0  0.0  0.0     0.0  0.0  0.0  0.0  0.0  0.0  0.0\n",
       " 0.0  0.0  0.0  0.0  0.0  0.0  0.0  0.0     0.0  0.0  0.0  0.0  0.0  0.0  0.0\n",
       " 0.0  0.0  0.0  0.0  0.0  0.0  0.0  0.0     0.0  0.0  0.0  0.0  0.0  0.0  0.0\n",
       " 0.0  0.0  0.0  0.0  0.0  0.0  0.0  0.0     0.0  0.0  0.0  0.0  0.0  0.0  0.0\n",
       " 0.0  0.0  0.0  0.0  0.0  0.0  0.0  0.0  …  0.0  0.0  0.0  0.0  0.0  0.0  0.0\n",
       " 0.0  0.0  0.0  0.0  0.0  0.0  0.0  0.0     0.0  0.0  0.0  0.0  0.0  0.0  0.0\n",
       " 0.0  0.0  0.0  0.0  0.0  0.0  0.0  0.0     0.0  0.0  0.0  0.0  0.0  0.0  0.0\n",
       " ⋮                        ⋮              ⋱       ⋮                        ⋮\n",
       " 0.0  0.0  0.0  0.0  0.0  0.0  0.0  0.0     0.0  0.0  0.0  0.0  0.0  0.0  0.0\n",
       " 0.0  0.0  0.0  0.0  0.0  0.0  0.0  0.0  …  0.0  0.0  0.0  0.0  0.0  0.0  0.0\n",
       " 0.0  0.0  0.0  0.0  0.0  0.0  0.0  0.0     0.0  0.0  0.0  0.0  0.0  0.0  0.0\n",
       " 0.0  0.0  0.0  0.0  0.0  0.0  0.0  0.0     0.0  0.0  0.0  0.0  0.0  0.0  0.0\n",
       " 0.0  0.0  0.0  0.0  0.0  0.0  0.0  0.0     0.0  0.0  0.0  0.0  0.0  0.0  0.0\n",
       " 0.0  0.0  0.0  0.0  0.0  0.0  0.0  0.0     0.0  0.0  0.0  0.0  0.0  0.0  0.0\n",
       " 0.0  0.0  0.0  0.0  0.0  0.0  0.0  0.0  …  0.0  0.0  0.0  0.0  0.0  0.0  0.0\n",
       " 0.0  0.0  0.0  0.0  0.0  0.0  0.0  0.0     0.0  0.0  0.0  0.0  0.0  0.0  0.0\n",
       " 0.0  0.0  0.0  0.0  0.0  0.0  0.0  0.0     0.0  0.0  0.0  0.0  0.0  0.0  0.0\n",
       " 0.0  0.0  0.0  0.0  0.0  0.0  0.0  0.0     0.0  0.0  0.0  0.0  0.0  0.0  0.0\n",
       " 0.0  0.0  0.0  0.0  0.0  0.0  0.0  0.0     0.0  0.0  0.0  0.0  0.0  0.0  0.0\n",
       " 0.0  0.0  0.0  0.0  0.0  0.0  0.0  0.0  …  0.0  0.0  0.0  0.0  0.0  0.0  0.0\n",
       "\n",
       "[:, :, 2, 2, 1] =\n",
       " 0.0  0.0  0.0  0.0  0.0  0.0  0.0  0.0  …  0.0  0.0  0.0  0.0  0.0  0.0  0.0\n",
       " 0.0  0.0  0.0  0.0  0.0  0.0  0.0  0.0     0.0  0.0  0.0  0.0  0.0  0.0  0.0\n",
       " 0.0  0.0  0.0  0.0  0.0  0.0  0.0  0.0     0.0  0.0  0.0  0.0  0.0  0.0  0.0\n",
       " 0.0  0.0  0.0  0.0  0.0  0.0  0.0  0.0     0.0  0.0  0.0  0.0  0.0  0.0  0.0\n",
       " 0.0  0.0  0.0  0.0  0.0  0.0  0.0  0.0     0.0  0.0  0.0  0.0  0.0  0.0  0.0\n",
       " 0.0  0.0  0.0  0.0  0.0  0.0  0.0  0.0  …  0.0  0.0  0.0  0.0  0.0  0.0  0.0\n",
       " 0.0  0.0  0.0  0.0  0.0  0.0  0.0  0.0     0.0  0.0  0.0  0.0  0.0  0.0  0.0\n",
       " 0.0  0.0  0.0  0.0  0.0  0.0  0.0  0.0     0.0  0.0  0.0  0.0  0.0  0.0  0.0\n",
       " 0.0  0.0  0.0  0.0  0.0  0.0  0.0  0.0     0.0  0.0  0.0  0.0  0.0  0.0  0.0\n",
       " 0.0  0.0  0.0  0.0  0.0  0.0  0.0  0.0     0.0  0.0  0.0  0.0  0.0  0.0  0.0\n",
       " 0.0  0.0  0.0  0.0  0.0  0.0  0.0  0.0  …  0.0  0.0  0.0  0.0  0.0  0.0  0.0\n",
       " 0.0  0.0  0.0  0.0  0.0  0.0  0.0  0.0     0.0  0.0  0.0  0.0  0.0  0.0  0.0\n",
       " 0.0  0.0  0.0  0.0  0.0  0.0  0.0  0.0     0.0  0.0  0.0  0.0  0.0  0.0  0.0\n",
       " ⋮                        ⋮              ⋱       ⋮                        ⋮\n",
       " 0.0  0.0  0.0  0.0  0.0  0.0  0.0  0.0     0.0  0.0  0.0  0.0  0.0  0.0  0.0\n",
       " 0.0  0.0  0.0  0.0  0.0  0.0  0.0  0.0  …  0.0  0.0  0.0  0.0  0.0  0.0  0.0\n",
       " 0.0  0.0  0.0  0.0  0.0  0.0  0.0  0.0     0.0  0.0  0.0  0.0  0.0  0.0  0.0\n",
       " 0.0  0.0  0.0  0.0  0.0  0.0  0.0  0.0     0.0  0.0  0.0  0.0  0.0  0.0  0.0\n",
       " 0.0  0.0  0.0  0.0  0.0  0.0  0.0  0.0     0.0  0.0  0.0  0.0  0.0  0.0  0.0\n",
       " 0.0  0.0  0.0  0.0  0.0  0.0  0.0  0.0     0.0  0.0  0.0  0.0  0.0  0.0  0.0\n",
       " 0.0  0.0  0.0  0.0  0.0  0.0  0.0  0.0  …  0.0  0.0  0.0  0.0  0.0  0.0  0.0\n",
       " 0.0  0.0  0.0  0.0  0.0  0.0  0.0  0.0     0.0  0.0  0.0  0.0  0.0  0.0  0.0\n",
       " 0.0  0.0  0.0  0.0  0.0  0.0  0.0  0.0     0.0  0.0  0.0  0.0  0.0  0.0  0.0\n",
       " 0.0  0.0  0.0  0.0  0.0  0.0  0.0  0.0     0.0  0.0  0.0  0.0  0.0  0.0  0.0\n",
       " 0.0  0.0  0.0  0.0  0.0  0.0  0.0  0.0     0.0  0.0  0.0  0.0  0.0  0.0  0.0\n",
       " 0.0  0.0  0.0  0.0  0.0  0.0  0.0  0.0  …  0.0  0.0  0.0  0.0  0.0  0.0  0.0\n",
       "\n",
       "[:, :, 3, 2, 1] =\n",
       " 0.0  0.0  0.0  0.0  0.0  0.0  0.0  0.0  …  0.0  0.0  0.0  0.0  0.0  0.0  0.0\n",
       " 0.0  0.0  0.0  0.0  0.0  0.0  0.0  0.0     0.0  0.0  0.0  0.0  0.0  0.0  0.0\n",
       " 0.0  0.0  0.0  0.0  0.0  0.0  0.0  0.0     0.0  0.0  0.0  0.0  0.0  0.0  0.0\n",
       " 0.0  0.0  0.0  0.0  0.0  0.0  0.0  0.0     0.0  0.0  0.0  0.0  0.0  0.0  0.0\n",
       " 0.0  0.0  0.0  0.0  0.0  0.0  0.0  0.0     0.0  0.0  0.0  0.0  0.0  0.0  0.0\n",
       " 0.0  0.0  0.0  0.0  0.0  0.0  0.0  0.0  …  0.0  0.0  0.0  0.0  0.0  0.0  0.0\n",
       " 0.0  0.0  0.0  0.0  0.0  0.0  0.0  0.0     0.0  0.0  0.0  0.0  0.0  0.0  0.0\n",
       " 0.0  0.0  0.0  0.0  0.0  0.0  0.0  0.0     0.0  0.0  0.0  0.0  0.0  0.0  0.0\n",
       " 0.0  0.0  0.0  0.0  0.0  0.0  0.0  0.0     0.0  0.0  0.0  0.0  0.0  0.0  0.0\n",
       " 0.0  0.0  0.0  0.0  0.0  0.0  0.0  0.0     0.0  0.0  0.0  0.0  0.0  0.0  0.0\n",
       " 0.0  0.0  0.0  0.0  0.0  0.0  0.0  0.0  …  0.0  0.0  0.0  0.0  0.0  0.0  0.0\n",
       " 0.0  0.0  0.0  0.0  0.0  0.0  0.0  0.0     0.0  0.0  0.0  0.0  0.0  0.0  0.0\n",
       " 0.0  0.0  0.0  0.0  0.0  0.0  0.0  0.0     0.0  0.0  0.0  0.0  0.0  0.0  0.0\n",
       " ⋮                        ⋮              ⋱       ⋮                        ⋮\n",
       " 0.0  0.0  0.0  0.0  0.0  0.0  0.0  0.0     0.0  0.0  0.0  0.0  0.0  0.0  0.0\n",
       " 0.0  0.0  0.0  0.0  0.0  0.0  0.0  0.0  …  0.0  0.0  0.0  0.0  0.0  0.0  0.0\n",
       " 0.0  0.0  0.0  0.0  0.0  0.0  0.0  0.0     0.0  0.0  0.0  0.0  0.0  0.0  0.0\n",
       " 0.0  0.0  0.0  0.0  0.0  0.0  0.0  0.0     0.0  0.0  0.0  0.0  0.0  0.0  0.0\n",
       " 0.0  0.0  0.0  0.0  0.0  0.0  0.0  0.0     0.0  0.0  0.0  0.0  0.0  0.0  0.0\n",
       " 0.0  0.0  0.0  0.0  0.0  0.0  0.0  0.0     0.0  0.0  0.0  0.0  0.0  0.0  0.0\n",
       " 0.0  0.0  0.0  0.0  0.0  0.0  0.0  0.0  …  0.0  0.0  0.0  0.0  0.0  0.0  0.0\n",
       " 0.0  0.0  0.0  0.0  0.0  0.0  0.0  0.0     0.0  0.0  0.0  0.0  0.0  0.0  0.0\n",
       " 0.0  0.0  0.0  0.0  0.0  0.0  0.0  0.0     0.0  0.0  0.0  0.0  0.0  0.0  0.0\n",
       " 0.0  0.0  0.0  0.0  0.0  0.0  0.0  0.0     0.0  0.0  0.0  0.0  0.0  0.0  0.0\n",
       " 0.0  0.0  0.0  0.0  0.0  0.0  0.0  0.0     0.0  0.0  0.0  0.0  0.0  0.0  0.0\n",
       " 0.0  0.0  0.0  0.0  0.0  0.0  0.0  0.0  …  0.0  0.0  0.0  0.0  0.0  0.0  0.0\n",
       "\n",
       ";;; … \n",
       "\n",
       "[:, :, 94, 2, 1] =\n",
       " 0.0  0.0  0.0  0.0  0.0  0.0  0.0  0.0  …  0.0  0.0  0.0  0.0  0.0  0.0  0.0\n",
       " 0.0  0.0  0.0  0.0  0.0  0.0  0.0  0.0     0.0  0.0  0.0  0.0  0.0  0.0  0.0\n",
       " 0.0  0.0  0.0  0.0  0.0  0.0  0.0  0.0     0.0  0.0  0.0  0.0  0.0  0.0  0.0\n",
       " 0.0  0.0  0.0  0.0  0.0  0.0  0.0  0.0     0.0  0.0  0.0  0.0  0.0  0.0  0.0\n",
       " 0.0  0.0  0.0  0.0  0.0  0.0  0.0  0.0     0.0  0.0  0.0  0.0  0.0  0.0  0.0\n",
       " 0.0  0.0  0.0  0.0  0.0  0.0  0.0  0.0  …  0.0  0.0  0.0  0.0  0.0  0.0  0.0\n",
       " 0.0  0.0  0.0  0.0  0.0  0.0  0.0  0.0     0.0  0.0  0.0  0.0  0.0  0.0  0.0\n",
       " 0.0  0.0  0.0  0.0  0.0  0.0  0.0  0.0     0.0  0.0  0.0  0.0  0.0  0.0  0.0\n",
       " 0.0  0.0  0.0  0.0  0.0  0.0  0.0  0.0     0.0  0.0  0.0  0.0  0.0  0.0  0.0\n",
       " 0.0  0.0  0.0  0.0  0.0  0.0  0.0  0.0     0.0  0.0  0.0  0.0  0.0  0.0  0.0\n",
       " 0.0  0.0  0.0  0.0  0.0  0.0  0.0  0.0  …  0.0  0.0  0.0  0.0  0.0  0.0  0.0\n",
       " 0.0  0.0  0.0  0.0  0.0  0.0  0.0  0.0     0.0  0.0  0.0  0.0  0.0  0.0  0.0\n",
       " 0.0  0.0  0.0  0.0  0.0  0.0  0.0  0.0     0.0  0.0  0.0  0.0  0.0  0.0  0.0\n",
       " ⋮                        ⋮              ⋱       ⋮                        ⋮\n",
       " 0.0  0.0  0.0  0.0  0.0  0.0  0.0  0.0     0.0  0.0  0.0  0.0  0.0  0.0  0.0\n",
       " 0.0  0.0  0.0  0.0  0.0  0.0  0.0  0.0  …  0.0  0.0  0.0  0.0  0.0  0.0  0.0\n",
       " 0.0  0.0  0.0  0.0  0.0  0.0  0.0  0.0     0.0  0.0  0.0  0.0  0.0  0.0  0.0\n",
       " 0.0  0.0  0.0  0.0  0.0  0.0  0.0  0.0     0.0  0.0  0.0  0.0  0.0  0.0  0.0\n",
       " 0.0  0.0  0.0  0.0  0.0  0.0  0.0  0.0     0.0  0.0  0.0  0.0  0.0  0.0  0.0\n",
       " 0.0  0.0  0.0  0.0  0.0  0.0  0.0  0.0     0.0  0.0  0.0  0.0  0.0  0.0  0.0\n",
       " 0.0  0.0  0.0  0.0  0.0  0.0  0.0  0.0  …  0.0  0.0  0.0  0.0  0.0  0.0  0.0\n",
       " 0.0  0.0  0.0  0.0  0.0  0.0  0.0  0.0     0.0  0.0  0.0  0.0  0.0  0.0  0.0\n",
       " 0.0  0.0  0.0  0.0  0.0  0.0  0.0  0.0     0.0  0.0  0.0  0.0  0.0  0.0  0.0\n",
       " 0.0  0.0  0.0  0.0  0.0  0.0  0.0  0.0     0.0  0.0  0.0  0.0  0.0  0.0  0.0\n",
       " 0.0  0.0  0.0  0.0  0.0  0.0  0.0  0.0     0.0  0.0  0.0  0.0  0.0  0.0  0.0\n",
       " 0.0  0.0  0.0  0.0  0.0  0.0  0.0  0.0  …  0.0  0.0  0.0  0.0  0.0  0.0  0.0\n",
       "\n",
       "[:, :, 95, 2, 1] =\n",
       " 0.0  0.0  0.0  0.0  0.0  0.0  0.0  0.0  …  0.0  0.0  0.0  0.0  0.0  0.0  0.0\n",
       " 0.0  0.0  0.0  0.0  0.0  0.0  0.0  0.0     0.0  0.0  0.0  0.0  0.0  0.0  0.0\n",
       " 0.0  0.0  0.0  0.0  0.0  0.0  0.0  0.0     0.0  0.0  0.0  0.0  0.0  0.0  0.0\n",
       " 0.0  0.0  0.0  0.0  0.0  0.0  0.0  0.0     0.0  0.0  0.0  0.0  0.0  0.0  0.0\n",
       " 0.0  0.0  0.0  0.0  0.0  0.0  0.0  0.0     0.0  0.0  0.0  0.0  0.0  0.0  0.0\n",
       " 0.0  0.0  0.0  0.0  0.0  0.0  0.0  0.0  …  0.0  0.0  0.0  0.0  0.0  0.0  0.0\n",
       " 0.0  0.0  0.0  0.0  0.0  0.0  0.0  0.0     0.0  0.0  0.0  0.0  0.0  0.0  0.0\n",
       " 0.0  0.0  0.0  0.0  0.0  0.0  0.0  0.0     0.0  0.0  0.0  0.0  0.0  0.0  0.0\n",
       " 0.0  0.0  0.0  0.0  0.0  0.0  0.0  0.0     0.0  0.0  0.0  0.0  0.0  0.0  0.0\n",
       " 0.0  0.0  0.0  0.0  0.0  0.0  0.0  0.0     0.0  0.0  0.0  0.0  0.0  0.0  0.0\n",
       " 0.0  0.0  0.0  0.0  0.0  0.0  0.0  0.0  …  0.0  0.0  0.0  0.0  0.0  0.0  0.0\n",
       " 0.0  0.0  0.0  0.0  0.0  0.0  0.0  0.0     0.0  0.0  0.0  0.0  0.0  0.0  0.0\n",
       " 0.0  0.0  0.0  0.0  0.0  0.0  0.0  0.0     0.0  0.0  0.0  0.0  0.0  0.0  0.0\n",
       " ⋮                        ⋮              ⋱       ⋮                        ⋮\n",
       " 0.0  0.0  0.0  0.0  0.0  0.0  0.0  0.0     0.0  0.0  0.0  0.0  0.0  0.0  0.0\n",
       " 0.0  0.0  0.0  0.0  0.0  0.0  0.0  0.0  …  0.0  0.0  0.0  0.0  0.0  0.0  0.0\n",
       " 0.0  0.0  0.0  0.0  0.0  0.0  0.0  0.0     0.0  0.0  0.0  0.0  0.0  0.0  0.0\n",
       " 0.0  0.0  0.0  0.0  0.0  0.0  0.0  0.0     0.0  0.0  0.0  0.0  0.0  0.0  0.0\n",
       " 0.0  0.0  0.0  0.0  0.0  0.0  0.0  0.0     0.0  0.0  0.0  0.0  0.0  0.0  0.0\n",
       " 0.0  0.0  0.0  0.0  0.0  0.0  0.0  0.0     0.0  0.0  0.0  0.0  0.0  0.0  0.0\n",
       " 0.0  0.0  0.0  0.0  0.0  0.0  0.0  0.0  …  0.0  0.0  0.0  0.0  0.0  0.0  0.0\n",
       " 0.0  0.0  0.0  0.0  0.0  0.0  0.0  0.0     0.0  0.0  0.0  0.0  0.0  0.0  0.0\n",
       " 0.0  0.0  0.0  0.0  0.0  0.0  0.0  0.0     0.0  0.0  0.0  0.0  0.0  0.0  0.0\n",
       " 0.0  0.0  0.0  0.0  0.0  0.0  0.0  0.0     0.0  0.0  0.0  0.0  0.0  0.0  0.0\n",
       " 0.0  0.0  0.0  0.0  0.0  0.0  0.0  0.0     0.0  0.0  0.0  0.0  0.0  0.0  0.0\n",
       " 0.0  0.0  0.0  0.0  0.0  0.0  0.0  0.0  …  0.0  0.0  0.0  0.0  0.0  0.0  0.0\n",
       "\n",
       "[:, :, 96, 2, 1] =\n",
       " 0.0  0.0  0.0  0.0  0.0  0.0  0.0  0.0  …  0.0  0.0  0.0  0.0  0.0  0.0  0.0\n",
       " 0.0  0.0  0.0  0.0  0.0  0.0  0.0  0.0     0.0  0.0  0.0  0.0  0.0  0.0  0.0\n",
       " 0.0  0.0  0.0  0.0  0.0  0.0  0.0  0.0     0.0  0.0  0.0  0.0  0.0  0.0  0.0\n",
       " 0.0  0.0  0.0  0.0  0.0  0.0  0.0  0.0     0.0  0.0  0.0  0.0  0.0  0.0  0.0\n",
       " 0.0  0.0  0.0  0.0  0.0  0.0  0.0  0.0     0.0  0.0  0.0  0.0  0.0  0.0  0.0\n",
       " 0.0  0.0  0.0  0.0  0.0  0.0  0.0  0.0  …  0.0  0.0  0.0  0.0  0.0  0.0  0.0\n",
       " 0.0  0.0  0.0  0.0  0.0  0.0  0.0  0.0     0.0  0.0  0.0  0.0  0.0  0.0  0.0\n",
       " 0.0  0.0  0.0  0.0  0.0  0.0  0.0  0.0     0.0  0.0  0.0  0.0  0.0  0.0  0.0\n",
       " 0.0  0.0  0.0  0.0  0.0  0.0  0.0  0.0     0.0  0.0  0.0  0.0  0.0  0.0  0.0\n",
       " 0.0  0.0  0.0  0.0  0.0  0.0  0.0  0.0     0.0  0.0  0.0  0.0  0.0  0.0  0.0\n",
       " 0.0  0.0  0.0  0.0  0.0  0.0  0.0  0.0  …  0.0  0.0  0.0  0.0  0.0  0.0  0.0\n",
       " 0.0  0.0  0.0  0.0  0.0  0.0  0.0  0.0     0.0  0.0  0.0  0.0  0.0  0.0  0.0\n",
       " 0.0  0.0  0.0  0.0  0.0  0.0  0.0  0.0     0.0  0.0  0.0  0.0  0.0  0.0  0.0\n",
       " ⋮                        ⋮              ⋱       ⋮                        ⋮\n",
       " 0.0  0.0  0.0  0.0  0.0  0.0  0.0  0.0     0.0  0.0  0.0  0.0  0.0  0.0  0.0\n",
       " 0.0  0.0  0.0  0.0  0.0  0.0  0.0  0.0  …  0.0  0.0  0.0  0.0  0.0  0.0  0.0\n",
       " 0.0  0.0  0.0  0.0  0.0  0.0  0.0  0.0     0.0  0.0  0.0  0.0  0.0  0.0  0.0\n",
       " 0.0  0.0  0.0  0.0  0.0  0.0  0.0  0.0     0.0  0.0  0.0  0.0  0.0  0.0  0.0\n",
       " 0.0  0.0  0.0  0.0  0.0  0.0  0.0  0.0     0.0  0.0  0.0  0.0  0.0  0.0  0.0\n",
       " 0.0  0.0  0.0  0.0  0.0  0.0  0.0  0.0     0.0  0.0  0.0  0.0  0.0  0.0  0.0\n",
       " 0.0  0.0  0.0  0.0  0.0  0.0  0.0  0.0  …  0.0  0.0  0.0  0.0  0.0  0.0  0.0\n",
       " 0.0  0.0  0.0  0.0  0.0  0.0  0.0  0.0     0.0  0.0  0.0  0.0  0.0  0.0  0.0\n",
       " 0.0  0.0  0.0  0.0  0.0  0.0  0.0  0.0     0.0  0.0  0.0  0.0  0.0  0.0  0.0\n",
       " 0.0  0.0  0.0  0.0  0.0  0.0  0.0  0.0     0.0  0.0  0.0  0.0  0.0  0.0  0.0\n",
       " 0.0  0.0  0.0  0.0  0.0  0.0  0.0  0.0     0.0  0.0  0.0  0.0  0.0  0.0  0.0\n",
       " 0.0  0.0  0.0  0.0  0.0  0.0  0.0  0.0  …  0.0  0.0  0.0  0.0  0.0  0.0  0.0"
      ]
     },
     "execution_count": 47,
     "metadata": {},
     "output_type": "execute_result"
    }
   ],
   "source": [
    "ŷs = ys"
   ]
  },
  {
   "cell_type": "code",
   "execution_count": null,
   "metadata": {},
   "outputs": [
    {
     "ename": "LoadError",
     "evalue": "MethodError: no method matching transform(::CuArray{Float32, 5, CUDA.Mem.DeviceBuffer}, ::SquaredEuclidean{Array{Float32, 5}, Array{Int64, 5}})\n\u001b[0mClosest candidates are:\n\u001b[0m  transform(\u001b[91m::AbstractVector{T}\u001b[39m, ::SquaredEuclidean) where T at C:\\Users\\Administrator.WIN-2EPKD7D6018\\.julia\\packages\\DistanceTransforms\\lfibx\\src\\squared_euclidean.jl:60\n\u001b[0m  transform(\u001b[91m::AbstractMatrix{T}\u001b[39m, ::SquaredEuclidean) where T at C:\\Users\\Administrator.WIN-2EPKD7D6018\\.julia\\packages\\DistanceTransforms\\lfibx\\src\\squared_euclidean.jl:164\n\u001b[0m  transform(\u001b[91m::AbstractArray{T, 3}\u001b[39m, ::SquaredEuclidean) where T at C:\\Users\\Administrator.WIN-2EPKD7D6018\\.julia\\packages\\DistanceTransforms\\lfibx\\src\\squared_euclidean.jl:193",
     "output_type": "error",
     "traceback": [
      "MethodError: no method matching transform(::CuArray{Float32, 5, CUDA.Mem.DeviceBuffer}, ::SquaredEuclidean{Array{Float32, 5}, Array{Int64, 5}})\n\u001b[0mClosest candidates are:\n\u001b[0m  transform(\u001b[91m::AbstractVector{T}\u001b[39m, ::SquaredEuclidean) where T at C:\\Users\\Administrator.WIN-2EPKD7D6018\\.julia\\packages\\DistanceTransforms\\lfibx\\src\\squared_euclidean.jl:60\n\u001b[0m  transform(\u001b[91m::AbstractMatrix{T}\u001b[39m, ::SquaredEuclidean) where T at C:\\Users\\Administrator.WIN-2EPKD7D6018\\.julia\\packages\\DistanceTransforms\\lfibx\\src\\squared_euclidean.jl:164\n\u001b[0m  transform(\u001b[91m::AbstractArray{T, 3}\u001b[39m, ::SquaredEuclidean) where T at C:\\Users\\Administrator.WIN-2EPKD7D6018\\.julia\\packages\\DistanceTransforms\\lfibx\\src\\squared_euclidean.jl:193",
      "",
      "Stacktrace:",
      " [1] top-level scope",
      "   @ In[48]:6",
      " [2] eval",
      "   @ .\\boot.jl:373 [inlined]",
      " [3] include_string(mapexpr::typeof(REPL.softscope), mod::Module, code::String, filename::String)",
      "   @ Base .\\loading.jl:1196"
     ]
    }
   ],
   "source": [
    "y_bool = boolean_indicator(ys)\n",
    "ŷ_bool = boolean_indicator(ŷs)\n",
    "loss_seg_dice = dice_loss(ŷ_bool, ys== 1)\n",
    "tfm1 = SquaredEuclidean(ys) \n",
    "tfm2 = SquaredEuclidean(ŷs) \n",
    "y_dtm = transform(y_bool, tfm1)\n",
    "ŷ_dtm = transform!(ŷ_bool, tfm2)\n",
    "y_dtm = transform(y_bool, tfm1)\n",
    "ŷ_dtm = transform!(ŷ_bool, tfm2)"
   ]
  },
  {
   "cell_type": "code",
   "execution_count": null,
   "metadata": {},
   "outputs": [],
   "source": [
    "# Pkg.add(\"DataFrames\")\n",
    "# Pkg.add(\"CSV\")\n",
    "# using DataFrames\n",
    "# using CSV"
   ]
  },
  {
   "cell_type": "code",
   "execution_count": null,
   "metadata": {},
   "outputs": [
    {
     "data": {
      "text/plain": [
       "CuArray{Float32, 5, CUDA.Mem.DeviceBuffer}"
      ]
     },
     "execution_count": 47,
     "metadata": {},
     "output_type": "execute_result"
    }
   ],
   "source": [
    "typeof(ys)"
   ]
  },
  {
   "cell_type": "code",
   "execution_count": null,
   "metadata": {},
   "outputs": [
    {
     "ename": "LoadError",
     "evalue": "MethodError: no method matching transform!(::CuArray{Float32, 5, CUDA.Mem.DeviceBuffer}, ::SquaredEuclidean{CuArray{Float32, 5, CUDA.Mem.DeviceBuffer}, CuArray{Int64, 5, CUDA.Mem.DeviceBuffer}})\n\u001b[0mClosest candidates are:\n\u001b[0m  transform!(\u001b[91m::CuArray{T, 2}\u001b[39m, ::SquaredEuclidean) where T at C:\\Users\\Administrator.WIN-2EPKD7D6018\\.julia\\packages\\DistanceTransforms\\lfibx\\src\\squared_euclidean.jl:226\n\u001b[0m  transform!(\u001b[91m::AbstractMatrix{T}\u001b[39m, ::SquaredEuclidean, \u001b[91m::Any\u001b[39m) where T at C:\\Users\\Administrator.WIN-2EPKD7D6018\\.julia\\packages\\DistanceTransforms\\lfibx\\src\\squared_euclidean.jl:211",
     "output_type": "error",
     "traceback": [
      "MethodError: no method matching transform!(::CuArray{Float32, 5, CUDA.Mem.DeviceBuffer}, ::SquaredEuclidean{CuArray{Float32, 5, CUDA.Mem.DeviceBuffer}, CuArray{Int64, 5, CUDA.Mem.DeviceBuffer}})\n\u001b[0mClosest candidates are:\n\u001b[0m  transform!(\u001b[91m::CuArray{T, 2}\u001b[39m, ::SquaredEuclidean) where T at C:\\Users\\Administrator.WIN-2EPKD7D6018\\.julia\\packages\\DistanceTransforms\\lfibx\\src\\squared_euclidean.jl:226\n\u001b[0m  transform!(\u001b[91m::AbstractMatrix{T}\u001b[39m, ::SquaredEuclidean, \u001b[91m::Any\u001b[39m) where T at C:\\Users\\Administrator.WIN-2EPKD7D6018\\.julia\\packages\\DistanceTransforms\\lfibx\\src\\squared_euclidean.jl:211",
      "",
      "Stacktrace:",
      " [1] top-level scope",
      "   @ In[69]:6",
      " [2] eval",
      "   @ .\\boot.jl:373 [inlined]",
      " [3] include_string(mapexpr::typeof(REPL.softscope), mod::Module, code::String, filename::String)",
      "   @ Base .\\loading.jl:1196"
     ]
    }
   ],
   "source": [
    "x = CUDA.ones(Float32, (10,10,10,10,10))\n",
    "dt = CuArray{Float32}(undef, size(x))\n",
    "v = CUDA.ones(Int64, size(x))\n",
    "z = CUDA.zeros(Float32, size(x) .+ 1)\n",
    "tfm = DistanceTransforms.SquaredEuclidean(x, dt, v, z)\n",
    "transform!(x, tfm)"
   ]
  },
  {
   "cell_type": "code",
   "execution_count": null,
   "metadata": {},
   "outputs": [
    {
     "data": {
      "text/plain": [
       "CuArray{Float32, 5, CUDA.Mem.DeviceBuffer}"
      ]
     },
     "execution_count": 70,
     "metadata": {},
     "output_type": "execute_result"
    }
   ],
   "source": [
    "typeof(x)"
   ]
  },
  {
   "cell_type": "code",
   "execution_count": null,
   "metadata": {},
   "outputs": [],
   "source": []
  },
  {
   "cell_type": "code",
   "execution_count": null,
   "metadata": {},
   "outputs": [],
   "source": []
  },
  {
   "cell_type": "code",
   "execution_count": null,
   "metadata": {},
   "outputs": [],
   "source": []
  },
  {
   "cell_type": "code",
   "execution_count": null,
   "metadata": {},
   "outputs": [],
   "source": []
  },
  {
   "cell_type": "code",
   "execution_count": null,
   "metadata": {},
   "outputs": [],
   "source": []
  }
 ],
 "metadata": {
  "kernelspec": {
   "display_name": "Julia 1.7.2",
   "language": "julia",
   "name": "julia-1.7"
  },
  "language_info": {
   "file_extension": ".jl",
   "mimetype": "application/julia",
   "name": "julia",
   "version": "1.7.2"
  },
  "orig_nbformat": 4
 },
 "nbformat": 4,
 "nbformat_minor": 2
}
