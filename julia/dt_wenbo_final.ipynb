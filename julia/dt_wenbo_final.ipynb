{
 "cells": [
  {
   "cell_type": "code",
   "execution_count": 1,
   "metadata": {},
   "outputs": [
    {
     "name": "stderr",
     "output_type": "stream",
     "text": [
      "\u001b[32m\u001b[1m  Activating\u001b[22m\u001b[39m project at `c:\\Users\\wenbl13\\Desktop\\project-distance-transforms-wenbo-2`\n"
     ]
    }
   ],
   "source": [
    "begin\n",
    "\tusing Pkg\n",
    "\tPkg.activate(\"..\")\n",
    "\t# Pkg.instantiate()\n",
    "\t\n",
    "\tusing PlutoUI\n",
    "\tusing CairoMakie\n",
    "\tusing LinearAlgebra\n",
    "\tusing Luxor\n",
    "\tusing BenchmarkTools\n",
    "\tusing Printf\n",
    "\tusing ImageMorphology\n",
    "\tusing LoopVectorization\n",
    "\tusing CUDA\n",
    "\tusing Test\n",
    "end"
   ]
  },
  {
   "cell_type": "code",
   "execution_count": 2,
   "metadata": {},
   "outputs": [
    {
     "data": {
      "text/plain": [
       "boolean_indicator (generic function with 1 method)"
      ]
     },
     "metadata": {},
     "output_type": "display_data"
    }
   ],
   "source": [
    "boolean_indicator(f) = @. ifelse(f == 0, 1f10, 0f0)"
   ]
  },
  {
   "cell_type": "code",
   "execution_count": 3,
   "metadata": {},
   "outputs": [
    {
     "data": {
      "text/plain": [
       "boolean_indicator (generic function with 2 methods)"
      ]
     },
     "metadata": {},
     "output_type": "display_data"
    }
   ],
   "source": [
    "function boolean_indicator(img::BitArray)\n",
    "\tf = similar(img, Float32)\n",
    "\t@turbo for i in CartesianIndices(f)\n",
    "           @inbounds f[i] = img[i] ? 0f0 : 1f10\n",
    "    end\n",
    "\treturn f\n",
    "end"
   ]
  },
  {
   "cell_type": "markdown",
   "metadata": {},
   "source": [
    "## Multi-Thded and Nonmulti-Thded"
   ]
  },
  {
   "cell_type": "markdown",
   "metadata": {},
   "source": [
    "## 1D"
   ]
  },
  {
   "cell_type": "code",
   "execution_count": 4,
   "metadata": {},
   "outputs": [
    {
     "data": {
      "text/plain": [
       "DT1Wenbo (generic function with 1 method)"
      ]
     },
     "metadata": {},
     "output_type": "display_data"
    }
   ],
   "source": [
    "begin\n",
    "\tfunction DT1helperA!(f)\n",
    "\t\t# i == -1 && j == -1\n",
    "\t\ti=length(f) \n",
    "\t\twhile i>0\n",
    "\t\t\t@inbounds f[i]=1f10\n",
    "\t\t\ti-=1\n",
    "\t\tend\n",
    "\tend\n",
    "\tfunction DT1helperB!(f, j)\n",
    "\t\t# i == -1 && j != -1\n",
    "\t\ttemp=1\n",
    "\t\twhile j>0\n",
    "\t\t\t@inbounds f[j]=temp^2\n",
    "\t\t\tj-=1\n",
    "\t\t\ttemp+=1\n",
    "\t\tend\n",
    "\tend\n",
    "\tfunction DT1helperC!(f, i)\n",
    "\t\t# i != -1 && j == -1\n",
    "\t\ttemp=1\n",
    "\t\tl = length(f)\n",
    "\t\twhile i<=l\n",
    "\t\t\t@inbounds f[i]=temp^2\n",
    "\t\t\ti+=1\n",
    "\t\t\ttemp+=1\n",
    "\t\tend\n",
    "\tend\n",
    "\tfunction DT1helperD!(f, i, j)\n",
    "\t\t# i != -1 && j != -1\n",
    "\t\ttemp=1\n",
    "\t\twhile(i<=j)\n",
    "\t\t\t@inbounds f[i]=f[j]=temp^2\n",
    "\t\t\ttemp+=1\n",
    "\t\t\ti+=1\n",
    "\t\t\tj-=1\n",
    "\t\tend\n",
    "\tend\n",
    "\tfunction DT1Wenbo!(f)\n",
    "\t\tpointerA = 1\n",
    "\t\tl = length(f)\n",
    "\t\twhile pointerA <= l\n",
    "\t\t\twhile pointerA <= l && @inbounds f[pointerA] == 0\n",
    "\t\t\t\tpointerA+=1\n",
    "\t\t\tend\n",
    "\t\t\tpointerB = pointerA\n",
    "\t\t\twhile pointerB <= l && @inbounds f[pointerB] == 1f10\n",
    "\t\t\t\tpointerB+=1\n",
    "\t\t\tend\n",
    "\t\t\tif pointerB > length(f)\n",
    "\t\t\t\tif pointerA == 1\n",
    "\t\t\t\t\tDT1helperA!(f)\n",
    "\t\t\t\telse\n",
    "\t\t\t\t\tDT1helperC!(f, pointerA)\n",
    "\t\t\t\tend\n",
    "\t\t\telse\n",
    "\t\t\t\tif pointerA == 1\n",
    "\t\t\t\t\tDT1helperB!(f, pointerB-1)\n",
    "\t\t\t\telse\n",
    "\t\t\t\t\tDT1helperD!(f, pointerA, pointerB-1)\n",
    "\t\t\t\tend\n",
    "\t\t\tend\n",
    "\t\t\tpointerA=pointerB\n",
    "\t\tend\n",
    "\tend\n",
    "\tfunction DT1Wenbo(f)\n",
    "\t\tf = boolean_indicator(f)\n",
    "\t\tDT1Wenbo!(f)\n",
    "\t\treturn f\n",
    "\tend\n",
    "end"
   ]
  },
  {
   "cell_type": "markdown",
   "metadata": {},
   "source": [
    "## 2D"
   ]
  },
  {
   "cell_type": "code",
   "execution_count": 5,
   "metadata": {},
   "outputs": [
    {
     "data": {
      "text/plain": [
       "DT2Wenbo (generic function with 1 method)"
      ]
     },
     "metadata": {},
     "output_type": "display_data"
    }
   ],
   "source": [
    "begin\n",
    "\tfunction encode(leftD, rightf)\n",
    "\t\tif rightf == 1f10\n",
    "\t\t\treturn -leftD\n",
    "\t\tend\n",
    "\t\tidx = 0\n",
    "\t\twhile(rightf>1)\n",
    "\t\t\trightf  /=10\n",
    "\t\t\tidx+=1 \n",
    "\t\tend\n",
    "\t\treturn -leftD-idx/10-rightf/10\n",
    "\tend\n",
    "\tfunction decode(curr)\t\n",
    "\t\tcurr *= -10   \t\t\t\t\n",
    "\t\ttemp = Int(floor(curr))\t\t\n",
    "\t\tcurr -= temp \t\t\t\t\n",
    "\t\tif curr == 0\n",
    "\t\t\treturn 1f10\n",
    "\t\tend\n",
    "\t\ttemp %= 10\n",
    "\t\twhile temp > 0\n",
    "\t\t\ttemp -= 1\n",
    "\t\t\tcurr*=10\n",
    "\t\tend\n",
    "\t\treturn round(curr)\n",
    "\tend\n",
    "\tfunction DT2Helper!(f)\n",
    "\t\tl = length(f)\n",
    "\t\tpointerA = 1\n",
    "\t\twhile pointerA<=l && @inbounds f[pointerA] <= 1\n",
    "\t\t\tpointerA += 1\n",
    "\t\tend\n",
    "\t\tp = 0\n",
    "\t\twhile pointerA<=l\n",
    "\t\t\t@inbounds curr = f[pointerA]\n",
    "\t\t\tprev = curr\n",
    "\t\t\ttemp = min(pointerA-1, p+1)\n",
    "\t\t\tp = 0\n",
    "\t\t\twhile (0 < temp)\n",
    "\t\t\t\t@inbounds fi = f[pointerA-temp]\n",
    "\t\t\t\tfi = fi < 0 ? decode(fi) : fi\n",
    "\t\t\t\tnewDistance = muladd(temp, temp, fi)\n",
    "\t\t\t\tif newDistance < curr\n",
    "\t\t\t\t\tcurr = newDistance\n",
    "\t\t\t\t\tp = temp\n",
    "\t\t\t\tend\n",
    "\t\t\t\ttemp -= 1\n",
    "\t\t\tend\n",
    "\t\t\ttemp = 1\n",
    "\t\t\ttempl = length(f) - pointerA\n",
    "\t\t\twhile (temp <= templ && muladd(temp, temp, -curr) < 0)\n",
    "\t\t\t\t@inbounds curr = min(curr, muladd(temp, temp, f[pointerA+temp]))\n",
    "\t\t\t\ttemp += 1\n",
    "\t\t\tend\n",
    "\t\t\t@inbounds f[pointerA] = encode(curr, prev)\n",
    "\t\t\t# end\n",
    "\t\t\tpointerA+=1\n",
    "\t\t\twhile pointerA<=l && @inbounds f[pointerA] <= 1\n",
    "\t\t\t\tpointerA += 1\n",
    "\t\t\tend\n",
    "\t\tend\n",
    "\t\ti = 0\n",
    "\t\twhile i<l\n",
    "\t\t\ti+=1\n",
    "\t\t\tf[i] = floor(abs(f[i]))\n",
    "\t\tend\n",
    "\tend\n",
    "\tfunction DT2WenboA!(f)\n",
    "\t\tfor i in axes(f, 1)\n",
    "\t\t\t@inbounds DT1Wenbo!(@view(f[i, :]))\n",
    "\t\tend\n",
    "\t\tfor i in axes(f, 2)\n",
    "\t\t\t@inbounds DT2Helper!(@view(f[:,i]))\n",
    "\t\tend\n",
    "\tend\n",
    "\tfunction DT2WenboB!(f)\n",
    "\t\tThreads.@threads for i in axes(f, 1)\n",
    "\t\t\t@inbounds DT1Wenbo!(@view(f[i, :]))\n",
    "\t\tend\n",
    "\t\tThreads.@threads for i in axes(f, 2)\n",
    "\t\t\t@inbounds DT2Helper!(@view(f[:,i]))\n",
    "\t\tend\n",
    "\tend\n",
    "\tfunction DT2Wenbo(f)\n",
    "\t\tf = boolean_indicator(f)\n",
    "\t\tDT2tf! = length(f) > 2700 && Threads.nthreads()>1 ?  DT2WenboB! : DT2WenboA!\n",
    "\t\tDT2tf!(f)\n",
    "\t\treturn f\n",
    "\tend\n",
    "end"
   ]
  },
  {
   "cell_type": "markdown",
   "metadata": {},
   "source": [
    "## 3D"
   ]
  },
  {
   "cell_type": "code",
   "execution_count": 6,
   "metadata": {},
   "outputs": [
    {
     "data": {
      "text/plain": [
       "DT3Wenbo (generic function with 1 method)"
      ]
     },
     "metadata": {},
     "output_type": "display_data"
    }
   ],
   "source": [
    "begin\n",
    "\tfunction DT3WenboA!(f)\n",
    "\t\tfor i in axes(f, 3)\n",
    "\t\t    @inbounds DT2WenboA!(@view(f[:, :, i]))\n",
    "\t\tend\n",
    "\t\tfor i in CartesianIndices(f[:,:,1])\n",
    "\t\t\t@inbounds DT2Helper!(@view(f[i, :]))\n",
    "\t\tend\n",
    "\tend \n",
    "\tfunction DT3WenboB!(f)\n",
    "\t\tThreads.@threads for i in axes(f, 3)\n",
    "\t\t    @inbounds DT2WenboB!(@view(f[:, :, i]))\n",
    "\t\tend\n",
    "\t\tThreads.@threads for i in CartesianIndices(f[:,:,1])\n",
    "\t\t\t@inbounds DT2Helper!(@view(f[i, :]))\n",
    "\t\tend\n",
    "\tend\n",
    "\tfunction DT3Wenbo(f)\n",
    "\t\tf = boolean_indicator(f)\n",
    "\t\tDT3tf! = length(f) > 2700 && Threads.nthreads()>1 ?  DT3WenboB! : DT3WenboA!\n",
    "\t\tDT3tf!(f)\n",
    "\t\treturn f\n",
    "\tend\n",
    "end"
   ]
  },
  {
   "cell_type": "markdown",
   "metadata": {},
   "source": [
    "## Timing: Wenbo vs ImageMorphology"
   ]
  },
  {
   "cell_type": "code",
   "execution_count": 7,
   "metadata": {},
   "outputs": [
    {
     "data": {
      "text/plain": [
       "euclideanImageMorphology (generic function with 1 method)"
      ]
     },
     "metadata": {},
     "output_type": "display_data"
    }
   ],
   "source": [
    "euclideanImageMorphology(img::BitArray) = distance_transform(feature_transform(img))"
   ]
  },
  {
   "cell_type": "code",
   "execution_count": 8,
   "metadata": {},
   "outputs": [
    {
     "data": {
      "text/plain": [
       "\"Test inputs created.\""
      ]
     },
     "metadata": {},
     "output_type": "display_data"
    }
   ],
   "source": [
    "begin\n",
    "\timg1DB = Bool.(rand([0, 1], 200))\n",
    "\timg2DB = Bool.(rand([0, 1], 200, 800))\n",
    "\timg3DB = Bool.(rand([0, 1], 200, 400, 600))\n",
    "\timg2D4kB = Bool.(rand([0, 1], 3840, 2160))\n",
    "\timg1DG = CuArray(img1DB)\n",
    "\timg2DG = CuArray(img2DB)\n",
    "\timg3DG = CuArray(img3DB)\n",
    "\timg2D4kG = CuArray(img2D4kB)\n",
    "\t\"Test inputs created.\"\n",
    "end"
   ]
  },
  {
   "cell_type": "markdown",
   "metadata": {},
   "source": [
    "### 1D"
   ]
  },
  {
   "cell_type": "code",
   "execution_count": 9,
   "metadata": {},
   "outputs": [
    {
     "data": {
      "text/plain": [
       "\"1D: 100 test cases passed!\""
      ]
     },
     "metadata": {},
     "output_type": "display_data"
    }
   ],
   "source": [
    "let\n",
    "\tn = 200\n",
    "\tfor i = 1: 100\n",
    "\t\tf = Bool.(rand([0, 1], n))\n",
    "\t\trslt1 = euclideanImageMorphology(f);\n",
    "\t\trslt1 .^ 2\n",
    "\t\trslt2 = DT1Wenbo(f)\n",
    "\t\tfor i in CartesianIndices(rslt1)\n",
    "\t\t\tif rslt1[i] - rslt2[i] != 0.0\n",
    "\t\t\t\t\"failed\"\n",
    "\t\t\t\tbreak\n",
    "\t\t\tend\n",
    "\t\tend\n",
    "\tend\n",
    "\t\"1D: 100 test cases passed!\"\n",
    "end"
   ]
  },
  {
   "cell_type": "code",
   "execution_count": 10,
   "metadata": {},
   "outputs": [
    {
     "data": {
      "text/plain": [
       "BenchmarkTools.Trial: 10000 samples with 401 evaluations.\n",
       " Range \u001b[90m(\u001b[39m\u001b[36m\u001b[1mmin\u001b[22m\u001b[39m … \u001b[35mmax\u001b[39m\u001b[90m):  \u001b[39m\u001b[36m\u001b[1m235.411 ns\u001b[22m\u001b[39m … \u001b[35m30.528 μs\u001b[39m  \u001b[90m┊\u001b[39m GC \u001b[90m(\u001b[39mmin … max\u001b[90m): \u001b[39m 0.00% … 98.27%\n",
       " Time  \u001b[90m(\u001b[39m\u001b[34m\u001b[1mmedian\u001b[22m\u001b[39m\u001b[90m):     \u001b[39m\u001b[34m\u001b[1m457.606 ns              \u001b[22m\u001b[39m\u001b[90m┊\u001b[39m GC \u001b[90m(\u001b[39mmedian\u001b[90m):    \u001b[39m 0.00%\n",
       " Time  \u001b[90m(\u001b[39m\u001b[32m\u001b[1mmean\u001b[22m\u001b[39m ± \u001b[32mσ\u001b[39m\u001b[90m):   \u001b[39m\u001b[32m\u001b[1m488.570 ns\u001b[22m\u001b[39m ± \u001b[32m 1.298 μs\u001b[39m  \u001b[90m┊\u001b[39m GC \u001b[90m(\u001b[39mmean ± σ\u001b[90m):  \u001b[39m13.21% ±  4.91%\n",
       "\n",
       "  \u001b[39m \u001b[39m \u001b[39m \u001b[39m▃\u001b[39m▄\u001b[39m \u001b[39m \u001b[39m \u001b[39m \u001b[39m \u001b[39m \u001b[39m \u001b[39m \u001b[39m \u001b[39m \u001b[39m \u001b[39m \u001b[39m \u001b[39m \u001b[39m \u001b[39m \u001b[39m \u001b[39m▂\u001b[39m▂\u001b[39m▂\u001b[34m▂\u001b[39m\u001b[39m▅\u001b[39m█\u001b[32m \u001b[39m\u001b[39m \u001b[39m \u001b[39m \u001b[39m \u001b[39m \u001b[39m \u001b[39m \u001b[39m \u001b[39m \u001b[39m \u001b[39m \u001b[39m \u001b[39m \u001b[39m \u001b[39m \u001b[39m \u001b[39m \u001b[39m \u001b[39m \u001b[39m \u001b[39m \u001b[39m \u001b[39m \u001b[39m \u001b[39m \u001b[39m \u001b[39m \u001b[39m \u001b[39m \u001b[39m \u001b[39m \u001b[39m \u001b[39m \n",
       "  \u001b[39m▃\u001b[39m▇\u001b[39m▇\u001b[39m█\u001b[39m█\u001b[39m▇\u001b[39m▃\u001b[39m▂\u001b[39m▁\u001b[39m▁\u001b[39m▁\u001b[39m▁\u001b[39m▁\u001b[39m▁\u001b[39m▁\u001b[39m▁\u001b[39m▁\u001b[39m▁\u001b[39m▁\u001b[39m▁\u001b[39m▁\u001b[39m▄\u001b[39m█\u001b[39m█\u001b[39m█\u001b[34m█\u001b[39m\u001b[39m█\u001b[39m█\u001b[32m▇\u001b[39m\u001b[39m▅\u001b[39m▄\u001b[39m▃\u001b[39m▃\u001b[39m▂\u001b[39m▂\u001b[39m▂\u001b[39m▂\u001b[39m▂\u001b[39m▂\u001b[39m▂\u001b[39m▂\u001b[39m▁\u001b[39m▁\u001b[39m▁\u001b[39m▁\u001b[39m▁\u001b[39m▁\u001b[39m▁\u001b[39m▁\u001b[39m▁\u001b[39m▁\u001b[39m▁\u001b[39m▁\u001b[39m▁\u001b[39m▁\u001b[39m▁\u001b[39m▁\u001b[39m▁\u001b[39m▁\u001b[39m▁\u001b[39m \u001b[39m▂\n",
       "  235 ns\u001b[90m          Histogram: frequency by time\u001b[39m          777 ns \u001b[0m\u001b[1m<\u001b[22m\n",
       "\n",
       " Memory estimate\u001b[90m: \u001b[39m\u001b[33m896 bytes\u001b[39m, allocs estimate\u001b[90m: \u001b[39m\u001b[33m1\u001b[39m."
      ]
     },
     "metadata": {},
     "output_type": "display_data"
    }
   ],
   "source": [
    "@benchmark DT1Wenbo($img1DB)"
   ]
  },
  {
   "cell_type": "code",
   "execution_count": 11,
   "metadata": {},
   "outputs": [
    {
     "data": {
      "text/plain": [
       "BenchmarkTools.Trial: 10000 samples with 10 evaluations.\n",
       " Range \u001b[90m(\u001b[39m\u001b[36m\u001b[1mmin\u001b[22m\u001b[39m … \u001b[35mmax\u001b[39m\u001b[90m):  \u001b[39m\u001b[36m\u001b[1m1.340 μs\u001b[22m\u001b[39m … \u001b[35m 1.163 ms\u001b[39m  \u001b[90m┊\u001b[39m GC \u001b[90m(\u001b[39mmin … max\u001b[90m): \u001b[39m 0.00% … 99.71%\n",
       " Time  \u001b[90m(\u001b[39m\u001b[34m\u001b[1mmedian\u001b[22m\u001b[39m\u001b[90m):     \u001b[39m\u001b[34m\u001b[1m2.430 μs              \u001b[22m\u001b[39m\u001b[90m┊\u001b[39m GC \u001b[90m(\u001b[39mmedian\u001b[90m):    \u001b[39m 0.00%\n",
       " Time  \u001b[90m(\u001b[39m\u001b[32m\u001b[1mmean\u001b[22m\u001b[39m ± \u001b[32mσ\u001b[39m\u001b[90m):   \u001b[39m\u001b[32m\u001b[1m3.657 μs\u001b[22m\u001b[39m ± \u001b[32m25.790 μs\u001b[39m  \u001b[90m┊\u001b[39m GC \u001b[90m(\u001b[39mmean ± σ\u001b[90m):  \u001b[39m17.17% ±  2.44%\n",
       "\n",
       "  \u001b[39m▆\u001b[39m█\u001b[39m▅\u001b[39m▂\u001b[39m \u001b[39m▃\u001b[34m▆\u001b[39m\u001b[39m▇\u001b[39m▅\u001b[39m▂\u001b[39m▁\u001b[39m \u001b[39m \u001b[32m \u001b[39m\u001b[39m \u001b[39m \u001b[39m \u001b[39m \u001b[39m \u001b[39m \u001b[39m \u001b[39m \u001b[39m \u001b[39m \u001b[39m \u001b[39m \u001b[39m \u001b[39m \u001b[39m▂\u001b[39m▃\u001b[39m▂\u001b[39m▁\u001b[39m▁\u001b[39m▂\u001b[39m▃\u001b[39m▂\u001b[39m▁\u001b[39m \u001b[39m \u001b[39m \u001b[39m \u001b[39m \u001b[39m \u001b[39m \u001b[39m \u001b[39m \u001b[39m \u001b[39m \u001b[39m \u001b[39m \u001b[39m \u001b[39m \u001b[39m \u001b[39m \u001b[39m \u001b[39m \u001b[39m \u001b[39m \u001b[39m \u001b[39m▂\n",
       "  \u001b[39m█\u001b[39m█\u001b[39m█\u001b[39m█\u001b[39m█\u001b[39m█\u001b[34m█\u001b[39m\u001b[39m█\u001b[39m█\u001b[39m█\u001b[39m█\u001b[39m█\u001b[39m█\u001b[32m█\u001b[39m\u001b[39m█\u001b[39m▇\u001b[39m▇\u001b[39m▇\u001b[39m▇\u001b[39m▇\u001b[39m▆\u001b[39m▅\u001b[39m▅\u001b[39m▅\u001b[39m▃\u001b[39m▃\u001b[39m▅\u001b[39m█\u001b[39m█\u001b[39m█\u001b[39m█\u001b[39m█\u001b[39m█\u001b[39m█\u001b[39m█\u001b[39m█\u001b[39m█\u001b[39m█\u001b[39m█\u001b[39m▇\u001b[39m▇\u001b[39m▆\u001b[39m▇\u001b[39m▇\u001b[39m▆\u001b[39m▆\u001b[39m▆\u001b[39m▅\u001b[39m▅\u001b[39m▆\u001b[39m▆\u001b[39m▅\u001b[39m▆\u001b[39m▅\u001b[39m▅\u001b[39m▅\u001b[39m▅\u001b[39m▅\u001b[39m \u001b[39m█\n",
       "  1.34 μs\u001b[90m      \u001b[39m\u001b[90mHistogram: \u001b[39m\u001b[90m\u001b[1mlog(\u001b[22m\u001b[39m\u001b[90mfrequency\u001b[39m\u001b[90m\u001b[1m)\u001b[22m\u001b[39m\u001b[90m by time\u001b[39m     11.5 μs \u001b[0m\u001b[1m<\u001b[22m\n",
       "\n",
       " Memory estimate\u001b[90m: \u001b[39m\u001b[33m8.97 KiB\u001b[39m, allocs estimate\u001b[90m: \u001b[39m\u001b[33m6\u001b[39m."
      ]
     },
     "metadata": {},
     "output_type": "display_data"
    }
   ],
   "source": [
    "@benchmark euclideanImageMorphology($img1DB)"
   ]
  },
  {
   "cell_type": "markdown",
   "metadata": {},
   "source": [
    "### 2D"
   ]
  },
  {
   "cell_type": "code",
   "execution_count": 12,
   "metadata": {},
   "outputs": [
    {
     "data": {
      "text/plain": [
       "\"2D: 100 test cases passed!\""
      ]
     },
     "metadata": {},
     "output_type": "display_data"
    }
   ],
   "source": [
    "let\n",
    "\tn = 200\n",
    "\tfor i = 1: 100\n",
    "\t\tf = Bool.(rand([0, 1], n, n))\n",
    "\t\trslt1 = euclideanImageMorphology(f);\n",
    "\t\trslt1 .^ 2\n",
    "\t\trslt2 = DT2Wenbo(f)\n",
    "\t\tfor i in CartesianIndices(rslt1)\n",
    "\t\t\tif rslt1[i] - rslt2[i] != 0.\n",
    "\t\t\t\t\"failed\"\n",
    "\t\t\t\tbreak\n",
    "\t\t\tend\n",
    "\t\tend\n",
    "\tend\n",
    "\t\"2D: 100 test cases passed!\"\n",
    "end"
   ]
  },
  {
   "cell_type": "code",
   "execution_count": 13,
   "metadata": {},
   "outputs": [
    {
     "data": {
      "text/plain": [
       "BenchmarkTools.Trial: 3221 samples with 1 evaluation.\n",
       " Range \u001b[90m(\u001b[39m\u001b[36m\u001b[1mmin\u001b[22m\u001b[39m … \u001b[35mmax\u001b[39m\u001b[90m):  \u001b[39m\u001b[36m\u001b[1m1.236 ms\u001b[22m\u001b[39m … \u001b[35m 14.492 ms\u001b[39m  \u001b[90m┊\u001b[39m GC \u001b[90m(\u001b[39mmin … max\u001b[90m): \u001b[39m0.00% … 89.20%\n",
       " Time  \u001b[90m(\u001b[39m\u001b[34m\u001b[1mmedian\u001b[22m\u001b[39m\u001b[90m):     \u001b[39m\u001b[34m\u001b[1m1.505 ms               \u001b[22m\u001b[39m\u001b[90m┊\u001b[39m GC \u001b[90m(\u001b[39mmedian\u001b[90m):    \u001b[39m0.00%\n",
       " Time  \u001b[90m(\u001b[39m\u001b[32m\u001b[1mmean\u001b[22m\u001b[39m ± \u001b[32mσ\u001b[39m\u001b[90m):   \u001b[39m\u001b[32m\u001b[1m1.549 ms\u001b[22m\u001b[39m ± \u001b[32m580.793 μs\u001b[39m  \u001b[90m┊\u001b[39m GC \u001b[90m(\u001b[39mmean ± σ\u001b[90m):  \u001b[39m2.41% ±  5.58%\n",
       "\n",
       "  \u001b[39m \u001b[39m \u001b[39m \u001b[39m \u001b[39m \u001b[39m \u001b[39m \u001b[39m \u001b[39m \u001b[39m \u001b[39m \u001b[39m \u001b[39m \u001b[39m \u001b[39m \u001b[39m \u001b[39m \u001b[39m \u001b[39m \u001b[39m \u001b[39m▃\u001b[39m \u001b[39m▂\u001b[39m▆\u001b[39m█\u001b[34m▇\u001b[39m\u001b[39m▅\u001b[39m▂\u001b[39m \u001b[32m \u001b[39m\u001b[39m \u001b[39m \u001b[39m \u001b[39m \u001b[39m \u001b[39m \u001b[39m \u001b[39m \u001b[39m \u001b[39m \u001b[39m \u001b[39m \u001b[39m \u001b[39m \u001b[39m \u001b[39m \u001b[39m \u001b[39m \u001b[39m \u001b[39m \u001b[39m \u001b[39m \u001b[39m \u001b[39m \u001b[39m \u001b[39m \u001b[39m \u001b[39m \u001b[39m \u001b[39m \u001b[39m \n",
       "  \u001b[39m▁\u001b[39m▁\u001b[39m▁\u001b[39m▁\u001b[39m▁\u001b[39m▁\u001b[39m▁\u001b[39m▁\u001b[39m▁\u001b[39m▂\u001b[39m▂\u001b[39m▃\u001b[39m▃\u001b[39m▃\u001b[39m▃\u001b[39m▃\u001b[39m▃\u001b[39m▄\u001b[39m▆\u001b[39m█\u001b[39m█\u001b[39m█\u001b[39m█\u001b[39m█\u001b[39m█\u001b[34m█\u001b[39m\u001b[39m█\u001b[39m█\u001b[39m█\u001b[32m▇\u001b[39m\u001b[39m▆\u001b[39m▄\u001b[39m▃\u001b[39m▂\u001b[39m▃\u001b[39m▂\u001b[39m▂\u001b[39m▂\u001b[39m▂\u001b[39m▂\u001b[39m▂\u001b[39m▂\u001b[39m▁\u001b[39m▁\u001b[39m▂\u001b[39m▂\u001b[39m▁\u001b[39m▁\u001b[39m▁\u001b[39m▁\u001b[39m▁\u001b[39m▁\u001b[39m▁\u001b[39m▁\u001b[39m▁\u001b[39m▁\u001b[39m▁\u001b[39m▁\u001b[39m▁\u001b[39m \u001b[39m▃\n",
       "  1.24 ms\u001b[90m         Histogram: frequency by time\u001b[39m        1.88 ms \u001b[0m\u001b[1m<\u001b[22m\n",
       "\n",
       " Memory estimate\u001b[90m: \u001b[39m\u001b[33m625.05 KiB\u001b[39m, allocs estimate\u001b[90m: \u001b[39m\u001b[33m2\u001b[39m."
      ]
     },
     "metadata": {},
     "output_type": "display_data"
    }
   ],
   "source": [
    "@benchmark DT2Wenbo($img2DB)"
   ]
  },
  {
   "cell_type": "code",
   "execution_count": 14,
   "metadata": {},
   "outputs": [
    {
     "data": {
      "text/plain": [
       "BenchmarkTools.Trial: 938 samples with 1 evaluation.\n",
       " Range \u001b[90m(\u001b[39m\u001b[36m\u001b[1mmin\u001b[22m\u001b[39m … \u001b[35mmax\u001b[39m\u001b[90m):  \u001b[39m\u001b[36m\u001b[1m4.411 ms\u001b[22m\u001b[39m … \u001b[35m19.059 ms\u001b[39m  \u001b[90m┊\u001b[39m GC \u001b[90m(\u001b[39mmin … max\u001b[90m): \u001b[39m0.00% … 58.78%\n",
       " Time  \u001b[90m(\u001b[39m\u001b[34m\u001b[1mmedian\u001b[22m\u001b[39m\u001b[90m):     \u001b[39m\u001b[34m\u001b[1m5.033 ms              \u001b[22m\u001b[39m\u001b[90m┊\u001b[39m GC \u001b[90m(\u001b[39mmedian\u001b[90m):    \u001b[39m0.00%\n",
       " Time  \u001b[90m(\u001b[39m\u001b[32m\u001b[1mmean\u001b[22m\u001b[39m ± \u001b[32mσ\u001b[39m\u001b[90m):   \u001b[39m\u001b[32m\u001b[1m5.322 ms\u001b[22m\u001b[39m ± \u001b[32m 1.490 ms\u001b[39m  \u001b[90m┊\u001b[39m GC \u001b[90m(\u001b[39mmean ± σ\u001b[90m):  \u001b[39m4.42% ± 10.23%\n",
       "\n",
       "  \u001b[39m \u001b[39m▅\u001b[39m█\u001b[39m█\u001b[34m█\u001b[39m\u001b[39m▆\u001b[32m▄\u001b[39m\u001b[39m▂\u001b[39m \u001b[39m \u001b[39m \u001b[39m \u001b[39m \u001b[39m \u001b[39m \u001b[39m \u001b[39m \u001b[39m \u001b[39m \u001b[39m \u001b[39m \u001b[39m \u001b[39m \u001b[39m \u001b[39m \u001b[39m \u001b[39m \u001b[39m \u001b[39m \u001b[39m \u001b[39m \u001b[39m \u001b[39m \u001b[39m \u001b[39m \u001b[39m \u001b[39m \u001b[39m \u001b[39m \u001b[39m \u001b[39m \u001b[39m \u001b[39m \u001b[39m \u001b[39m \u001b[39m \u001b[39m \u001b[39m \u001b[39m \u001b[39m \u001b[39m \u001b[39m \u001b[39m \u001b[39m \u001b[39m \u001b[39m \u001b[39m \u001b[39m \u001b[39m \u001b[39m \n",
       "  \u001b[39m▇\u001b[39m█\u001b[39m█\u001b[39m█\u001b[34m█\u001b[39m\u001b[39m█\u001b[32m█\u001b[39m\u001b[39m█\u001b[39m█\u001b[39m▅\u001b[39m▄\u001b[39m▁\u001b[39m▄\u001b[39m▄\u001b[39m▆\u001b[39m▄\u001b[39m▄\u001b[39m▁\u001b[39m▄\u001b[39m▆\u001b[39m▅\u001b[39m▇\u001b[39m▁\u001b[39m▁\u001b[39m▁\u001b[39m▁\u001b[39m▁\u001b[39m▁\u001b[39m▁\u001b[39m▁\u001b[39m▁\u001b[39m▁\u001b[39m▁\u001b[39m▁\u001b[39m▁\u001b[39m▁\u001b[39m▁\u001b[39m▁\u001b[39m▁\u001b[39m▁\u001b[39m▁\u001b[39m▁\u001b[39m▁\u001b[39m▁\u001b[39m▁\u001b[39m▁\u001b[39m▁\u001b[39m▁\u001b[39m▁\u001b[39m▁\u001b[39m▁\u001b[39m▄\u001b[39m▄\u001b[39m▅\u001b[39m▆\u001b[39m▆\u001b[39m▁\u001b[39m▇\u001b[39m \u001b[39m█\n",
       "  4.41 ms\u001b[90m      \u001b[39m\u001b[90mHistogram: \u001b[39m\u001b[90m\u001b[1mlog(\u001b[22m\u001b[39m\u001b[90mfrequency\u001b[39m\u001b[90m\u001b[1m)\u001b[22m\u001b[39m\u001b[90m by time\u001b[39m     13.8 ms \u001b[0m\u001b[1m<\u001b[22m\n",
       "\n",
       " Memory estimate\u001b[90m: \u001b[39m\u001b[33m3.75 MiB\u001b[39m, allocs estimate\u001b[90m: \u001b[39m\u001b[33m10\u001b[39m."
      ]
     },
     "metadata": {},
     "output_type": "display_data"
    }
   ],
   "source": [
    "@benchmark euclideanImageMorphology($img2DB)"
   ]
  },
  {
   "cell_type": "markdown",
   "metadata": {},
   "source": [
    "### 3D"
   ]
  },
  {
   "cell_type": "code",
   "execution_count": 15,
   "metadata": {},
   "outputs": [
    {
     "data": {
      "text/plain": [
       "\"3D: 100 test cases passed!\""
      ]
     },
     "metadata": {},
     "output_type": "display_data"
    }
   ],
   "source": [
    "let\n",
    "\tn = 200\n",
    "\tfor i = 1: 100\n",
    "\t\tf = Bool.(rand([0, 1], n, n, n))\n",
    "\t\trslt1 = euclideanImageMorphology(f);\n",
    "\t\trslt1 .^ 2\n",
    "\t\trslt2 = DT3Wenbo(f)\n",
    "\t\tfor i in CartesianIndices(rslt1)\n",
    "\t\t\tif rslt1[i] - rslt2[i] != 0.0\n",
    "\t\t\t\t\"failed\"\n",
    "\t\t\t\tbreak\n",
    "\t\t\tend\n",
    "\t\tend\n",
    "\tend\n",
    "\t\"3D: 100 test cases passed!\"\n",
    "end"
   ]
  },
  {
   "cell_type": "code",
   "execution_count": 16,
   "metadata": {},
   "outputs": [
    {
     "data": {
      "text/plain": [
       "BenchmarkTools.Trial: 9 samples with 1 evaluation.\n",
       " Range \u001b[90m(\u001b[39m\u001b[36m\u001b[1mmin\u001b[22m\u001b[39m … \u001b[35mmax\u001b[39m\u001b[90m):  \u001b[39m\u001b[36m\u001b[1m552.447 ms\u001b[22m\u001b[39m … \u001b[35m755.521 ms\u001b[39m  \u001b[90m┊\u001b[39m GC \u001b[90m(\u001b[39mmin … max\u001b[90m): \u001b[39m0.00% … 27.79%\n",
       " Time  \u001b[90m(\u001b[39m\u001b[34m\u001b[1mmedian\u001b[22m\u001b[39m\u001b[90m):     \u001b[39m\u001b[34m\u001b[1m577.809 ms               \u001b[22m\u001b[39m\u001b[90m┊\u001b[39m GC \u001b[90m(\u001b[39mmedian\u001b[90m):    \u001b[39m0.12%\n",
       " Time  \u001b[90m(\u001b[39m\u001b[32m\u001b[1mmean\u001b[22m\u001b[39m ± \u001b[32mσ\u001b[39m\u001b[90m):   \u001b[39m\u001b[32m\u001b[1m595.573 ms\u001b[22m\u001b[39m ± \u001b[32m 62.847 ms\u001b[39m  \u001b[90m┊\u001b[39m GC \u001b[90m(\u001b[39mmean ± σ\u001b[90m):  \u001b[39m5.41% ±  9.19%\n",
       "\n",
       "  \u001b[39m█\u001b[39m \u001b[39m \u001b[39m▁\u001b[34m▁\u001b[39m\u001b[39m \u001b[39m \u001b[39m▁\u001b[39m \u001b[39m \u001b[39m \u001b[39m▁\u001b[39m▁\u001b[32m \u001b[39m\u001b[39m \u001b[39m \u001b[39m▁\u001b[39m \u001b[39m \u001b[39m \u001b[39m \u001b[39m \u001b[39m \u001b[39m \u001b[39m \u001b[39m \u001b[39m \u001b[39m \u001b[39m \u001b[39m \u001b[39m \u001b[39m \u001b[39m \u001b[39m \u001b[39m \u001b[39m \u001b[39m \u001b[39m \u001b[39m \u001b[39m \u001b[39m \u001b[39m \u001b[39m \u001b[39m \u001b[39m \u001b[39m \u001b[39m \u001b[39m \u001b[39m \u001b[39m \u001b[39m \u001b[39m \u001b[39m \u001b[39m \u001b[39m \u001b[39m \u001b[39m \u001b[39m \u001b[39m \u001b[39m \u001b[39m▁\u001b[39m \u001b[39m \n",
       "  \u001b[39m█\u001b[39m▁\u001b[39m▁\u001b[39m█\u001b[34m█\u001b[39m\u001b[39m▁\u001b[39m▁\u001b[39m█\u001b[39m▁\u001b[39m▁\u001b[39m▁\u001b[39m█\u001b[39m█\u001b[32m▁\u001b[39m\u001b[39m▁\u001b[39m▁\u001b[39m█\u001b[39m▁\u001b[39m▁\u001b[39m▁\u001b[39m▁\u001b[39m▁\u001b[39m▁\u001b[39m▁\u001b[39m▁\u001b[39m▁\u001b[39m▁\u001b[39m▁\u001b[39m▁\u001b[39m▁\u001b[39m▁\u001b[39m▁\u001b[39m▁\u001b[39m▁\u001b[39m▁\u001b[39m▁\u001b[39m▁\u001b[39m▁\u001b[39m▁\u001b[39m▁\u001b[39m▁\u001b[39m▁\u001b[39m▁\u001b[39m▁\u001b[39m▁\u001b[39m▁\u001b[39m▁\u001b[39m▁\u001b[39m▁\u001b[39m▁\u001b[39m▁\u001b[39m▁\u001b[39m▁\u001b[39m▁\u001b[39m▁\u001b[39m▁\u001b[39m▁\u001b[39m▁\u001b[39m▁\u001b[39m▁\u001b[39m█\u001b[39m \u001b[39m▁\n",
       "  552 ms\u001b[90m           Histogram: frequency by time\u001b[39m          756 ms \u001b[0m\u001b[1m<\u001b[22m\n",
       "\n",
       " Memory estimate\u001b[90m: \u001b[39m\u001b[33m183.41 MiB\u001b[39m, allocs estimate\u001b[90m: \u001b[39m\u001b[33m4\u001b[39m."
      ]
     },
     "metadata": {},
     "output_type": "display_data"
    }
   ],
   "source": [
    "@benchmark DT3Wenbo($img3DB)"
   ]
  },
  {
   "cell_type": "code",
   "execution_count": 17,
   "metadata": {},
   "outputs": [
    {
     "data": {
      "text/plain": [
       "BenchmarkTools.Trial: 2 samples with 1 evaluation.\n",
       " Range \u001b[90m(\u001b[39m\u001b[36m\u001b[1mmin\u001b[22m\u001b[39m … \u001b[35mmax\u001b[39m\u001b[90m):  \u001b[39m\u001b[36m\u001b[1m2.493 s\u001b[22m\u001b[39m … \u001b[35m  2.629 s\u001b[39m  \u001b[90m┊\u001b[39m GC \u001b[90m(\u001b[39mmin … max\u001b[90m): \u001b[39m0.13% … 4.41%\n",
       " Time  \u001b[90m(\u001b[39m\u001b[34m\u001b[1mmedian\u001b[22m\u001b[39m\u001b[90m):     \u001b[39m\u001b[34m\u001b[1m2.561 s              \u001b[22m\u001b[39m\u001b[90m┊\u001b[39m GC \u001b[90m(\u001b[39mmedian\u001b[90m):    \u001b[39m2.33%\n",
       " Time  \u001b[90m(\u001b[39m\u001b[32m\u001b[1mmean\u001b[22m\u001b[39m ± \u001b[32mσ\u001b[39m\u001b[90m):   \u001b[39m\u001b[32m\u001b[1m2.561 s\u001b[22m\u001b[39m ± \u001b[32m96.022 ms\u001b[39m  \u001b[90m┊\u001b[39m GC \u001b[90m(\u001b[39mmean ± σ\u001b[90m):  \u001b[39m2.33% ± 3.03%\n",
       "\n",
       "  \u001b[34m█\u001b[39m\u001b[39m \u001b[39m \u001b[39m \u001b[39m \u001b[39m \u001b[39m \u001b[39m \u001b[39m \u001b[39m \u001b[39m \u001b[39m \u001b[39m \u001b[39m \u001b[39m \u001b[39m \u001b[39m \u001b[39m \u001b[39m \u001b[39m \u001b[39m \u001b[39m \u001b[39m \u001b[39m \u001b[39m \u001b[39m \u001b[39m \u001b[39m \u001b[32m \u001b[39m\u001b[39m \u001b[39m \u001b[39m \u001b[39m \u001b[39m \u001b[39m \u001b[39m \u001b[39m \u001b[39m \u001b[39m \u001b[39m \u001b[39m \u001b[39m \u001b[39m \u001b[39m \u001b[39m \u001b[39m \u001b[39m \u001b[39m \u001b[39m \u001b[39m \u001b[39m \u001b[39m \u001b[39m \u001b[39m \u001b[39m \u001b[39m \u001b[39m█\u001b[39m \u001b[39m \n",
       "  \u001b[34m█\u001b[39m\u001b[39m▁\u001b[39m▁\u001b[39m▁\u001b[39m▁\u001b[39m▁\u001b[39m▁\u001b[39m▁\u001b[39m▁\u001b[39m▁\u001b[39m▁\u001b[39m▁\u001b[39m▁\u001b[39m▁\u001b[39m▁\u001b[39m▁\u001b[39m▁\u001b[39m▁\u001b[39m▁\u001b[39m▁\u001b[39m▁\u001b[39m▁\u001b[39m▁\u001b[39m▁\u001b[39m▁\u001b[39m▁\u001b[39m▁\u001b[39m▁\u001b[32m▁\u001b[39m\u001b[39m▁\u001b[39m▁\u001b[39m▁\u001b[39m▁\u001b[39m▁\u001b[39m▁\u001b[39m▁\u001b[39m▁\u001b[39m▁\u001b[39m▁\u001b[39m▁\u001b[39m▁\u001b[39m▁\u001b[39m▁\u001b[39m▁\u001b[39m▁\u001b[39m▁\u001b[39m▁\u001b[39m▁\u001b[39m▁\u001b[39m▁\u001b[39m▁\u001b[39m▁\u001b[39m▁\u001b[39m▁\u001b[39m▁\u001b[39m▁\u001b[39m█\u001b[39m \u001b[39m▁\n",
       "  2.49 s\u001b[90m         Histogram: frequency by time\u001b[39m        2.63 s \u001b[0m\u001b[1m<\u001b[22m\n",
       "\n",
       " Memory estimate\u001b[90m: \u001b[39m\u001b[33m1.44 GiB\u001b[39m, allocs estimate\u001b[90m: \u001b[39m\u001b[33m480009\u001b[39m."
      ]
     },
     "metadata": {},
     "output_type": "display_data"
    }
   ],
   "source": [
    "@benchmark euclideanImageMorphology($img3DB)"
   ]
  },
  {
   "cell_type": "markdown",
   "metadata": {},
   "source": [
    "# Rewriting Wenbo!() for GPU Compatibility"
   ]
  },
  {
   "cell_type": "code",
   "execution_count": 18,
   "metadata": {},
   "outputs": [
    {
     "data": {
      "text/plain": [
       "_boolean_indicator_GPU! (generic function with 1 method)"
      ]
     },
     "metadata": {},
     "output_type": "display_data"
    }
   ],
   "source": [
    "function _boolean_indicator_GPU!(out, f)\n",
    "\ti = threadIdx().x + (blockIdx().x - 1) * blockDim().x\n",
    "\t@inbounds out[i] = f[i] ? 0f0 : 1f10\n",
    "\treturn\n",
    "end"
   ]
  },
  {
   "cell_type": "code",
   "execution_count": 19,
   "metadata": {},
   "outputs": [
    {
     "data": {
      "text/plain": [
       "\"Created boolean_indicator_GPU kernels.\""
      ]
     },
     "metadata": {},
     "output_type": "display_data"
    }
   ],
   "source": [
    "begin\n",
    "\tb_i_GPU_kernels = []\n",
    "\tkernel = @cuda launch=false _boolean_indicator_GPU!(CuArray{Float32, 1}(undef, 1), CuArray{Bool, 1}(undef, 1))\n",
    "\tpush!(b_i_GPU_kernels, kernel)\n",
    "\tkernel = @cuda launch=false _boolean_indicator_GPU!(CuArray{Float32, 2}(undef, 1, 1), CuArray{Bool, 2}(undef, 1, 1))\n",
    "\tpush!(b_i_GPU_kernels, kernel)\n",
    "\tkernel = @cuda launch=false _boolean_indicator_GPU!(CuArray{Float32, 3}(undef, 1, 1, 1), CuArray{Bool, 3}(undef, 1, 1, 1))\n",
    "\tpush!(b_i_GPU_kernels, kernel)\n",
    "\tconfig_threads = launch_configuration(kernel.fun).threads\n",
    "\t\"Created boolean_indicator_GPU kernels.\"\n",
    "end"
   ]
  },
  {
   "cell_type": "code",
   "execution_count": 29,
   "metadata": {},
   "outputs": [
    {
     "data": {
      "text/plain": [
       "boolean_indicator_GPU (generic function with 1 method)"
      ]
     },
     "metadata": {},
     "output_type": "display_data"
    }
   ],
   "source": [
    "begin\n",
    "\tfunction boolean_indicator_GPU(f)\n",
    "\t\t# input = CuArray(img)\n",
    "\t\toutput = similar(f, Float32)\n",
    "\t\tthreads = min(length(f), config_threads)\n",
    "\t\tblocks = cld(length(f), threads)\n",
    "\t\tb_i_GPU_kernels[ndims(f)](output, f; threads, blocks)\n",
    "\t\treturn output\n",
    "\tend\n",
    "end"
   ]
  },
  {
   "cell_type": "code",
   "execution_count": 30,
   "metadata": {},
   "outputs": [],
   "source": [
    "CUDA.reclaim()"
   ]
  },
  {
   "cell_type": "code",
   "execution_count": 54,
   "metadata": {},
   "outputs": [
    {
     "data": {
      "text/plain": [
       "DT1Wenbo_GPU (generic function with 2 methods)"
      ]
     },
     "metadata": {},
     "output_type": "display_data"
    }
   ],
   "source": [
    "begin\n",
    "\tfunction DT1helperA_GPU!(f)\n",
    "\t\t# i == -1 && j == -1\n",
    "\t\ti=length(f) \n",
    "\t\twhile i>0\n",
    "\t\t\t@inbounds f[i]=1f10\n",
    "\t\t\ti-=1\n",
    "\t\tend\n",
    "\tend\n",
    "\tfunction DT1helperB_GPU!(f, j)\n",
    "\t\t# i == -1 && j != -1\n",
    "\t\ttemp=1\n",
    "\t\twhile j>0\n",
    "\t\t\t@inbounds f[j]=temp^2\n",
    "\t\t\tj-=1\n",
    "\t\t\ttemp+=1\n",
    "\t\tend\n",
    "\tend\n",
    "\tfunction DT1helperC_GPU!(f, i)\n",
    "\t\t# i != -1 && j == -1\n",
    "\t\ttemp=1\n",
    "\t\tl = length(f)\n",
    "\t\twhile i<=l\n",
    "\t\t\t@inbounds f[i]=temp^2\n",
    "\t\t\ti+=1\n",
    "\t\t\ttemp+=1\n",
    "\t\tend\n",
    "\tend\n",
    "\tfunction DT1helperD_GPU!(f, i, j)\n",
    "\t\t# i != -1 && j != -1\n",
    "\t\ttemp=1\n",
    "\t\twhile(i<=j)\n",
    "\t\t\t@inbounds f[i]=f[j]=temp^2\n",
    "\t\t\ttemp+=1\n",
    "\t\t\ti+=1\n",
    "\t\t\tj-=1\n",
    "\t\tend\n",
    "\tend\n",
    "\t# function DT1Wenbo_GPU!(f)\n",
    "\t# \t# println(f[1])\n",
    "\t# \tpointerA = 1\n",
    "\t# \t# l = length(f)\n",
    "\t# \t# while pointerA <= l\n",
    "\t# \t# \twhile pointerA <= l && @inbounds f[pointerA] == 0\n",
    "\t# \t# \t\tpointerA+=1\n",
    "\t# \t# \tend\n",
    "\t# \t# \tpointerB = pointerA\n",
    "\t# \t# \twhile pointerB <= l && @inbounds f[pointerB] == 1f10\n",
    "\t# \t# \t\tpointerB+=1\n",
    "\t# \t# \tend\n",
    "\t# \t# \tif pointerB > length(f)\n",
    "\t# \t# \t\tif pointerA == 1\n",
    "\t# \t# \t\t\t@cuda DT1helperA_GPU!(f)\n",
    "\t# \t# \t\telse\n",
    "\t# \t# \t\t\t@cuda DT1helperC_GPU!(f, pointerA)\n",
    "\t# \t# \t\tend\n",
    "\t# \t# \telse\n",
    "\t# \t# \t\tif pointerA == 1\n",
    "\t# \t# \t\t\t@cuda DT1helperB_GPU!(f, pointerB-1)\n",
    "\t# \t# \t\telse\n",
    "\t# \t# \t\t\t@cuda DT1helperD_GPU!(f, pointerA, pointerB-1)\n",
    "\t# \t# \t\tend\n",
    "\t# \t# \tend\n",
    "\t# \t# \tpointerA=pointerB\n",
    "\t# \t# end\n",
    "\t# end\n",
    "\tfunction DT1Wenbo_GPU(f)\n",
    "\t\t# f = boolean_indicator_GPU(f)\n",
    "\t\t# DT1Wenbo_GPU!(f)\n",
    "\t\treturn f\n",
    "\tend\n",
    "end"
   ]
  },
  {
   "cell_type": "code",
   "execution_count": 38,
   "metadata": {},
   "outputs": [
    {
     "data": {
      "text/plain": [
       "BenchmarkTools.Trial: 10000 samples with 1 evaluation.\n",
       " Range \u001b[90m(\u001b[39m\u001b[36m\u001b[1mmin\u001b[22m\u001b[39m … \u001b[35mmax\u001b[39m\u001b[90m):  \u001b[39m\u001b[36m\u001b[1m28.500 μs\u001b[22m\u001b[39m … \u001b[35m921.800 μs\u001b[39m  \u001b[90m┊\u001b[39m GC \u001b[90m(\u001b[39mmin … max\u001b[90m): \u001b[39m0.00% … 0.00%\n",
       " Time  \u001b[90m(\u001b[39m\u001b[34m\u001b[1mmedian\u001b[22m\u001b[39m\u001b[90m):     \u001b[39m\u001b[34m\u001b[1m36.500 μs               \u001b[22m\u001b[39m\u001b[90m┊\u001b[39m GC \u001b[90m(\u001b[39mmedian\u001b[90m):    \u001b[39m0.00%\n",
       " Time  \u001b[90m(\u001b[39m\u001b[32m\u001b[1mmean\u001b[22m\u001b[39m ± \u001b[32mσ\u001b[39m\u001b[90m):   \u001b[39m\u001b[32m\u001b[1m38.468 μs\u001b[22m\u001b[39m ± \u001b[32m 15.047 μs\u001b[39m  \u001b[90m┊\u001b[39m GC \u001b[90m(\u001b[39mmean ± σ\u001b[90m):  \u001b[39m0.00% ± 0.00%\n",
       "\n",
       "  \u001b[39m \u001b[39m \u001b[39m \u001b[39m \u001b[39m \u001b[39m \u001b[39m \u001b[39m \u001b[39m▅\u001b[39m█\u001b[34m█\u001b[39m\u001b[39m▆\u001b[39m▃\u001b[32m▂\u001b[39m\u001b[39m▁\u001b[39m \u001b[39m \u001b[39m \u001b[39m \u001b[39m \u001b[39m \u001b[39m \u001b[39m \u001b[39m \u001b[39m \u001b[39m \u001b[39m \u001b[39m \u001b[39m \u001b[39m \u001b[39m \u001b[39m \u001b[39m \u001b[39m \u001b[39m \u001b[39m \u001b[39m \u001b[39m \u001b[39m \u001b[39m \u001b[39m \u001b[39m \u001b[39m \u001b[39m \u001b[39m \u001b[39m \u001b[39m \u001b[39m \u001b[39m \u001b[39m \u001b[39m \u001b[39m \u001b[39m \u001b[39m \u001b[39m \u001b[39m \u001b[39m \u001b[39m \u001b[39m \u001b[39m \u001b[39m \u001b[39m▂\n",
       "  \u001b[39m▃\u001b[39m▁\u001b[39m▅\u001b[39m▄\u001b[39m▃\u001b[39m▁\u001b[39m▇\u001b[39m█\u001b[39m█\u001b[39m█\u001b[34m█\u001b[39m\u001b[39m█\u001b[39m█\u001b[32m█\u001b[39m\u001b[39m█\u001b[39m█\u001b[39m█\u001b[39m█\u001b[39m█\u001b[39m▇\u001b[39m█\u001b[39m█\u001b[39m█\u001b[39m█\u001b[39m▇\u001b[39m█\u001b[39m█\u001b[39m█\u001b[39m▇\u001b[39m█\u001b[39m█\u001b[39m▇\u001b[39m▇\u001b[39m▇\u001b[39m▇\u001b[39m▆\u001b[39m▅\u001b[39m▆\u001b[39m▇\u001b[39m▆\u001b[39m▆\u001b[39m▆\u001b[39m▅\u001b[39m▆\u001b[39m▆\u001b[39m▅\u001b[39m▅\u001b[39m▅\u001b[39m▅\u001b[39m▄\u001b[39m▆\u001b[39m▅\u001b[39m▅\u001b[39m▅\u001b[39m▅\u001b[39m▄\u001b[39m▅\u001b[39m▅\u001b[39m▅\u001b[39m▅\u001b[39m \u001b[39m█\n",
       "  28.5 μs\u001b[90m       \u001b[39m\u001b[90mHistogram: \u001b[39m\u001b[90m\u001b[1mlog(\u001b[22m\u001b[39m\u001b[90mfrequency\u001b[39m\u001b[90m\u001b[1m)\u001b[22m\u001b[39m\u001b[90m by time\u001b[39m        76 μs \u001b[0m\u001b[1m<\u001b[22m\n",
       "\n",
       " Memory estimate\u001b[90m: \u001b[39m\u001b[33m448 bytes\u001b[39m, allocs estimate\u001b[90m: \u001b[39m\u001b[33m7\u001b[39m."
      ]
     },
     "metadata": {},
     "output_type": "display_data"
    }
   ],
   "source": [
    "@benchmark CuArray($img1DB)"
   ]
  },
  {
   "cell_type": "code",
   "execution_count": 55,
   "metadata": {},
   "outputs": [
    {
     "ename": "MethodError",
     "evalue": "MethodError: no method matching typeof(DT1Wenbo_GPU!)(::CuDeviceVector{Bool, 1})",
     "output_type": "error",
     "traceback": [
      "MethodError: no method matching typeof(DT1Wenbo_GPU!)(::CuDeviceVector{Bool, 1})\n",
      "\n",
      "Stacktrace:\n",
      " [1] macro expansion\n",
      "   @ C:\\Users\\wenbl13\\.julia\\packages\\GPUCompiler\\07qaN\\src\\cache.jl:0 [inlined]\n",
      " [2] specialization_id(job::GPUCompiler.CompilerJob{GPUCompiler.PTXCompilerTarget, CUDA.CUDACompilerParams, GPUCompiler.FunctionSpec{typeof(DT1Wenbo_GPU!), Tuple{CuDeviceVector{Bool, 1}}}})\n",
      "   @ GPUCompiler C:\\Users\\wenbl13\\.julia\\packages\\GPUCompiler\\07qaN\\src\\cache.jl:12\n",
      " [3] cached_compilation(cache::Dict{UInt64, Any}, job::GPUCompiler.CompilerJob, compiler::typeof(CUDA.cufunction_compile), linker::typeof(CUDA.cufunction_link))\n",
      "   @ GPUCompiler C:\\Users\\wenbl13\\.julia\\packages\\GPUCompiler\\07qaN\\src\\cache.jl:71\n",
      " [4] cufunction(f::typeof(DT1Wenbo_GPU!), tt::Type{Tuple{CuDeviceVector{Bool, 1}}}; name::Nothing, kwargs::Base.Pairs{Symbol, Union{}, Tuple{}, NamedTuple{(), Tuple{}}})\n",
      "   @ CUDA C:\\Users\\wenbl13\\.julia\\packages\\CUDA\\DfvRa\\src\\compiler\\execution.jl:299\n",
      " [5] cufunction(f::typeof(DT1Wenbo_GPU!), tt::Type{Tuple{CuDeviceVector{Bool, 1}}})\n",
      "   @ CUDA C:\\Users\\wenbl13\\.julia\\packages\\CUDA\\DfvRa\\src\\compiler\\execution.jl:293\n",
      " [6] macro expansion\n",
      "   @ C:\\Users\\wenbl13\\.julia\\packages\\CUDA\\DfvRa\\src\\compiler\\execution.jl:102 [inlined]\n",
      " [7] DT1Wenbo_GPU(f::CuArray{Bool, 1, CUDA.Mem.DeviceBuffer})\n",
      "   @ Main c:\\Users\\wenbl13\\Desktop\\project-distance-transforms-wenbo-2\\julia\\dt_wenbo_final.ipynb:69\n",
      " [8] top-level scope\n",
      "   @ c:\\Users\\wenbl13\\Desktop\\project-distance-transforms-wenbo-2\\julia\\dt_wenbo_final.ipynb:1"
     ]
    }
   ],
   "source": [
    "DT1Wenbo_GPU(img1DG)"
   ]
  },
  {
   "cell_type": "code",
   "execution_count": 31,
   "metadata": {},
   "outputs": [
    {
     "data": {
      "text/plain": [
       "BenchmarkTools.Trial: 10000 samples with 9 evaluations.\n",
       " Range \u001b[90m(\u001b[39m\u001b[36m\u001b[1mmin\u001b[22m\u001b[39m … \u001b[35mmax\u001b[39m\u001b[90m):  \u001b[39m\u001b[36m\u001b[1m2.422 μs\u001b[22m\u001b[39m … \u001b[35m51.089 μs\u001b[39m  \u001b[90m┊\u001b[39m GC \u001b[90m(\u001b[39mmin … max\u001b[90m): \u001b[39m0.00% … 0.00%\n",
       " Time  \u001b[90m(\u001b[39m\u001b[34m\u001b[1mmedian\u001b[22m\u001b[39m\u001b[90m):     \u001b[39m\u001b[34m\u001b[1m2.978 μs              \u001b[22m\u001b[39m\u001b[90m┊\u001b[39m GC \u001b[90m(\u001b[39mmedian\u001b[90m):    \u001b[39m0.00%\n",
       " Time  \u001b[90m(\u001b[39m\u001b[32m\u001b[1mmean\u001b[22m\u001b[39m ± \u001b[32mσ\u001b[39m\u001b[90m):   \u001b[39m\u001b[32m\u001b[1m3.215 μs\u001b[22m\u001b[39m ± \u001b[32m 1.568 μs\u001b[39m  \u001b[90m┊\u001b[39m GC \u001b[90m(\u001b[39mmean ± σ\u001b[90m):  \u001b[39m0.00% ± 0.00%\n",
       "\n",
       "  \u001b[39m▆\u001b[39m█\u001b[39m▅\u001b[39m▃\u001b[39m▇\u001b[34m▇\u001b[39m\u001b[39m▅\u001b[32m▃\u001b[39m\u001b[39m▁\u001b[39m \u001b[39m \u001b[39m \u001b[39m \u001b[39m \u001b[39m \u001b[39m \u001b[39m▁\u001b[39m▁\u001b[39m \u001b[39m \u001b[39m▁\u001b[39m▁\u001b[39m \u001b[39m \u001b[39m \u001b[39m \u001b[39m \u001b[39m \u001b[39m \u001b[39m \u001b[39m \u001b[39m \u001b[39m \u001b[39m \u001b[39m \u001b[39m \u001b[39m \u001b[39m \u001b[39m \u001b[39m \u001b[39m \u001b[39m \u001b[39m \u001b[39m \u001b[39m \u001b[39m \u001b[39m \u001b[39m \u001b[39m \u001b[39m \u001b[39m \u001b[39m \u001b[39m \u001b[39m \u001b[39m \u001b[39m \u001b[39m \u001b[39m \u001b[39m \u001b[39m▂\n",
       "  \u001b[39m█\u001b[39m█\u001b[39m█\u001b[39m█\u001b[39m█\u001b[34m█\u001b[39m\u001b[39m█\u001b[32m█\u001b[39m\u001b[39m█\u001b[39m█\u001b[39m█\u001b[39m▇\u001b[39m▇\u001b[39m█\u001b[39m█\u001b[39m█\u001b[39m█\u001b[39m█\u001b[39m█\u001b[39m█\u001b[39m█\u001b[39m█\u001b[39m▇\u001b[39m▇\u001b[39m▇\u001b[39m▅\u001b[39m▆\u001b[39m▄\u001b[39m▆\u001b[39m▆\u001b[39m▆\u001b[39m▆\u001b[39m▆\u001b[39m▆\u001b[39m▆\u001b[39m▅\u001b[39m▄\u001b[39m▄\u001b[39m▃\u001b[39m▃\u001b[39m▄\u001b[39m▃\u001b[39m▄\u001b[39m▄\u001b[39m▄\u001b[39m▅\u001b[39m▆\u001b[39m▆\u001b[39m▇\u001b[39m▇\u001b[39m▆\u001b[39m▇\u001b[39m▇\u001b[39m▇\u001b[39m▇\u001b[39m▅\u001b[39m▅\u001b[39m▄\u001b[39m \u001b[39m█\n",
       "  2.42 μs\u001b[90m      \u001b[39m\u001b[90mHistogram: \u001b[39m\u001b[90m\u001b[1mlog(\u001b[22m\u001b[39m\u001b[90mfrequency\u001b[39m\u001b[90m\u001b[1m)\u001b[22m\u001b[39m\u001b[90m by time\u001b[39m     9.48 μs \u001b[0m\u001b[1m<\u001b[22m\n",
       "\n",
       " Memory estimate\u001b[90m: \u001b[39m\u001b[33m1.05 KiB\u001b[39m, allocs estimate\u001b[90m: \u001b[39m\u001b[33m24\u001b[39m."
      ]
     },
     "metadata": {},
     "output_type": "display_data"
    }
   ],
   "source": [
    "@benchmark boolean_indicator_GPU($img1DG)"
   ]
  },
  {
   "cell_type": "code",
   "execution_count": 26,
   "metadata": {},
   "outputs": [
    {
     "data": {
      "text/plain": [
       "BenchmarkTools.Trial: 10000 samples with 469 evaluations.\n",
       " Range \u001b[90m(\u001b[39m\u001b[36m\u001b[1mmin\u001b[22m\u001b[39m … \u001b[35mmax\u001b[39m\u001b[90m):  \u001b[39m\u001b[36m\u001b[1m225.586 ns\u001b[22m\u001b[39m … \u001b[35m27.466 μs\u001b[39m  \u001b[90m┊\u001b[39m GC \u001b[90m(\u001b[39mmin … max\u001b[90m): \u001b[39m 0.00% … 98.00%\n",
       " Time  \u001b[90m(\u001b[39m\u001b[34m\u001b[1mmedian\u001b[22m\u001b[39m\u001b[90m):     \u001b[39m\u001b[34m\u001b[1m421.322 ns              \u001b[22m\u001b[39m\u001b[90m┊\u001b[39m GC \u001b[90m(\u001b[39mmedian\u001b[90m):    \u001b[39m 0.00%\n",
       " Time  \u001b[90m(\u001b[39m\u001b[32m\u001b[1mmean\u001b[22m\u001b[39m ± \u001b[32mσ\u001b[39m\u001b[90m):   \u001b[39m\u001b[32m\u001b[1m461.761 ns\u001b[22m\u001b[39m ± \u001b[32m 1.242 μs\u001b[39m  \u001b[90m┊\u001b[39m GC \u001b[90m(\u001b[39mmean ± σ\u001b[90m):  \u001b[39m14.39% ±  5.28%\n",
       "\n",
       "  \u001b[39m▅\u001b[39m▇\u001b[39m█\u001b[39m \u001b[39m \u001b[39m \u001b[39m \u001b[39m \u001b[39m \u001b[39m \u001b[39m \u001b[39m \u001b[39m \u001b[39m \u001b[39m \u001b[39m \u001b[39m \u001b[39m \u001b[39m \u001b[39m \u001b[39m▂\u001b[39m▅\u001b[34m▅\u001b[39m\u001b[39m█\u001b[39m▆\u001b[39m▃\u001b[39m \u001b[32m \u001b[39m\u001b[39m \u001b[39m \u001b[39m \u001b[39m \u001b[39m \u001b[39m \u001b[39m \u001b[39m \u001b[39m \u001b[39m \u001b[39m \u001b[39m \u001b[39m \u001b[39m \u001b[39m \u001b[39m \u001b[39m \u001b[39m \u001b[39m \u001b[39m \u001b[39m \u001b[39m \u001b[39m \u001b[39m \u001b[39m \u001b[39m \u001b[39m \u001b[39m \u001b[39m \u001b[39m \u001b[39m \u001b[39m \u001b[39m \u001b[39m \n",
       "  \u001b[39m█\u001b[39m█\u001b[39m█\u001b[39m▄\u001b[39m▃\u001b[39m▃\u001b[39m▂\u001b[39m▂\u001b[39m▂\u001b[39m▂\u001b[39m▁\u001b[39m▁\u001b[39m▁\u001b[39m▁\u001b[39m▁\u001b[39m▁\u001b[39m▁\u001b[39m▁\u001b[39m▅\u001b[39m▆\u001b[39m█\u001b[39m█\u001b[34m█\u001b[39m\u001b[39m█\u001b[39m█\u001b[39m█\u001b[39m█\u001b[32m▇\u001b[39m\u001b[39m▆\u001b[39m▄\u001b[39m▄\u001b[39m▃\u001b[39m▃\u001b[39m▂\u001b[39m▂\u001b[39m▂\u001b[39m▂\u001b[39m▂\u001b[39m▂\u001b[39m▂\u001b[39m▂\u001b[39m▂\u001b[39m▂\u001b[39m▂\u001b[39m▁\u001b[39m▁\u001b[39m▁\u001b[39m▁\u001b[39m▁\u001b[39m▁\u001b[39m▁\u001b[39m▁\u001b[39m▁\u001b[39m▁\u001b[39m▁\u001b[39m▁\u001b[39m▁\u001b[39m▁\u001b[39m▁\u001b[39m▁\u001b[39m \u001b[39m▃\n",
       "  226 ns\u001b[90m          Histogram: frequency by time\u001b[39m          748 ns \u001b[0m\u001b[1m<\u001b[22m\n",
       "\n",
       " Memory estimate\u001b[90m: \u001b[39m\u001b[33m896 bytes\u001b[39m, allocs estimate\u001b[90m: \u001b[39m\u001b[33m1\u001b[39m."
      ]
     },
     "metadata": {},
     "output_type": "display_data"
    }
   ],
   "source": [
    "@benchmark DT1Wenbo($img1DB)"
   ]
  }
 ],
 "metadata": {
  "kernelspec": {
   "display_name": "Julia 1.7.2",
   "language": "julia",
   "name": "julia-1.7"
  },
  "language_info": {
   "file_extension": ".jl",
   "mimetype": "application/julia",
   "name": "julia",
   "version": "1.7.2"
  },
  "orig_nbformat": 4
 },
 "nbformat": 4,
 "nbformat_minor": 2
}
