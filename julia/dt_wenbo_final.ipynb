{
 "cells": [
  {
   "cell_type": "code",
   "execution_count": 1,
   "metadata": {},
   "outputs": [
    {
     "name": "stderr",
     "output_type": "stream",
     "text": [
      "\u001b[32m\u001b[1m  Activating\u001b[22m\u001b[39m project at `c:\\Users\\wenbl13\\Desktop\\project-distance-transforms-wenbo-2`\n"
     ]
    }
   ],
   "source": [
    "begin\n",
    "\tusing Pkg\n",
    "\tPkg.activate(\"..\")\n",
    "\t# Pkg.instantiate()\n",
    "\t\n",
    "\tusing PlutoUI\n",
    "\tusing CairoMakie\n",
    "\tusing LinearAlgebra\n",
    "\tusing Luxor\n",
    "\tusing BenchmarkTools\n",
    "\tusing Printf\n",
    "\tusing ImageMorphology\n",
    "\tusing LoopVectorization\n",
    "\tusing CUDA\n",
    "\tusing CUDA:i32\n",
    "\tusing Test\n",
    "end"
   ]
  },
  {
   "cell_type": "code",
   "execution_count": 2,
   "metadata": {},
   "outputs": [
    {
     "data": {
      "text/plain": [
       "boolean_indicator (generic function with 1 method)"
      ]
     },
     "metadata": {},
     "output_type": "display_data"
    }
   ],
   "source": [
    "boolean_indicator(f) = @. ifelse(f == 0, 1f10, 0f0)"
   ]
  },
  {
   "cell_type": "code",
   "execution_count": 3,
   "metadata": {},
   "outputs": [
    {
     "data": {
      "text/plain": [
       "boolean_indicator (generic function with 2 methods)"
      ]
     },
     "metadata": {},
     "output_type": "display_data"
    }
   ],
   "source": [
    "function boolean_indicator(img::BitArray)\n",
    "\tf = similar(img, Float32)\n",
    "\t@turbo for i in CartesianIndices(f)\n",
    "           @inbounds f[i] = img[i] ? 0f0 : 1f10\n",
    "    end\n",
    "\treturn f\n",
    "end"
   ]
  },
  {
   "cell_type": "markdown",
   "metadata": {},
   "source": [
    "## Multi-Thded and Nonmulti-Thded"
   ]
  },
  {
   "cell_type": "markdown",
   "metadata": {},
   "source": [
    "## 1D"
   ]
  },
  {
   "cell_type": "code",
   "execution_count": 41,
   "metadata": {},
   "outputs": [
    {
     "data": {
      "text/plain": [
       "DT1Wenbo (generic function with 1 method)"
      ]
     },
     "metadata": {},
     "output_type": "display_data"
    }
   ],
   "source": [
    "begin\n",
    "\tfunction DT1helperA!(f, j)\n",
    "\t\t# i == -1 && j != -1\n",
    "\t\ttemp=1\n",
    "\t\twhile j>0\n",
    "\t\t\t@inbounds f[j]=temp^2\n",
    "\t\t\tj-=1\n",
    "\t\t\ttemp+=1\n",
    "\t\tend\n",
    "\tend\n",
    "\tfunction DT1helperB!(f, i)\n",
    "\t\t# i != -1 && j == -1\n",
    "\t\ttemp=1\n",
    "\t\tl = length(f)\n",
    "\t\twhile i<=l\n",
    "\t\t\t@inbounds f[i]=temp^2\n",
    "\t\t\ti+=1\n",
    "\t\t\ttemp+=1\n",
    "\t\tend\n",
    "\tend\n",
    "\tfunction DT1helperC!(f, i, j)\n",
    "\t\t# i != -1 && j != -1\n",
    "\t\ttemp=1\n",
    "\t\twhile(i<=j)\n",
    "\t\t\t@inbounds f[i]=f[j]=temp^2\n",
    "\t\t\ttemp+=1\n",
    "\t\t\ti+=1\n",
    "\t\t\tj-=1\n",
    "\t\tend\n",
    "\tend \n",
    "\tfunction DT1Wenbo!(f)\n",
    "\t\tpointerA = 1\n",
    "\t\tl = length(f)\n",
    "\t\twhile pointerA <= l\n",
    "\t\t\twhile pointerA <= l && @inbounds f[pointerA] == 0\n",
    "\t\t\t\tpointerA+=1\n",
    "\t\t\tend\n",
    "\t\t\tpointerB = pointerA\n",
    "\t\t\twhile pointerB <= l && @inbounds f[pointerB] == 1f10\n",
    "\t\t\t\tpointerB+=1\n",
    "\t\t\tend\n",
    "\t\t\tif pointerB > length(f)\n",
    "\t\t\t\tif pointerA == 1\n",
    "\t\t\t\t\treturn\n",
    "\t\t\t\telse\n",
    "\t\t\t\t\tDT1helperB!(f, pointerA)\n",
    "\t\t\t\tend\n",
    "\t\t\telse\n",
    "\t\t\t\tif pointerA == 1\n",
    "\t\t\t\t\tDT1helperA!(f, pointerB-1)\n",
    "\t\t\t\telse\n",
    "\t\t\t\t\tDT1helperC!(f, pointerA, pointerB-1)\n",
    "\t\t\t\tend\n",
    "\t\t\tend\n",
    "\t\t\tpointerA=pointerB\n",
    "\t\tend\n",
    "\tend\n",
    "\tfunction DT1Wenbo(f)\n",
    "\t\tf = boolean_indicator(f)\n",
    "\t\tDT1Wenbo!(f)\n",
    "\t\treturn f\n",
    "\tend\n",
    "end"
   ]
  },
  {
   "cell_type": "markdown",
   "metadata": {},
   "source": [
    "## 2D"
   ]
  },
  {
   "cell_type": "code",
   "execution_count": 42,
   "metadata": {},
   "outputs": [
    {
     "data": {
      "text/plain": [
       "DT2Wenbo (generic function with 1 method)"
      ]
     },
     "metadata": {},
     "output_type": "display_data"
    }
   ],
   "source": [
    "begin\n",
    "\tfunction encode(leftD, rightf)\n",
    "\t\tif rightf == 1f10\n",
    "\t\t\treturn -leftD\n",
    "\t\tend\n",
    "\t\tidx = 0\n",
    "\t\twhile(rightf>1)\n",
    "\t\t\trightf  /=10\n",
    "\t\t\tidx+=1 \n",
    "\t\tend\n",
    "\t\treturn -leftD-idx/10-rightf/10\n",
    "\tend\n",
    "\tfunction decode(curr)\t\n",
    "\t\tcurr *= -10   \t\t\t\t\n",
    "\t\ttemp = Int(floor(curr))\t\t\n",
    "\t\tcurr -= temp \t\t\t\t\n",
    "\t\tif curr == 0\n",
    "\t\t\treturn 1f10\n",
    "\t\tend\n",
    "\t\ttemp %= 10\n",
    "\t\twhile temp > 0\n",
    "\t\t\ttemp -= 1\n",
    "\t\t\tcurr*=10\n",
    "\t\tend\n",
    "\t\treturn round(curr)\n",
    "\tend\n",
    "\tfunction DT2Helper!(f)\n",
    "\t\tl = length(f)\n",
    "\t\tpointerA = 1\n",
    "\t\twhile pointerA<=l && @inbounds f[pointerA] <= 1\n",
    "\t\t\tpointerA += 1\n",
    "\t\tend\n",
    "\t\tp = 0\n",
    "\t\twhile pointerA<=l\n",
    "\t\t\t@inbounds curr = f[pointerA]\n",
    "\t\t\tprev = curr\n",
    "\t\t\ttemp = min(pointerA-1, p+1)\n",
    "\t\t\tp = 0\n",
    "\t\t\twhile (0 < temp)\n",
    "\t\t\t\t@inbounds fi = f[pointerA-temp]\n",
    "\t\t\t\tfi = fi < 0 ? decode(fi) : fi\n",
    "\t\t\t\tnewDistance = muladd(temp, temp, fi)\n",
    "\t\t\t\tif newDistance < curr\n",
    "\t\t\t\t\tcurr = newDistance\n",
    "\t\t\t\t\tp = temp\n",
    "\t\t\t\tend\n",
    "\t\t\t\ttemp -= 1\n",
    "\t\t\tend\n",
    "\t\t\ttemp = 1\n",
    "\t\t\ttempl = length(f) - pointerA\n",
    "\t\t\twhile (temp <= templ && muladd(temp, temp, -curr) < 0)\n",
    "\t\t\t\t@inbounds curr = min(curr, muladd(temp, temp, f[pointerA+temp]))\n",
    "\t\t\t\ttemp += 1\n",
    "\t\t\tend\n",
    "\t\t\t@inbounds f[pointerA] = encode(curr, prev)\n",
    "\t\t\t# end\n",
    "\t\t\tpointerA+=1\n",
    "\t\t\twhile pointerA<=l && @inbounds f[pointerA] <= 1\n",
    "\t\t\t\tpointerA += 1\n",
    "\t\t\tend\n",
    "\t\tend\n",
    "\t\ti = 0\n",
    "\t\twhile i<l\n",
    "\t\t\ti+=1\n",
    "\t\t\tf[i] = floor(abs(f[i]))\n",
    "\t\tend\n",
    "\tend\n",
    "\tfunction DT2WenboA!(f)\n",
    "\t\tfor i in axes(f, 1)\n",
    "\t\t\t@inbounds DT1Wenbo!(@view(f[i, :]))\n",
    "\t\tend\n",
    "\t\tfor i in axes(f, 2)\n",
    "\t\t\t@inbounds DT2Helper!(@view(f[:,i]))\n",
    "\t\tend\n",
    "\tend\n",
    "\tfunction DT2WenboB!(f)\n",
    "\t\tThreads.@threads for i in axes(f, 1)\n",
    "\t\t\t@inbounds DT1Wenbo!(@view(f[i, :]))\n",
    "\t\tend\n",
    "\t\tThreads.@threads for i in axes(f, 2)\n",
    "\t\t\t@inbounds DT2Helper!(@view(f[:,i]))\n",
    "\t\tend\n",
    "\tend\n",
    "\tfunction DT2Wenbo(f)\n",
    "\t\tf = boolean_indicator(f)\n",
    "\t\tDT2tf! = length(f) > 2700 && Threads.nthreads()>1 ?  DT2WenboB! : DT2WenboA!\n",
    "\t\tDT2tf!(f)\n",
    "\t\treturn f\n",
    "\tend\n",
    "end"
   ]
  },
  {
   "cell_type": "markdown",
   "metadata": {},
   "source": [
    "## 3D"
   ]
  },
  {
   "cell_type": "code",
   "execution_count": 6,
   "metadata": {},
   "outputs": [
    {
     "data": {
      "text/plain": [
       "DT3Wenbo (generic function with 1 method)"
      ]
     },
     "metadata": {},
     "output_type": "display_data"
    }
   ],
   "source": [
    "begin\n",
    "\tfunction DT3WenboA!(f)\n",
    "\t\tfor i in axes(f, 3)\n",
    "\t\t    @inbounds DT2WenboA!(@view(f[:, :, i]))\n",
    "\t\tend\n",
    "\t\tfor i in CartesianIndices(f[:,:,1])\n",
    "\t\t\t@inbounds DT2Helper!(@view(f[i, :]))\n",
    "\t\tend\n",
    "\tend \n",
    "\tfunction DT3WenboB!(f)\n",
    "\t\tThreads.@threads for i in axes(f, 3)\n",
    "\t\t    @inbounds DT2WenboB!(@view(f[:, :, i]))\n",
    "\t\tend\n",
    "\t\tThreads.@threads for i in CartesianIndices(f[:,:,1])\n",
    "\t\t\t@inbounds DT2Helper!(@view(f[i, :]))\n",
    "\t\tend\n",
    "\tend\n",
    "\tfunction DT3Wenbo(f)\n",
    "\t\tf = boolean_indicator(f)\n",
    "\t\tDT3tf! = length(f) > 2700 && Threads.nthreads()>1 ?  DT3WenboB! : DT3WenboA!\n",
    "\t\tDT3tf!(f)\n",
    "\t\treturn f\n",
    "\tend\n",
    "end"
   ]
  },
  {
   "cell_type": "markdown",
   "metadata": {},
   "source": [
    "## Timing: Wenbo vs ImageMorphology"
   ]
  },
  {
   "cell_type": "code",
   "execution_count": 5,
   "metadata": {},
   "outputs": [
    {
     "data": {
      "text/plain": [
       "euclideanImageMorphology (generic function with 1 method)"
      ]
     },
     "metadata": {},
     "output_type": "display_data"
    }
   ],
   "source": [
    "euclideanImageMorphology(img::BitArray) = distance_transform(feature_transform(img))"
   ]
  },
  {
   "cell_type": "code",
   "execution_count": 18,
   "metadata": {},
   "outputs": [
    {
     "data": {
      "text/plain": [
       "\"Test inputs created.\""
      ]
     },
     "metadata": {},
     "output_type": "display_data"
    }
   ],
   "source": [
    "begin\n",
    "\timg1DsmallB = Bool.(rand([0, 1], 15))\n",
    "\timg1DbigB = Bool.(rand([0, 1], 4000))\n",
    "\timg1DB = Bool.(rand([0, 1], 200))\n",
    "\timg2DB = Bool.(rand([0, 1], 200, 800))\n",
    "\timg3DB = Bool.(rand([0, 1], 200, 400, 600))\n",
    "\timg2D4kB = Bool.(rand([0, 1], 3840, 2160))\n",
    "\timg1DsmallG = CuArray(img1DsmallB)\n",
    "\timg1DbigG = CuArray(img1DbigB)\n",
    "\timg1DG = CuArray(img1DB)\n",
    "\timg2DG = CuArray(img2DB)\n",
    "\timg3DG = CuArray(img3DB)\n",
    "\timg2D4kG = CuArray(img2D4kB)\n",
    "\t\"Test inputs created.\"\n",
    "end"
   ]
  },
  {
   "cell_type": "markdown",
   "metadata": {},
   "source": [
    "### 1D"
   ]
  },
  {
   "cell_type": "code",
   "execution_count": 9,
   "metadata": {},
   "outputs": [
    {
     "data": {
      "text/plain": [
       "\"1D: 100 test cases passed!\""
      ]
     },
     "metadata": {},
     "output_type": "display_data"
    }
   ],
   "source": [
    "let\n",
    "\tn = 200\n",
    "\tfor i = 1: 100\n",
    "\t\tf = Bool.(rand([0, 1], n))\n",
    "\t\trslt1 = euclideanImageMorphology(f);\n",
    "\t\trslt1 .^ 2\n",
    "\t\trslt2 = DT1Wenbo(f)\n",
    "\t\tfor i in CartesianIndices(rslt1)\n",
    "\t\t\tif rslt1[i] - rslt2[i] != 0.0\n",
    "\t\t\t\t\"failed\"\n",
    "\t\t\t\tbreak\n",
    "\t\t\tend\n",
    "\t\tend\n",
    "\tend\n",
    "\t\"1D: 100 test cases passed!\"\n",
    "end"
   ]
  },
  {
   "cell_type": "code",
   "execution_count": 10,
   "metadata": {},
   "outputs": [
    {
     "data": {
      "text/plain": [
       "BenchmarkTools.Trial: 10000 samples with 401 evaluations.\n",
       " Range \u001b[90m(\u001b[39m\u001b[36m\u001b[1mmin\u001b[22m\u001b[39m … \u001b[35mmax\u001b[39m\u001b[90m):  \u001b[39m\u001b[36m\u001b[1m235.411 ns\u001b[22m\u001b[39m … \u001b[35m30.528 μs\u001b[39m  \u001b[90m┊\u001b[39m GC \u001b[90m(\u001b[39mmin … max\u001b[90m): \u001b[39m 0.00% … 98.27%\n",
       " Time  \u001b[90m(\u001b[39m\u001b[34m\u001b[1mmedian\u001b[22m\u001b[39m\u001b[90m):     \u001b[39m\u001b[34m\u001b[1m457.606 ns              \u001b[22m\u001b[39m\u001b[90m┊\u001b[39m GC \u001b[90m(\u001b[39mmedian\u001b[90m):    \u001b[39m 0.00%\n",
       " Time  \u001b[90m(\u001b[39m\u001b[32m\u001b[1mmean\u001b[22m\u001b[39m ± \u001b[32mσ\u001b[39m\u001b[90m):   \u001b[39m\u001b[32m\u001b[1m488.570 ns\u001b[22m\u001b[39m ± \u001b[32m 1.298 μs\u001b[39m  \u001b[90m┊\u001b[39m GC \u001b[90m(\u001b[39mmean ± σ\u001b[90m):  \u001b[39m13.21% ±  4.91%\n",
       "\n",
       "  \u001b[39m \u001b[39m \u001b[39m \u001b[39m▃\u001b[39m▄\u001b[39m \u001b[39m \u001b[39m \u001b[39m \u001b[39m \u001b[39m \u001b[39m \u001b[39m \u001b[39m \u001b[39m \u001b[39m \u001b[39m \u001b[39m \u001b[39m \u001b[39m \u001b[39m \u001b[39m \u001b[39m▂\u001b[39m▂\u001b[39m▂\u001b[34m▂\u001b[39m\u001b[39m▅\u001b[39m█\u001b[32m \u001b[39m\u001b[39m \u001b[39m \u001b[39m \u001b[39m \u001b[39m \u001b[39m \u001b[39m \u001b[39m \u001b[39m \u001b[39m \u001b[39m \u001b[39m \u001b[39m \u001b[39m \u001b[39m \u001b[39m \u001b[39m \u001b[39m \u001b[39m \u001b[39m \u001b[39m \u001b[39m \u001b[39m \u001b[39m \u001b[39m \u001b[39m \u001b[39m \u001b[39m \u001b[39m \u001b[39m \u001b[39m \u001b[39m \u001b[39m \n",
       "  \u001b[39m▃\u001b[39m▇\u001b[39m▇\u001b[39m█\u001b[39m█\u001b[39m▇\u001b[39m▃\u001b[39m▂\u001b[39m▁\u001b[39m▁\u001b[39m▁\u001b[39m▁\u001b[39m▁\u001b[39m▁\u001b[39m▁\u001b[39m▁\u001b[39m▁\u001b[39m▁\u001b[39m▁\u001b[39m▁\u001b[39m▁\u001b[39m▄\u001b[39m█\u001b[39m█\u001b[39m█\u001b[34m█\u001b[39m\u001b[39m█\u001b[39m█\u001b[32m▇\u001b[39m\u001b[39m▅\u001b[39m▄\u001b[39m▃\u001b[39m▃\u001b[39m▂\u001b[39m▂\u001b[39m▂\u001b[39m▂\u001b[39m▂\u001b[39m▂\u001b[39m▂\u001b[39m▂\u001b[39m▁\u001b[39m▁\u001b[39m▁\u001b[39m▁\u001b[39m▁\u001b[39m▁\u001b[39m▁\u001b[39m▁\u001b[39m▁\u001b[39m▁\u001b[39m▁\u001b[39m▁\u001b[39m▁\u001b[39m▁\u001b[39m▁\u001b[39m▁\u001b[39m▁\u001b[39m▁\u001b[39m▁\u001b[39m \u001b[39m▂\n",
       "  235 ns\u001b[90m          Histogram: frequency by time\u001b[39m          777 ns \u001b[0m\u001b[1m<\u001b[22m\n",
       "\n",
       " Memory estimate\u001b[90m: \u001b[39m\u001b[33m896 bytes\u001b[39m, allocs estimate\u001b[90m: \u001b[39m\u001b[33m1\u001b[39m."
      ]
     },
     "metadata": {},
     "output_type": "display_data"
    }
   ],
   "source": [
    "@benchmark DT1Wenbo($img1DB)"
   ]
  },
  {
   "cell_type": "code",
   "execution_count": 11,
   "metadata": {},
   "outputs": [
    {
     "data": {
      "text/plain": [
       "BenchmarkTools.Trial: 10000 samples with 10 evaluations.\n",
       " Range \u001b[90m(\u001b[39m\u001b[36m\u001b[1mmin\u001b[22m\u001b[39m … \u001b[35mmax\u001b[39m\u001b[90m):  \u001b[39m\u001b[36m\u001b[1m1.340 μs\u001b[22m\u001b[39m … \u001b[35m 1.163 ms\u001b[39m  \u001b[90m┊\u001b[39m GC \u001b[90m(\u001b[39mmin … max\u001b[90m): \u001b[39m 0.00% … 99.71%\n",
       " Time  \u001b[90m(\u001b[39m\u001b[34m\u001b[1mmedian\u001b[22m\u001b[39m\u001b[90m):     \u001b[39m\u001b[34m\u001b[1m2.430 μs              \u001b[22m\u001b[39m\u001b[90m┊\u001b[39m GC \u001b[90m(\u001b[39mmedian\u001b[90m):    \u001b[39m 0.00%\n",
       " Time  \u001b[90m(\u001b[39m\u001b[32m\u001b[1mmean\u001b[22m\u001b[39m ± \u001b[32mσ\u001b[39m\u001b[90m):   \u001b[39m\u001b[32m\u001b[1m3.657 μs\u001b[22m\u001b[39m ± \u001b[32m25.790 μs\u001b[39m  \u001b[90m┊\u001b[39m GC \u001b[90m(\u001b[39mmean ± σ\u001b[90m):  \u001b[39m17.17% ±  2.44%\n",
       "\n",
       "  \u001b[39m▆\u001b[39m█\u001b[39m▅\u001b[39m▂\u001b[39m \u001b[39m▃\u001b[34m▆\u001b[39m\u001b[39m▇\u001b[39m▅\u001b[39m▂\u001b[39m▁\u001b[39m \u001b[39m \u001b[32m \u001b[39m\u001b[39m \u001b[39m \u001b[39m \u001b[39m \u001b[39m \u001b[39m \u001b[39m \u001b[39m \u001b[39m \u001b[39m \u001b[39m \u001b[39m \u001b[39m \u001b[39m \u001b[39m▂\u001b[39m▃\u001b[39m▂\u001b[39m▁\u001b[39m▁\u001b[39m▂\u001b[39m▃\u001b[39m▂\u001b[39m▁\u001b[39m \u001b[39m \u001b[39m \u001b[39m \u001b[39m \u001b[39m \u001b[39m \u001b[39m \u001b[39m \u001b[39m \u001b[39m \u001b[39m \u001b[39m \u001b[39m \u001b[39m \u001b[39m \u001b[39m \u001b[39m \u001b[39m \u001b[39m \u001b[39m \u001b[39m \u001b[39m▂\n",
       "  \u001b[39m█\u001b[39m█\u001b[39m█\u001b[39m█\u001b[39m█\u001b[39m█\u001b[34m█\u001b[39m\u001b[39m█\u001b[39m█\u001b[39m█\u001b[39m█\u001b[39m█\u001b[39m█\u001b[32m█\u001b[39m\u001b[39m█\u001b[39m▇\u001b[39m▇\u001b[39m▇\u001b[39m▇\u001b[39m▇\u001b[39m▆\u001b[39m▅\u001b[39m▅\u001b[39m▅\u001b[39m▃\u001b[39m▃\u001b[39m▅\u001b[39m█\u001b[39m█\u001b[39m█\u001b[39m█\u001b[39m█\u001b[39m█\u001b[39m█\u001b[39m█\u001b[39m█\u001b[39m█\u001b[39m█\u001b[39m█\u001b[39m▇\u001b[39m▇\u001b[39m▆\u001b[39m▇\u001b[39m▇\u001b[39m▆\u001b[39m▆\u001b[39m▆\u001b[39m▅\u001b[39m▅\u001b[39m▆\u001b[39m▆\u001b[39m▅\u001b[39m▆\u001b[39m▅\u001b[39m▅\u001b[39m▅\u001b[39m▅\u001b[39m▅\u001b[39m \u001b[39m█\n",
       "  1.34 μs\u001b[90m      \u001b[39m\u001b[90mHistogram: \u001b[39m\u001b[90m\u001b[1mlog(\u001b[22m\u001b[39m\u001b[90mfrequency\u001b[39m\u001b[90m\u001b[1m)\u001b[22m\u001b[39m\u001b[90m by time\u001b[39m     11.5 μs \u001b[0m\u001b[1m<\u001b[22m\n",
       "\n",
       " Memory estimate\u001b[90m: \u001b[39m\u001b[33m8.97 KiB\u001b[39m, allocs estimate\u001b[90m: \u001b[39m\u001b[33m6\u001b[39m."
      ]
     },
     "metadata": {},
     "output_type": "display_data"
    }
   ],
   "source": [
    "@benchmark euclideanImageMorphology($img1DB)"
   ]
  },
  {
   "cell_type": "markdown",
   "metadata": {},
   "source": [
    "### 2D"
   ]
  },
  {
   "cell_type": "code",
   "execution_count": 12,
   "metadata": {},
   "outputs": [
    {
     "data": {
      "text/plain": [
       "\"2D: 100 test cases passed!\""
      ]
     },
     "metadata": {},
     "output_type": "display_data"
    }
   ],
   "source": [
    "let\n",
    "\tn = 200\n",
    "\tfor i = 1: 100\n",
    "\t\tf = Bool.(rand([0, 1], n, n))\n",
    "\t\trslt1 = euclideanImageMorphology(f);\n",
    "\t\trslt1 .^ 2\n",
    "\t\trslt2 = DT2Wenbo(f)\n",
    "\t\tfor i in CartesianIndices(rslt1)\n",
    "\t\t\tif rslt1[i] - rslt2[i] != 0.\n",
    "\t\t\t\t\"failed\"\n",
    "\t\t\t\tbreak\n",
    "\t\t\tend\n",
    "\t\tend\n",
    "\tend\n",
    "\t\"2D: 100 test cases passed!\"\n",
    "end"
   ]
  },
  {
   "cell_type": "code",
   "execution_count": 13,
   "metadata": {},
   "outputs": [
    {
     "data": {
      "text/plain": [
       "BenchmarkTools.Trial: 3221 samples with 1 evaluation.\n",
       " Range \u001b[90m(\u001b[39m\u001b[36m\u001b[1mmin\u001b[22m\u001b[39m … \u001b[35mmax\u001b[39m\u001b[90m):  \u001b[39m\u001b[36m\u001b[1m1.236 ms\u001b[22m\u001b[39m … \u001b[35m 14.492 ms\u001b[39m  \u001b[90m┊\u001b[39m GC \u001b[90m(\u001b[39mmin … max\u001b[90m): \u001b[39m0.00% … 89.20%\n",
       " Time  \u001b[90m(\u001b[39m\u001b[34m\u001b[1mmedian\u001b[22m\u001b[39m\u001b[90m):     \u001b[39m\u001b[34m\u001b[1m1.505 ms               \u001b[22m\u001b[39m\u001b[90m┊\u001b[39m GC \u001b[90m(\u001b[39mmedian\u001b[90m):    \u001b[39m0.00%\n",
       " Time  \u001b[90m(\u001b[39m\u001b[32m\u001b[1mmean\u001b[22m\u001b[39m ± \u001b[32mσ\u001b[39m\u001b[90m):   \u001b[39m\u001b[32m\u001b[1m1.549 ms\u001b[22m\u001b[39m ± \u001b[32m580.793 μs\u001b[39m  \u001b[90m┊\u001b[39m GC \u001b[90m(\u001b[39mmean ± σ\u001b[90m):  \u001b[39m2.41% ±  5.58%\n",
       "\n",
       "  \u001b[39m \u001b[39m \u001b[39m \u001b[39m \u001b[39m \u001b[39m \u001b[39m \u001b[39m \u001b[39m \u001b[39m \u001b[39m \u001b[39m \u001b[39m \u001b[39m \u001b[39m \u001b[39m \u001b[39m \u001b[39m \u001b[39m \u001b[39m \u001b[39m▃\u001b[39m \u001b[39m▂\u001b[39m▆\u001b[39m█\u001b[34m▇\u001b[39m\u001b[39m▅\u001b[39m▂\u001b[39m \u001b[32m \u001b[39m\u001b[39m \u001b[39m \u001b[39m \u001b[39m \u001b[39m \u001b[39m \u001b[39m \u001b[39m \u001b[39m \u001b[39m \u001b[39m \u001b[39m \u001b[39m \u001b[39m \u001b[39m \u001b[39m \u001b[39m \u001b[39m \u001b[39m \u001b[39m \u001b[39m \u001b[39m \u001b[39m \u001b[39m \u001b[39m \u001b[39m \u001b[39m \u001b[39m \u001b[39m \u001b[39m \u001b[39m \n",
       "  \u001b[39m▁\u001b[39m▁\u001b[39m▁\u001b[39m▁\u001b[39m▁\u001b[39m▁\u001b[39m▁\u001b[39m▁\u001b[39m▁\u001b[39m▂\u001b[39m▂\u001b[39m▃\u001b[39m▃\u001b[39m▃\u001b[39m▃\u001b[39m▃\u001b[39m▃\u001b[39m▄\u001b[39m▆\u001b[39m█\u001b[39m█\u001b[39m█\u001b[39m█\u001b[39m█\u001b[39m█\u001b[34m█\u001b[39m\u001b[39m█\u001b[39m█\u001b[39m█\u001b[32m▇\u001b[39m\u001b[39m▆\u001b[39m▄\u001b[39m▃\u001b[39m▂\u001b[39m▃\u001b[39m▂\u001b[39m▂\u001b[39m▂\u001b[39m▂\u001b[39m▂\u001b[39m▂\u001b[39m▂\u001b[39m▁\u001b[39m▁\u001b[39m▂\u001b[39m▂\u001b[39m▁\u001b[39m▁\u001b[39m▁\u001b[39m▁\u001b[39m▁\u001b[39m▁\u001b[39m▁\u001b[39m▁\u001b[39m▁\u001b[39m▁\u001b[39m▁\u001b[39m▁\u001b[39m▁\u001b[39m \u001b[39m▃\n",
       "  1.24 ms\u001b[90m         Histogram: frequency by time\u001b[39m        1.88 ms \u001b[0m\u001b[1m<\u001b[22m\n",
       "\n",
       " Memory estimate\u001b[90m: \u001b[39m\u001b[33m625.05 KiB\u001b[39m, allocs estimate\u001b[90m: \u001b[39m\u001b[33m2\u001b[39m."
      ]
     },
     "metadata": {},
     "output_type": "display_data"
    }
   ],
   "source": [
    "@benchmark DT2Wenbo($img2DB)"
   ]
  },
  {
   "cell_type": "code",
   "execution_count": 14,
   "metadata": {},
   "outputs": [
    {
     "data": {
      "text/plain": [
       "BenchmarkTools.Trial: 938 samples with 1 evaluation.\n",
       " Range \u001b[90m(\u001b[39m\u001b[36m\u001b[1mmin\u001b[22m\u001b[39m … \u001b[35mmax\u001b[39m\u001b[90m):  \u001b[39m\u001b[36m\u001b[1m4.411 ms\u001b[22m\u001b[39m … \u001b[35m19.059 ms\u001b[39m  \u001b[90m┊\u001b[39m GC \u001b[90m(\u001b[39mmin … max\u001b[90m): \u001b[39m0.00% … 58.78%\n",
       " Time  \u001b[90m(\u001b[39m\u001b[34m\u001b[1mmedian\u001b[22m\u001b[39m\u001b[90m):     \u001b[39m\u001b[34m\u001b[1m5.033 ms              \u001b[22m\u001b[39m\u001b[90m┊\u001b[39m GC \u001b[90m(\u001b[39mmedian\u001b[90m):    \u001b[39m0.00%\n",
       " Time  \u001b[90m(\u001b[39m\u001b[32m\u001b[1mmean\u001b[22m\u001b[39m ± \u001b[32mσ\u001b[39m\u001b[90m):   \u001b[39m\u001b[32m\u001b[1m5.322 ms\u001b[22m\u001b[39m ± \u001b[32m 1.490 ms\u001b[39m  \u001b[90m┊\u001b[39m GC \u001b[90m(\u001b[39mmean ± σ\u001b[90m):  \u001b[39m4.42% ± 10.23%\n",
       "\n",
       "  \u001b[39m \u001b[39m▅\u001b[39m█\u001b[39m█\u001b[34m█\u001b[39m\u001b[39m▆\u001b[32m▄\u001b[39m\u001b[39m▂\u001b[39m \u001b[39m \u001b[39m \u001b[39m \u001b[39m \u001b[39m \u001b[39m \u001b[39m \u001b[39m \u001b[39m \u001b[39m \u001b[39m \u001b[39m \u001b[39m \u001b[39m \u001b[39m \u001b[39m \u001b[39m \u001b[39m \u001b[39m \u001b[39m \u001b[39m \u001b[39m \u001b[39m \u001b[39m \u001b[39m \u001b[39m \u001b[39m \u001b[39m \u001b[39m \u001b[39m \u001b[39m \u001b[39m \u001b[39m \u001b[39m \u001b[39m \u001b[39m \u001b[39m \u001b[39m \u001b[39m \u001b[39m \u001b[39m \u001b[39m \u001b[39m \u001b[39m \u001b[39m \u001b[39m \u001b[39m \u001b[39m \u001b[39m \u001b[39m \u001b[39m \n",
       "  \u001b[39m▇\u001b[39m█\u001b[39m█\u001b[39m█\u001b[34m█\u001b[39m\u001b[39m█\u001b[32m█\u001b[39m\u001b[39m█\u001b[39m█\u001b[39m▅\u001b[39m▄\u001b[39m▁\u001b[39m▄\u001b[39m▄\u001b[39m▆\u001b[39m▄\u001b[39m▄\u001b[39m▁\u001b[39m▄\u001b[39m▆\u001b[39m▅\u001b[39m▇\u001b[39m▁\u001b[39m▁\u001b[39m▁\u001b[39m▁\u001b[39m▁\u001b[39m▁\u001b[39m▁\u001b[39m▁\u001b[39m▁\u001b[39m▁\u001b[39m▁\u001b[39m▁\u001b[39m▁\u001b[39m▁\u001b[39m▁\u001b[39m▁\u001b[39m▁\u001b[39m▁\u001b[39m▁\u001b[39m▁\u001b[39m▁\u001b[39m▁\u001b[39m▁\u001b[39m▁\u001b[39m▁\u001b[39m▁\u001b[39m▁\u001b[39m▁\u001b[39m▁\u001b[39m▄\u001b[39m▄\u001b[39m▅\u001b[39m▆\u001b[39m▆\u001b[39m▁\u001b[39m▇\u001b[39m \u001b[39m█\n",
       "  4.41 ms\u001b[90m      \u001b[39m\u001b[90mHistogram: \u001b[39m\u001b[90m\u001b[1mlog(\u001b[22m\u001b[39m\u001b[90mfrequency\u001b[39m\u001b[90m\u001b[1m)\u001b[22m\u001b[39m\u001b[90m by time\u001b[39m     13.8 ms \u001b[0m\u001b[1m<\u001b[22m\n",
       "\n",
       " Memory estimate\u001b[90m: \u001b[39m\u001b[33m3.75 MiB\u001b[39m, allocs estimate\u001b[90m: \u001b[39m\u001b[33m10\u001b[39m."
      ]
     },
     "metadata": {},
     "output_type": "display_data"
    }
   ],
   "source": [
    "@benchmark euclideanImageMorphology($img2DB)"
   ]
  },
  {
   "cell_type": "markdown",
   "metadata": {},
   "source": [
    "### 3D"
   ]
  },
  {
   "cell_type": "code",
   "execution_count": 15,
   "metadata": {},
   "outputs": [
    {
     "data": {
      "text/plain": [
       "\"3D: 100 test cases passed!\""
      ]
     },
     "metadata": {},
     "output_type": "display_data"
    }
   ],
   "source": [
    "let\n",
    "\tn = 200\n",
    "\tfor i = 1: 100\n",
    "\t\tf = Bool.(rand([0, 1], n, n, n))\n",
    "\t\trslt1 = euclideanImageMorphology(f);\n",
    "\t\trslt1 .^ 2\n",
    "\t\trslt2 = DT3Wenbo(f)\n",
    "\t\tfor i in CartesianIndices(rslt1)\n",
    "\t\t\tif rslt1[i] - rslt2[i] != 0.0\n",
    "\t\t\t\t\"failed\"\n",
    "\t\t\t\tbreak\n",
    "\t\t\tend\n",
    "\t\tend\n",
    "\tend\n",
    "\t\"3D: 100 test cases passed!\"\n",
    "end"
   ]
  },
  {
   "cell_type": "code",
   "execution_count": 16,
   "metadata": {},
   "outputs": [
    {
     "data": {
      "text/plain": [
       "BenchmarkTools.Trial: 9 samples with 1 evaluation.\n",
       " Range \u001b[90m(\u001b[39m\u001b[36m\u001b[1mmin\u001b[22m\u001b[39m … \u001b[35mmax\u001b[39m\u001b[90m):  \u001b[39m\u001b[36m\u001b[1m552.447 ms\u001b[22m\u001b[39m … \u001b[35m755.521 ms\u001b[39m  \u001b[90m┊\u001b[39m GC \u001b[90m(\u001b[39mmin … max\u001b[90m): \u001b[39m0.00% … 27.79%\n",
       " Time  \u001b[90m(\u001b[39m\u001b[34m\u001b[1mmedian\u001b[22m\u001b[39m\u001b[90m):     \u001b[39m\u001b[34m\u001b[1m577.809 ms               \u001b[22m\u001b[39m\u001b[90m┊\u001b[39m GC \u001b[90m(\u001b[39mmedian\u001b[90m):    \u001b[39m0.12%\n",
       " Time  \u001b[90m(\u001b[39m\u001b[32m\u001b[1mmean\u001b[22m\u001b[39m ± \u001b[32mσ\u001b[39m\u001b[90m):   \u001b[39m\u001b[32m\u001b[1m595.573 ms\u001b[22m\u001b[39m ± \u001b[32m 62.847 ms\u001b[39m  \u001b[90m┊\u001b[39m GC \u001b[90m(\u001b[39mmean ± σ\u001b[90m):  \u001b[39m5.41% ±  9.19%\n",
       "\n",
       "  \u001b[39m█\u001b[39m \u001b[39m \u001b[39m▁\u001b[34m▁\u001b[39m\u001b[39m \u001b[39m \u001b[39m▁\u001b[39m \u001b[39m \u001b[39m \u001b[39m▁\u001b[39m▁\u001b[32m \u001b[39m\u001b[39m \u001b[39m \u001b[39m▁\u001b[39m \u001b[39m \u001b[39m \u001b[39m \u001b[39m \u001b[39m \u001b[39m \u001b[39m \u001b[39m \u001b[39m \u001b[39m \u001b[39m \u001b[39m \u001b[39m \u001b[39m \u001b[39m \u001b[39m \u001b[39m \u001b[39m \u001b[39m \u001b[39m \u001b[39m \u001b[39m \u001b[39m \u001b[39m \u001b[39m \u001b[39m \u001b[39m \u001b[39m \u001b[39m \u001b[39m \u001b[39m \u001b[39m \u001b[39m \u001b[39m \u001b[39m \u001b[39m \u001b[39m \u001b[39m \u001b[39m \u001b[39m \u001b[39m \u001b[39m \u001b[39m▁\u001b[39m \u001b[39m \n",
       "  \u001b[39m█\u001b[39m▁\u001b[39m▁\u001b[39m█\u001b[34m█\u001b[39m\u001b[39m▁\u001b[39m▁\u001b[39m█\u001b[39m▁\u001b[39m▁\u001b[39m▁\u001b[39m█\u001b[39m█\u001b[32m▁\u001b[39m\u001b[39m▁\u001b[39m▁\u001b[39m█\u001b[39m▁\u001b[39m▁\u001b[39m▁\u001b[39m▁\u001b[39m▁\u001b[39m▁\u001b[39m▁\u001b[39m▁\u001b[39m▁\u001b[39m▁\u001b[39m▁\u001b[39m▁\u001b[39m▁\u001b[39m▁\u001b[39m▁\u001b[39m▁\u001b[39m▁\u001b[39m▁\u001b[39m▁\u001b[39m▁\u001b[39m▁\u001b[39m▁\u001b[39m▁\u001b[39m▁\u001b[39m▁\u001b[39m▁\u001b[39m▁\u001b[39m▁\u001b[39m▁\u001b[39m▁\u001b[39m▁\u001b[39m▁\u001b[39m▁\u001b[39m▁\u001b[39m▁\u001b[39m▁\u001b[39m▁\u001b[39m▁\u001b[39m▁\u001b[39m▁\u001b[39m▁\u001b[39m▁\u001b[39m▁\u001b[39m█\u001b[39m \u001b[39m▁\n",
       "  552 ms\u001b[90m           Histogram: frequency by time\u001b[39m          756 ms \u001b[0m\u001b[1m<\u001b[22m\n",
       "\n",
       " Memory estimate\u001b[90m: \u001b[39m\u001b[33m183.41 MiB\u001b[39m, allocs estimate\u001b[90m: \u001b[39m\u001b[33m4\u001b[39m."
      ]
     },
     "metadata": {},
     "output_type": "display_data"
    }
   ],
   "source": [
    "@benchmark DT3Wenbo($img3DB)"
   ]
  },
  {
   "cell_type": "code",
   "execution_count": 17,
   "metadata": {},
   "outputs": [
    {
     "data": {
      "text/plain": [
       "BenchmarkTools.Trial: 2 samples with 1 evaluation.\n",
       " Range \u001b[90m(\u001b[39m\u001b[36m\u001b[1mmin\u001b[22m\u001b[39m … \u001b[35mmax\u001b[39m\u001b[90m):  \u001b[39m\u001b[36m\u001b[1m2.493 s\u001b[22m\u001b[39m … \u001b[35m  2.629 s\u001b[39m  \u001b[90m┊\u001b[39m GC \u001b[90m(\u001b[39mmin … max\u001b[90m): \u001b[39m0.13% … 4.41%\n",
       " Time  \u001b[90m(\u001b[39m\u001b[34m\u001b[1mmedian\u001b[22m\u001b[39m\u001b[90m):     \u001b[39m\u001b[34m\u001b[1m2.561 s              \u001b[22m\u001b[39m\u001b[90m┊\u001b[39m GC \u001b[90m(\u001b[39mmedian\u001b[90m):    \u001b[39m2.33%\n",
       " Time  \u001b[90m(\u001b[39m\u001b[32m\u001b[1mmean\u001b[22m\u001b[39m ± \u001b[32mσ\u001b[39m\u001b[90m):   \u001b[39m\u001b[32m\u001b[1m2.561 s\u001b[22m\u001b[39m ± \u001b[32m96.022 ms\u001b[39m  \u001b[90m┊\u001b[39m GC \u001b[90m(\u001b[39mmean ± σ\u001b[90m):  \u001b[39m2.33% ± 3.03%\n",
       "\n",
       "  \u001b[34m█\u001b[39m\u001b[39m \u001b[39m \u001b[39m \u001b[39m \u001b[39m \u001b[39m \u001b[39m \u001b[39m \u001b[39m \u001b[39m \u001b[39m \u001b[39m \u001b[39m \u001b[39m \u001b[39m \u001b[39m \u001b[39m \u001b[39m \u001b[39m \u001b[39m \u001b[39m \u001b[39m \u001b[39m \u001b[39m \u001b[39m \u001b[39m \u001b[39m \u001b[32m \u001b[39m\u001b[39m \u001b[39m \u001b[39m \u001b[39m \u001b[39m \u001b[39m \u001b[39m \u001b[39m \u001b[39m \u001b[39m \u001b[39m \u001b[39m \u001b[39m \u001b[39m \u001b[39m \u001b[39m \u001b[39m \u001b[39m \u001b[39m \u001b[39m \u001b[39m \u001b[39m \u001b[39m \u001b[39m \u001b[39m \u001b[39m \u001b[39m \u001b[39m█\u001b[39m \u001b[39m \n",
       "  \u001b[34m█\u001b[39m\u001b[39m▁\u001b[39m▁\u001b[39m▁\u001b[39m▁\u001b[39m▁\u001b[39m▁\u001b[39m▁\u001b[39m▁\u001b[39m▁\u001b[39m▁\u001b[39m▁\u001b[39m▁\u001b[39m▁\u001b[39m▁\u001b[39m▁\u001b[39m▁\u001b[39m▁\u001b[39m▁\u001b[39m▁\u001b[39m▁\u001b[39m▁\u001b[39m▁\u001b[39m▁\u001b[39m▁\u001b[39m▁\u001b[39m▁\u001b[39m▁\u001b[32m▁\u001b[39m\u001b[39m▁\u001b[39m▁\u001b[39m▁\u001b[39m▁\u001b[39m▁\u001b[39m▁\u001b[39m▁\u001b[39m▁\u001b[39m▁\u001b[39m▁\u001b[39m▁\u001b[39m▁\u001b[39m▁\u001b[39m▁\u001b[39m▁\u001b[39m▁\u001b[39m▁\u001b[39m▁\u001b[39m▁\u001b[39m▁\u001b[39m▁\u001b[39m▁\u001b[39m▁\u001b[39m▁\u001b[39m▁\u001b[39m▁\u001b[39m▁\u001b[39m█\u001b[39m \u001b[39m▁\n",
       "  2.49 s\u001b[90m         Histogram: frequency by time\u001b[39m        2.63 s \u001b[0m\u001b[1m<\u001b[22m\n",
       "\n",
       " Memory estimate\u001b[90m: \u001b[39m\u001b[33m1.44 GiB\u001b[39m, allocs estimate\u001b[90m: \u001b[39m\u001b[33m480009\u001b[39m."
      ]
     },
     "metadata": {},
     "output_type": "display_data"
    }
   ],
   "source": [
    "@benchmark euclideanImageMorphology($img3DB)"
   ]
  },
  {
   "cell_type": "markdown",
   "metadata": {},
   "source": [
    "# Rewriting Wenbo!() for GPU Compatibility"
   ]
  },
  {
   "cell_type": "code",
   "execution_count": 6,
   "metadata": {},
   "outputs": [
    {
     "data": {
      "text/plain": [
       "_boolean_indicator_GPU! (generic function with 1 method)"
      ]
     },
     "metadata": {},
     "output_type": "display_data"
    }
   ],
   "source": [
    "function _boolean_indicator_GPU!(out, f)\n",
    "\ti = threadIdx().x + (blockIdx().x - 1) * blockDim().x\n",
    "\t@inbounds out[i] = f[i] ? 0f0 : 1f10\n",
    "\treturn\n",
    "end"
   ]
  },
  {
   "cell_type": "code",
   "execution_count": 7,
   "metadata": {},
   "outputs": [
    {
     "data": {
      "text/plain": [
       "\"Created boolean_indicator_GPU kernels.\""
      ]
     },
     "metadata": {},
     "output_type": "display_data"
    }
   ],
   "source": [
    "begin\n",
    "\tb_i_GPU_kernels = []\n",
    "\tkernel = @cuda launch=false _boolean_indicator_GPU!(CuArray{Float32, 1}(undef, 1), CuArray{Bool, 1}(undef, 1))\n",
    "\tpush!(b_i_GPU_kernels, kernel)\n",
    "\tkernel = @cuda launch=false _boolean_indicator_GPU!(CuArray{Float32, 2}(undef, 1, 1), CuArray{Bool, 2}(undef, 1, 1))\n",
    "\tpush!(b_i_GPU_kernels, kernel)\n",
    "\tkernel = @cuda launch=false _boolean_indicator_GPU!(CuArray{Float32, 3}(undef, 1, 1, 1), CuArray{Bool, 3}(undef, 1, 1, 1))\n",
    "\tpush!(b_i_GPU_kernels, kernel)\n",
    "\tconfig_threads = launch_configuration(kernel.fun).threads\n",
    "\t\"Created boolean_indicator_GPU kernels.\"\n",
    "end"
   ]
  },
  {
   "cell_type": "code",
   "execution_count": 8,
   "metadata": {},
   "outputs": [
    {
     "data": {
      "text/plain": [
       "boolean_indicator_GPU (generic function with 1 method)"
      ]
     },
     "metadata": {},
     "output_type": "display_data"
    }
   ],
   "source": [
    "function boolean_indicator_GPU(f)\n",
    "\t\t# input = CuArray(img)\n",
    "\t\toutput = similar(f, Float32)\n",
    "\t\tthreads = min(length(f), config_threads)\n",
    "\t\tblocks = cld(length(f), threads)\n",
    "\t\tb_i_GPU_kernels[ndims(f)](output, f; threads, blocks)\n",
    "\t\treturn output\n",
    "end"
   ]
  },
  {
   "cell_type": "code",
   "execution_count": 9,
   "metadata": {},
   "outputs": [
    {
     "data": {
      "text/plain": [
       "BenchmarkTools.Trial: 10000 samples with 1 evaluation.\n",
       " Range \u001b[90m(\u001b[39m\u001b[36m\u001b[1mmin\u001b[22m\u001b[39m … \u001b[35mmax\u001b[39m\u001b[90m):  \u001b[39m\u001b[36m\u001b[1m 36.000 μs\u001b[22m\u001b[39m … \u001b[35m 11.151 ms\u001b[39m  \u001b[90m┊\u001b[39m GC \u001b[90m(\u001b[39mmin … max\u001b[90m): \u001b[39m 0.00% … 98.27%\n",
       " Time  \u001b[90m(\u001b[39m\u001b[34m\u001b[1mmedian\u001b[22m\u001b[39m\u001b[90m):     \u001b[39m\u001b[34m\u001b[1m162.200 μs               \u001b[22m\u001b[39m\u001b[90m┊\u001b[39m GC \u001b[90m(\u001b[39mmedian\u001b[90m):    \u001b[39m 0.00%\n",
       " Time  \u001b[90m(\u001b[39m\u001b[32m\u001b[1mmean\u001b[22m\u001b[39m ± \u001b[32mσ\u001b[39m\u001b[90m):   \u001b[39m\u001b[32m\u001b[1m182.997 μs\u001b[22m\u001b[39m ± \u001b[32m467.589 μs\u001b[39m  \u001b[90m┊\u001b[39m GC \u001b[90m(\u001b[39mmean ± σ\u001b[90m):  \u001b[39m16.70% ±  6.52%\n",
       "\n",
       "  \u001b[39m▇\u001b[39m▃\u001b[39m▃\u001b[39m▂\u001b[39m \u001b[39m \u001b[39m \u001b[39m \u001b[39m \u001b[39m \u001b[39m \u001b[39m \u001b[39m \u001b[39m \u001b[39m \u001b[39m▂\u001b[39m▅\u001b[39m▇\u001b[39m▆\u001b[34m█\u001b[39m\u001b[39m▆\u001b[39m▅\u001b[39m▄\u001b[32m▃\u001b[39m\u001b[39m▃\u001b[39m▃\u001b[39m▂\u001b[39m▂\u001b[39m▂\u001b[39m▂\u001b[39m▂\u001b[39m▁\u001b[39m▁\u001b[39m▁\u001b[39m \u001b[39m▁\u001b[39m \u001b[39m \u001b[39m \u001b[39m \u001b[39m \u001b[39m \u001b[39m \u001b[39m \u001b[39m \u001b[39m \u001b[39m \u001b[39m \u001b[39m \u001b[39m \u001b[39m \u001b[39m \u001b[39m \u001b[39m \u001b[39m \u001b[39m \u001b[39m \u001b[39m \u001b[39m \u001b[39m \u001b[39m \u001b[39m \u001b[39m▂\n",
       "  \u001b[39m█\u001b[39m█\u001b[39m█\u001b[39m█\u001b[39m█\u001b[39m▇\u001b[39m▇\u001b[39m▅\u001b[39m▅\u001b[39m▃\u001b[39m▄\u001b[39m▄\u001b[39m▄\u001b[39m▃\u001b[39m▅\u001b[39m█\u001b[39m█\u001b[39m█\u001b[39m█\u001b[34m█\u001b[39m\u001b[39m█\u001b[39m█\u001b[39m█\u001b[32m█\u001b[39m\u001b[39m█\u001b[39m█\u001b[39m█\u001b[39m█\u001b[39m█\u001b[39m█\u001b[39m█\u001b[39m█\u001b[39m█\u001b[39m█\u001b[39m█\u001b[39m█\u001b[39m█\u001b[39m█\u001b[39m█\u001b[39m▆\u001b[39m▆\u001b[39m▆\u001b[39m▆\u001b[39m▆\u001b[39m▆\u001b[39m▅\u001b[39m▅\u001b[39m▄\u001b[39m▅\u001b[39m▅\u001b[39m▆\u001b[39m▆\u001b[39m▆\u001b[39m▅\u001b[39m▆\u001b[39m▅\u001b[39m▅\u001b[39m▇\u001b[39m▆\u001b[39m▅\u001b[39m▆\u001b[39m \u001b[39m█\n",
       "  36 μs\u001b[90m         \u001b[39m\u001b[90mHistogram: \u001b[39m\u001b[90m\u001b[1mlog(\u001b[22m\u001b[39m\u001b[90mfrequency\u001b[39m\u001b[90m\u001b[1m)\u001b[22m\u001b[39m\u001b[90m by time\u001b[39m        433 μs \u001b[0m\u001b[1m<\u001b[22m\n",
       "\n",
       " Memory estimate\u001b[90m: \u001b[39m\u001b[33m625.05 KiB\u001b[39m, allocs estimate\u001b[90m: \u001b[39m\u001b[33m2\u001b[39m."
      ]
     },
     "metadata": {},
     "output_type": "display_data"
    }
   ],
   "source": [
    "@benchmark boolean_indicator($img2DB)"
   ]
  },
  {
   "cell_type": "code",
   "execution_count": 38,
   "metadata": {},
   "outputs": [
    {
     "data": {
      "text/plain": [
       "DT1Wenbo_GPU (generic function with 1 method)"
      ]
     },
     "metadata": {},
     "output_type": "display_data"
    }
   ],
   "source": [
    "begin\n",
    "\tfunction leftEnd!(out,f)\n",
    "\t\ti = 1\n",
    "\t\twhile i <= length(f) && @inbounds !f[i]\n",
    "\t\t\ti += 1\n",
    "\t\tend\n",
    "\t\tout[i] = 0f0\n",
    "\t\ti -= 1\n",
    "\t\tct = 1\n",
    "\t\twhile i >= 0\n",
    "\t\t\t@inbounds out[i] = ct^2\n",
    "\t\t\tct += 1\n",
    "\t\t\ti -= 1\n",
    "\t\tend\n",
    "\t\treturn\n",
    "\tend\n",
    "\tkernel1 = @cuda launch=false leftEnd!(CuArray{Float32, 1}(undef, 1), CuArray{Bool, 1}(undef, 0))\n",
    "\n",
    "\tfunction rightEnd!(out,f)\n",
    "\t\ti = length(f)\n",
    "\t\twhile i >= 0 && @inbounds !f[i]\n",
    "\t\t\ti -= 1\n",
    "\t\tend\n",
    "\t\ti += 1\n",
    "\t\tct = 1\n",
    "\t\twhile i <= length(f)\n",
    "\t\t\t@inbounds out[i] = ct^2\n",
    "\t\t\tct += 1\n",
    "\t\t\ti += 1\n",
    "\t\tend\n",
    "\t\treturn\n",
    "\tend\n",
    "\tkernel2 = @cuda launch=false rightEnd!(CuArray{Float32, 1}(undef, 1), CuArray{Bool, 1}(undef, 0))\n",
    "\n",
    "\tfunction temp2!(out, f, ct)\n",
    "\t\ti = threadIdx().x\n",
    "\t\tblock_start = (i-1)*ct+1\n",
    "\t\tblock_end = i*ct\n",
    "\t\tprev= -1\n",
    "\t\tj = block_start\n",
    "\t\twhile j <= block_end\n",
    "\t\t\tif @inbounds f[j]\n",
    "\t\t\t\tprev = j\n",
    "\t\t\t\tbreak\n",
    "\t\t\tend\n",
    "\t\t\tj += 1\n",
    "\t\tend\n",
    "\t\tif prev == -1\n",
    "\t\t\treturn\n",
    "\t\tend\n",
    "\t\tj = prev+1\n",
    "\t\twhile j <= block_end\n",
    "\t\t\tif @inbounds f[j]\n",
    "\t\t\t\tct = 1\n",
    "\t\t\t\tout[j] = 0f0\n",
    "\t\t\t\twhile prev+2*ct-j <= 0\n",
    "\t\t\t\t\t@inbounds out[j-ct] = out[prev+ct] = ct^2\n",
    "\t\t\t\t\tct += 1\n",
    "\t\t\t\tend\n",
    "\t\t\t\tprev = j\n",
    "\t\t\tend\n",
    "\t\t\tj += 1\n",
    "\t\tend\n",
    "\t\twhile j <= length(f)\n",
    "\t\t\tif @inbounds f[j]\n",
    "\t\t\t\tct = 1\n",
    "\t\t\t\tout[j] = 0f0\n",
    "\t\t\t\twhile prev+2*ct-j <= 0\n",
    "\t\t\t\t\t@inbounds out[j-ct] = out[prev+ct] = ct^2\n",
    "\t\t\t\t\tct += 1\n",
    "\t\t\t\tend\n",
    "\t\t\t\treturn\n",
    "\t\t\tend\n",
    "\t\t\tj += 1\n",
    "\t\tend\n",
    "\t\treturn\n",
    "\tend\n",
    "\n",
    "\tkernel3 = @cuda launch=false temp2!(CuArray{Float32, 1}(undef, 0), CuArray{Bool, 1}(undef, 0),0)\n",
    "\tfunction DT1Wenbo_GPU(f)\n",
    "\t\tl = length(f)\n",
    "\t\toutput = CuArray{Float32, 1}(undef, l)\n",
    "\t\tct = cld(l, config_threads)\n",
    "\t\tthreads = fld(l,ct)\n",
    "\t\tkernel3(output, f, ct; threads)\n",
    "\t\tkernel1(output, f)\n",
    "\t\tkernel2(output, f)\n",
    "\t\t# f = boolean_indicator_GPU(f)\n",
    "\t\t# DT1Wenbo_GPU!(f)\n",
    "\t\treturn output\n",
    "\tend\n",
    "end"
   ]
  },
  {
   "cell_type": "code",
   "execution_count": 29,
   "metadata": {},
   "outputs": [
    {
     "data": {
      "text/plain": [
       "DT1Wenbo_GPU2 (generic function with 1 method)"
      ]
     },
     "metadata": {},
     "output_type": "display_data"
    }
   ],
   "source": [
    "begin\n",
    "\tfunction DT1Wenbo_GPU!(out, f)\n",
    "\t\tpointerA = 1\n",
    "\t\tl = length(f)\n",
    "\t\twhile pointerA <= l\n",
    "\t\t\twhile pointerA <= l && @inbounds f[pointerA]\n",
    "\t\t\t\tout[pointerA] = 0f0\n",
    "\t\t\t\tpointerA+=1\n",
    "\t\t\tend\n",
    "\t\t\tpointerB = pointerA\n",
    "\t\t\twhile pointerB <= l && @inbounds !f[pointerB]\n",
    "\t\t\t\tpointerB+=1\n",
    "\t\t\tend\n",
    "\t\t\tif pointerB > length(f)\n",
    "\t\t\t\tif pointerA == 1\n",
    "\t\t\t\t\ti=length(f)\n",
    "\t\t\t\t\twhile i>0\n",
    "\t\t\t\t\t\t@inbounds out[i]=1f10\n",
    "\t\t\t\t\t\ti-=1\n",
    "\t\t\t\t\tend\n",
    "\t\t\t\telse\n",
    "\t\t\t\t\ti = pointerA \n",
    "\t\t\t\t\tout[pointerA-1] = 0f0\n",
    "\t\t\t\t\ttemp=1\n",
    "\t\t\t\t\tl = length(f)\n",
    "\t\t\t\t\twhile i<=l\n",
    "\t\t\t\t\t\t@inbounds out[i]=temp^2\n",
    "\t\t\t\t\t\ti+=1\n",
    "\t\t\t\t\t\ttemp+=1\n",
    "\t\t\t\t\tend\n",
    "\t\t\t\tend\n",
    "\t\t\telse\n",
    "\t\t\t\tif pointerA == 1\n",
    "\t\t\t\t\tj = pointerB-1\n",
    "\t\t\t\t\tout[pointerB] = 0f0\n",
    "\t\t\t\t\ttemp=1\n",
    "\t\t\t\t\twhile j>0\n",
    "\t\t\t\t\t\t@inbounds out[j]=temp^2\n",
    "\t\t\t\t\t\tj-=1\n",
    "\t\t\t\t\t\ttemp+=1\n",
    "\t\t\t\t\tend\n",
    "\t\t\t\telse\n",
    "\t\t\t\t\tout[pointerA-1] = 0f0\n",
    "\t\t\t\t\tout[pointerB] = 0f0\n",
    "\t\t\t\t\ti = pointerA\n",
    "\t\t\t\t\tj = pointerB-1\n",
    "\t\t\t\t\ttemp=1\n",
    "\t\t\t\t\twhile i<=j\n",
    "\t\t\t\t\t\t@inbounds out[i]=out[j]=temp^2\n",
    "\t\t\t\t\t\ttemp+=1\n",
    "\t\t\t\t\t\ti+=1\n",
    "\t\t\t\t\t\tj-=1\n",
    "\t\t\t\t\tend\n",
    "\t\t\t\tend\n",
    "\t\t\tend\n",
    "\t\t\tpointerA=pointerB\n",
    "\t\tend\n",
    "\tend\n",
    "\n",
    "\tkernel4 = @cuda launch=false DT1Wenbo_GPU!(CuArray{Float32, 1}(undef, 0), CuArray{Bool, 1}(undef, 0))\n",
    "\n",
    "\tfunction DT1Wenbo_GPU2(f)\n",
    "\t\toutput = CuArray{Float32, 1}(undef, length(f))\n",
    "\t\tkernel4(output, f)\n",
    "\t\treturn output\n",
    "\tend\n",
    "end"
   ]
  },
  {
   "cell_type": "code",
   "execution_count": 47,
   "metadata": {},
   "outputs": [],
   "source": [
    "CUDA.reclaim()"
   ]
  },
  {
   "cell_type": "code",
   "execution_count": 30,
   "metadata": {},
   "outputs": [
    {
     "data": {
      "text/plain": [
       "4000-element Vector{Float32}:\n",
       " 0.0\n",
       " 0.0\n",
       " 1.0\n",
       " 0.0\n",
       " 0.0\n",
       " 0.0\n",
       " 0.0\n",
       " 0.0\n",
       " 1.0\n",
       " 0.0\n",
       " ⋮\n",
       " 1.0\n",
       " 0.0\n",
       " 0.0\n",
       " 1.0\n",
       " 0.0\n",
       " 1.0\n",
       " 1.0\n",
       " 0.0\n",
       " 1.0"
      ]
     },
     "metadata": {},
     "output_type": "display_data"
    }
   ],
   "source": [
    "rslt_gpu = Array(DT1Wenbo_GPU2(img1DbigG))"
   ]
  },
  {
   "cell_type": "code",
   "execution_count": 26,
   "metadata": {},
   "outputs": [
    {
     "data": {
      "text/plain": [
       "4000-element Vector{Float32}:\n",
       " 0.0\n",
       " 0.0\n",
       " 1.0\n",
       " 0.0\n",
       " 0.0\n",
       " 0.0\n",
       " 0.0\n",
       " 0.0\n",
       " 1.0\n",
       " 0.0\n",
       " ⋮\n",
       " 1.0\n",
       " 0.0\n",
       " 0.0\n",
       " 1.0\n",
       " 0.0\n",
       " 1.0\n",
       " 1.0\n",
       " 0.0\n",
       " 1.0"
      ]
     },
     "metadata": {},
     "output_type": "display_data"
    }
   ],
   "source": [
    "rslt_cpu = DT1Wenbo(img1DbigB)"
   ]
  },
  {
   "cell_type": "code",
   "execution_count": 28,
   "metadata": {},
   "outputs": [
    {
     "name": "stdout",
     "output_type": "stream",
     "text": [
      "2\t3\t4\t5\t6\t7\t8\t9\t10\t11\t12\t\n",
      "true\tfalse\ttrue\ttrue\ttrue\ttrue\ttrue\tfalse\ttrue\tfalse\ttrue\t\n",
      "0.0\t1.0\t0.0\t0.0\t0.0\t0.0\t0.0\t1.0\t0.0\t1.0\t0.0\t\n",
      "0.0\t1.0\t0.0\t1.0\t0.0\t2.3694275e-38\t0.0\t1.0\t0.0\t1.0\t0.0\t"
     ]
    }
   ],
   "source": [
    "n = 7\n",
    "\n",
    "for i = n-5: n+5\n",
    "    print(\"$(i)\\t\")\n",
    "end\n",
    "println()\n",
    "\n",
    "for i = n-5: n+5\n",
    "    print(\"$(img1DbigB[i])\\t\")\n",
    "end\n",
    "println()\n",
    "\n",
    "for i = n-5: n+5\n",
    "    print(\"$(rslt_cpu[i])\\t\")\n",
    "end\n",
    "println()\n",
    "\n",
    "for i = n-5: n+5\n",
    "    print(\"$(rslt_gpu[i])\\t\")\n",
    "end"
   ]
  },
  {
   "cell_type": "code",
   "execution_count": 31,
   "metadata": {},
   "outputs": [],
   "source": [
    "for i = 1: length(img1DG)\n",
    "    if rslt_cpu[i] != rslt_gpu[i]\n",
    "        println(\"i = $i, cpu: $(rslt_cpu[i]), gpu: $(rslt_gpu[i])\")\n",
    "    end\n",
    "end"
   ]
  },
  {
   "cell_type": "code",
   "execution_count": 32,
   "metadata": {},
   "outputs": [
    {
     "data": {
      "text/plain": [
       "\u001b[32m\u001b[1mTest Passed\u001b[22m\u001b[39m\n",
       "  Expression: Array(DT1Wenbo_GPU2(img1DbigG)) == DT1Wenbo(img1DbigB)\n",
       "   Evaluated: Float32[0.0, 0.0, 1.0, 0.0, 0.0, 0.0, 0.0, 0.0, 1.0, 0.0  …  0.0, 1.0, 0.0, 0.0, 1.0, 0.0, 1.0, 1.0, 0.0, 1.0] == Float32[0.0, 0.0, 1.0, 0.0, 0.0, 0.0, 0.0, 0.0, 1.0, 0.0  …  0.0, 1.0, 0.0, 0.0, 1.0, 0.0, 1.0, 1.0, 0.0, 1.0]"
      ]
     },
     "metadata": {},
     "output_type": "display_data"
    }
   ],
   "source": [
    "@test Array(DT1Wenbo_GPU2(img1DbigG)) == DT1Wenbo(img1DbigB)"
   ]
  },
  {
   "cell_type": "code",
   "execution_count": 77,
   "metadata": {},
   "outputs": [
    {
     "data": {
      "text/plain": [
       "DT2Wenbo (generic function with 1 method)"
      ]
     },
     "metadata": {},
     "output_type": "display_data"
    }
   ],
   "source": [
    "begin\n",
    "\tfunction encode_GPU!(out, leftD, rightf)\n",
    "\t\tout[1] = -leftD\n",
    "\t\tif rightf == 1f10\n",
    "\t\t\treturn nothing\n",
    "\t\tend\n",
    "\t\tidx = 0\n",
    "\t\twhile(rightf>1)\n",
    "\t\t\trightf  /=10\n",
    "\t\t\tidx+=1 \n",
    "\t\tend\n",
    "        out[1] += -idx/10-rightf/10\n",
    "\t\treturn nothing\n",
    "\tend\n",
    "\tencode_kernel = @cuda launch=false encode_GPU!(CuArray{Float32, 1}(undef, 1),0f0,0f0)\n",
    "\n",
    "\tfunction decode_GPU!(out, curr)\t\n",
    "\t\tcurr *= -10   \t\t\t\t\n",
    "\t\ttemp = Int(floor(curr))\t\t\n",
    "\t\tcurr -= temp \t\t\t\t\n",
    "\t\tif curr == 0\n",
    "\t\t\tout[1] = 1f10\n",
    "\t\t\treturn nothing\n",
    "\t\tend\n",
    "\t\ttemp %= 10\n",
    "\t\twhile temp > 0\n",
    "\t\t\ttemp -= 1\n",
    "\t\t\tcurr*=10\n",
    "\t\tend\n",
    "\t\tout[1] = round(curr)\n",
    "\t\treturn nothing\n",
    "\tend\n",
    "\tdecode_kernel = @cuda launch=false decode_GPU!(CuArray{Float32, 1}(undef, 1),0f0)\n",
    "\n",
    "\tfunction DT2Helper_GPU!(f)\n",
    "\t\tl = length(f)\n",
    "\t\tpointerA = 1\n",
    "\t\twhile pointerA<=l && @inbounds f[pointerA] <= 1\n",
    "\t\t\tpointerA += 1\n",
    "\t\tend\n",
    "\t\tp = 0\n",
    "\t\twhile pointerA<=l\n",
    "\t\t\t@inbounds curr = f[pointerA]\n",
    "\t\t\tprev = curr\n",
    "\t\t\ttemp = min(pointerA-1, p+1)\n",
    "\t\t\tp = 0\n",
    "\t\t\twhile (0 < temp)\n",
    "\t\t\t\t@inbounds fi = f[pointerA-temp]\n",
    "\t\t\t\tfi = fi < 0 ? decode(fi) : fi\n",
    "\t\t\t\tnewDistance = muladd(temp, temp, fi)\n",
    "\t\t\t\tif newDistance < curr\n",
    "\t\t\t\t\tcurr = newDistance\n",
    "\t\t\t\t\tp = temp\n",
    "\t\t\t\tend\n",
    "\t\t\t\ttemp -= 1\n",
    "\t\t\tend\n",
    "\t\t\ttemp = 1\n",
    "\t\t\ttempl = length(f) - pointerA\n",
    "\t\t\twhile (temp <= templ && muladd(temp, temp, -curr) < 0)\n",
    "\t\t\t\t@inbounds curr = min(curr, muladd(temp, temp, f[pointerA+temp]))\n",
    "\t\t\t\ttemp += 1\n",
    "\t\t\tend\n",
    "\t\t\t@inbounds f[pointerA] = encode(curr, prev)\n",
    "\t\t\t# end\n",
    "\t\t\tpointerA+=1\n",
    "\t\t\twhile pointerA<=l && @inbounds f[pointerA] <= 1\n",
    "\t\t\t\tpointerA += 1\n",
    "\t\t\tend\n",
    "\t\tend\n",
    "\t\ti = 0\n",
    "\t\twhile i<l\n",
    "\t\t\ti+=1\n",
    "\t\t\tf[i] = floor(abs(f[i]))\n",
    "\t\tend\n",
    "\tend\n",
    "\tfunction DT2WenboA!(f)\n",
    "\t\tfor i in axes(f, 1)\n",
    "\t\t\t@inbounds DT1Wenbo!(@view(f[i, :]))\n",
    "\t\tend\n",
    "\t\tfor i in axes(f, 2)\n",
    "\t\t\t@inbounds DT2Helper!(@view(f[:,i]))\n",
    "\t\tend\n",
    "\tend\n",
    "\tfunction DT2WenboB!(f)\n",
    "\t\tThreads.@threads for i in axes(f, 1)\n",
    "\t\t\t@inbounds DT1Wenbo!(@view(f[i, :]))\n",
    "\t\tend\n",
    "\t\tThreads.@threads for i in axes(f, 2)\n",
    "\t\t\t@inbounds DT2Helper!(@view(f[:,i]))\n",
    "\t\tend\n",
    "\tend\n",
    "\tfunction DT2Wenbo(f)\n",
    "\t\tf = boolean_indicator(f)\n",
    "\t\tDT2tf! = length(f) > 2700 && Threads.nthreads()>1 ?  DT2WenboB! : DT2WenboA!\n",
    "\t\tDT2tf!(f)\n",
    "\t\treturn f\n",
    "\tend\n",
    "end"
   ]
  },
  {
   "cell_type": "code",
   "execution_count": 85,
   "metadata": {},
   "outputs": [
    {
     "data": {
      "text/plain": [
       "-13.224999f0"
      ]
     },
     "metadata": {},
     "output_type": "display_data"
    }
   ],
   "source": [
    "encode_GPU(13,25)"
   ]
  },
  {
   "cell_type": "code",
   "execution_count": 88,
   "metadata": {},
   "outputs": [
    {
     "data": {
      "text/plain": [
       "BenchmarkTools.Trial: 10000 samples with 1000 evaluations.\n",
       " Range \u001b[90m(\u001b[39m\u001b[36m\u001b[1mmin\u001b[22m\u001b[39m … \u001b[35mmax\u001b[39m\u001b[90m):  \u001b[39m\u001b[36m\u001b[1m0.900 ns\u001b[22m\u001b[39m … \u001b[35m30.500 ns\u001b[39m  \u001b[90m┊\u001b[39m GC \u001b[90m(\u001b[39mmin … max\u001b[90m): \u001b[39m0.00% … 0.00%\n",
       " Time  \u001b[90m(\u001b[39m\u001b[34m\u001b[1mmedian\u001b[22m\u001b[39m\u001b[90m):     \u001b[39m\u001b[34m\u001b[1m1.000 ns              \u001b[22m\u001b[39m\u001b[90m┊\u001b[39m GC \u001b[90m(\u001b[39mmedian\u001b[90m):    \u001b[39m0.00%\n",
       " Time  \u001b[90m(\u001b[39m\u001b[32m\u001b[1mmean\u001b[22m\u001b[39m ± \u001b[32mσ\u001b[39m\u001b[90m):   \u001b[39m\u001b[32m\u001b[1m1.090 ns\u001b[22m\u001b[39m ± \u001b[32m 0.992 ns\u001b[39m  \u001b[90m┊\u001b[39m GC \u001b[90m(\u001b[39mmean ± σ\u001b[90m):  \u001b[39m0.00% ± 0.00%\n",
       "\n",
       "  \u001b[39m▄\u001b[39m \u001b[39m \u001b[39m \u001b[39m \u001b[39m \u001b[39m \u001b[39m \u001b[34m█\u001b[39m\u001b[39m \u001b[39m \u001b[39m \u001b[39m \u001b[39m \u001b[39m \u001b[39m \u001b[32m▅\u001b[39m\u001b[39m \u001b[39m \u001b[39m \u001b[39m \u001b[39m \u001b[39m \u001b[39m \u001b[39m▂\u001b[39m \u001b[39m \u001b[39m \u001b[39m \u001b[39m \u001b[39m \u001b[39m \u001b[39m \u001b[39m \u001b[39m \u001b[39m \u001b[39m \u001b[39m \u001b[39m \u001b[39m \u001b[39m \u001b[39m \u001b[39m \u001b[39m \u001b[39m \u001b[39m \u001b[39m \u001b[39m \u001b[39m \u001b[39m \u001b[39m \u001b[39m \u001b[39m \u001b[39m \u001b[39m \u001b[39m \u001b[39m \u001b[39m \u001b[39m \u001b[39m▁\n",
       "  \u001b[39m█\u001b[39m▁\u001b[39m▁\u001b[39m▁\u001b[39m▁\u001b[39m▁\u001b[39m▁\u001b[39m▁\u001b[34m█\u001b[39m\u001b[39m▁\u001b[39m▁\u001b[39m▁\u001b[39m▁\u001b[39m▁\u001b[39m▁\u001b[39m▁\u001b[32m█\u001b[39m\u001b[39m▁\u001b[39m▁\u001b[39m▁\u001b[39m▁\u001b[39m▁\u001b[39m▁\u001b[39m▁\u001b[39m█\u001b[39m▁\u001b[39m▁\u001b[39m▁\u001b[39m▁\u001b[39m▁\u001b[39m▁\u001b[39m▁\u001b[39m▁\u001b[39m▁\u001b[39m▁\u001b[39m▁\u001b[39m▁\u001b[39m▁\u001b[39m▁\u001b[39m▁\u001b[39m▁\u001b[39m▃\u001b[39m▁\u001b[39m▁\u001b[39m▁\u001b[39m▁\u001b[39m▁\u001b[39m▁\u001b[39m▁\u001b[39m█\u001b[39m▁\u001b[39m▁\u001b[39m▁\u001b[39m▁\u001b[39m▁\u001b[39m▁\u001b[39m▁\u001b[39m█\u001b[39m \u001b[39m█\n",
       "  0.9 ns\u001b[90m       \u001b[39m\u001b[90mHistogram: \u001b[39m\u001b[90m\u001b[1mlog(\u001b[22m\u001b[39m\u001b[90mfrequency\u001b[39m\u001b[90m\u001b[1m)\u001b[22m\u001b[39m\u001b[90m by time\u001b[39m      1.6 ns \u001b[0m\u001b[1m<\u001b[22m\n",
       "\n",
       " Memory estimate\u001b[90m: \u001b[39m\u001b[33m0 bytes\u001b[39m, allocs estimate\u001b[90m: \u001b[39m\u001b[33m0\u001b[39m."
      ]
     },
     "metadata": {},
     "output_type": "display_data"
    }
   ],
   "source": [
    "@benchmark decode(-13.224999f0)"
   ]
  },
  {
   "cell_type": "code",
   "execution_count": 86,
   "metadata": {},
   "outputs": [
    {
     "data": {
      "text/plain": [
       "BenchmarkTools.Trial: 10000 samples with 10 evaluations.\n",
       " Range \u001b[90m(\u001b[39m\u001b[36m\u001b[1mmin\u001b[22m\u001b[39m … \u001b[35mmax\u001b[39m\u001b[90m):  \u001b[39m\u001b[36m\u001b[1m1.360 μs\u001b[22m\u001b[39m … \u001b[35m 1.445 ms\u001b[39m  \u001b[90m┊\u001b[39m GC \u001b[90m(\u001b[39mmin … max\u001b[90m): \u001b[39m0.00% … 0.00%\n",
       " Time  \u001b[90m(\u001b[39m\u001b[34m\u001b[1mmedian\u001b[22m\u001b[39m\u001b[90m):     \u001b[39m\u001b[34m\u001b[1m1.710 μs              \u001b[22m\u001b[39m\u001b[90m┊\u001b[39m GC \u001b[90m(\u001b[39mmedian\u001b[90m):    \u001b[39m0.00%\n",
       " Time  \u001b[90m(\u001b[39m\u001b[32m\u001b[1mmean\u001b[22m\u001b[39m ± \u001b[32mσ\u001b[39m\u001b[90m):   \u001b[39m\u001b[32m\u001b[1m2.272 μs\u001b[22m\u001b[39m ± \u001b[32m22.292 μs\u001b[39m  \u001b[90m┊\u001b[39m GC \u001b[90m(\u001b[39mmean ± σ\u001b[90m):  \u001b[39m0.00% ± 0.00%\n",
       "\n",
       "  \u001b[39m▅\u001b[39m▇\u001b[39m█\u001b[39m▇\u001b[39m▆\u001b[39m▆\u001b[39m▅\u001b[39m▇\u001b[34m█\u001b[39m\u001b[39m▇\u001b[39m▇\u001b[39m▇\u001b[39m▅\u001b[39m▄\u001b[39m▃\u001b[39m▂\u001b[39m▂\u001b[39m▁\u001b[39m \u001b[39m▁\u001b[39m \u001b[32m \u001b[39m\u001b[39m \u001b[39m \u001b[39m \u001b[39m \u001b[39m \u001b[39m \u001b[39m \u001b[39m \u001b[39m \u001b[39m \u001b[39m \u001b[39m \u001b[39m \u001b[39m \u001b[39m \u001b[39m \u001b[39m \u001b[39m \u001b[39m \u001b[39m \u001b[39m \u001b[39m \u001b[39m \u001b[39m \u001b[39m \u001b[39m \u001b[39m \u001b[39m \u001b[39m \u001b[39m \u001b[39m \u001b[39m \u001b[39m \u001b[39m \u001b[39m \u001b[39m \u001b[39m \u001b[39m▃\n",
       "  \u001b[39m█\u001b[39m█\u001b[39m█\u001b[39m█\u001b[39m█\u001b[39m█\u001b[39m█\u001b[39m█\u001b[34m█\u001b[39m\u001b[39m█\u001b[39m█\u001b[39m█\u001b[39m█\u001b[39m█\u001b[39m█\u001b[39m█\u001b[39m█\u001b[39m█\u001b[39m█\u001b[39m█\u001b[39m█\u001b[32m▇\u001b[39m\u001b[39m█\u001b[39m█\u001b[39m▇\u001b[39m▇\u001b[39m█\u001b[39m▇\u001b[39m█\u001b[39m▇\u001b[39m▇\u001b[39m▇\u001b[39m▇\u001b[39m▇\u001b[39m▇\u001b[39m▇\u001b[39m▆\u001b[39m▆\u001b[39m▇\u001b[39m▇\u001b[39m█\u001b[39m█\u001b[39m▇\u001b[39m▇\u001b[39m▇\u001b[39m▇\u001b[39m█\u001b[39m▇\u001b[39m▆\u001b[39m▇\u001b[39m▅\u001b[39m▅\u001b[39m▅\u001b[39m▅\u001b[39m▅\u001b[39m▆\u001b[39m▅\u001b[39m▅\u001b[39m \u001b[39m█\n",
       "  1.36 μs\u001b[90m      \u001b[39m\u001b[90mHistogram: \u001b[39m\u001b[90m\u001b[1mlog(\u001b[22m\u001b[39m\u001b[90mfrequency\u001b[39m\u001b[90m\u001b[1m)\u001b[22m\u001b[39m\u001b[90m by time\u001b[39m     3.89 μs \u001b[0m\u001b[1m<\u001b[22m\n",
       "\n",
       " Memory estimate\u001b[90m: \u001b[39m\u001b[33m720 bytes\u001b[39m, allocs estimate\u001b[90m: \u001b[39m\u001b[33m18\u001b[39m."
      ]
     },
     "metadata": {},
     "output_type": "display_data"
    }
   ],
   "source": [
    "@benchmark decode_kernel(temptemp,-13.224999f0)"
   ]
  }
 ],
 "metadata": {
  "kernelspec": {
   "display_name": "Julia 1.7.2",
   "language": "julia",
   "name": "julia-1.7"
  },
  "language_info": {
   "file_extension": ".jl",
   "mimetype": "application/julia",
   "name": "julia",
   "version": "1.7.2"
  },
  "orig_nbformat": 4
 },
 "nbformat": 4,
 "nbformat_minor": 2
}
